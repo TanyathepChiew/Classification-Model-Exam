{
 "cells": [
  {
   "cell_type": "code",
   "execution_count": 1,
   "id": "90dca1bf-d411-4fe5-b32a-898fb07bb0ad",
   "metadata": {
    "tags": []
   },
   "outputs": [],
   "source": [
    "import numpy as np\n",
    "import pandas as pd\n",
    "from itertools import combinations\n",
    "import matplotlib as mpl\n",
    "import seaborn as sns\n",
    "import matplotlib.pyplot as plt\n",
    "from sklearn.model_selection import train_test_split\n",
    "from sklearn import tree\n",
    "from sklearn.tree import DecisionTreeClassifier\n",
    "from sklearn.metrics import classification_report\n",
    "from sklearn import metrics\n",
    "from sklearn.ensemble import RandomForestClassifier"
   ]
  },
  {
   "cell_type": "code",
   "execution_count": 2,
   "id": "11f3c4b1-3895-44b1-a647-bbebf67a4da0",
   "metadata": {
    "tags": []
   },
   "outputs": [
    {
     "data": {
      "text/html": [
       "<div>\n",
       "<style scoped>\n",
       "    .dataframe tbody tr th:only-of-type {\n",
       "        vertical-align: middle;\n",
       "    }\n",
       "\n",
       "    .dataframe tbody tr th {\n",
       "        vertical-align: top;\n",
       "    }\n",
       "\n",
       "    .dataframe thead th {\n",
       "        text-align: right;\n",
       "    }\n",
       "</style>\n",
       "<table border=\"1\" class=\"dataframe\">\n",
       "  <thead>\n",
       "    <tr style=\"text-align: right;\">\n",
       "      <th></th>\n",
       "      <th>age</th>\n",
       "      <th>sex</th>\n",
       "      <th>chest pain type</th>\n",
       "      <th>resting bp s</th>\n",
       "      <th>cholesterol</th>\n",
       "      <th>fasting blood sugar</th>\n",
       "      <th>resting ecg</th>\n",
       "      <th>max heart rate</th>\n",
       "      <th>exercise angina</th>\n",
       "      <th>oldpeak</th>\n",
       "      <th>ST slope</th>\n",
       "      <th>target</th>\n",
       "    </tr>\n",
       "  </thead>\n",
       "  <tbody>\n",
       "    <tr>\n",
       "      <th>0</th>\n",
       "      <td>40</td>\n",
       "      <td>1</td>\n",
       "      <td>2</td>\n",
       "      <td>140</td>\n",
       "      <td>289</td>\n",
       "      <td>0</td>\n",
       "      <td>0</td>\n",
       "      <td>172</td>\n",
       "      <td>0</td>\n",
       "      <td>0.0</td>\n",
       "      <td>1</td>\n",
       "      <td>0</td>\n",
       "    </tr>\n",
       "    <tr>\n",
       "      <th>1</th>\n",
       "      <td>49</td>\n",
       "      <td>0</td>\n",
       "      <td>3</td>\n",
       "      <td>160</td>\n",
       "      <td>180</td>\n",
       "      <td>0</td>\n",
       "      <td>0</td>\n",
       "      <td>156</td>\n",
       "      <td>0</td>\n",
       "      <td>1.0</td>\n",
       "      <td>2</td>\n",
       "      <td>1</td>\n",
       "    </tr>\n",
       "    <tr>\n",
       "      <th>2</th>\n",
       "      <td>37</td>\n",
       "      <td>1</td>\n",
       "      <td>2</td>\n",
       "      <td>130</td>\n",
       "      <td>283</td>\n",
       "      <td>0</td>\n",
       "      <td>1</td>\n",
       "      <td>98</td>\n",
       "      <td>0</td>\n",
       "      <td>0.0</td>\n",
       "      <td>1</td>\n",
       "      <td>0</td>\n",
       "    </tr>\n",
       "    <tr>\n",
       "      <th>3</th>\n",
       "      <td>48</td>\n",
       "      <td>0</td>\n",
       "      <td>4</td>\n",
       "      <td>138</td>\n",
       "      <td>214</td>\n",
       "      <td>0</td>\n",
       "      <td>0</td>\n",
       "      <td>108</td>\n",
       "      <td>1</td>\n",
       "      <td>1.5</td>\n",
       "      <td>2</td>\n",
       "      <td>1</td>\n",
       "    </tr>\n",
       "    <tr>\n",
       "      <th>4</th>\n",
       "      <td>54</td>\n",
       "      <td>1</td>\n",
       "      <td>3</td>\n",
       "      <td>150</td>\n",
       "      <td>195</td>\n",
       "      <td>0</td>\n",
       "      <td>0</td>\n",
       "      <td>122</td>\n",
       "      <td>0</td>\n",
       "      <td>0.0</td>\n",
       "      <td>1</td>\n",
       "      <td>0</td>\n",
       "    </tr>\n",
       "    <tr>\n",
       "      <th>5</th>\n",
       "      <td>39</td>\n",
       "      <td>1</td>\n",
       "      <td>3</td>\n",
       "      <td>120</td>\n",
       "      <td>339</td>\n",
       "      <td>0</td>\n",
       "      <td>0</td>\n",
       "      <td>170</td>\n",
       "      <td>0</td>\n",
       "      <td>0.0</td>\n",
       "      <td>1</td>\n",
       "      <td>0</td>\n",
       "    </tr>\n",
       "    <tr>\n",
       "      <th>6</th>\n",
       "      <td>45</td>\n",
       "      <td>0</td>\n",
       "      <td>2</td>\n",
       "      <td>130</td>\n",
       "      <td>237</td>\n",
       "      <td>0</td>\n",
       "      <td>0</td>\n",
       "      <td>170</td>\n",
       "      <td>0</td>\n",
       "      <td>0.0</td>\n",
       "      <td>1</td>\n",
       "      <td>0</td>\n",
       "    </tr>\n",
       "    <tr>\n",
       "      <th>7</th>\n",
       "      <td>54</td>\n",
       "      <td>1</td>\n",
       "      <td>2</td>\n",
       "      <td>110</td>\n",
       "      <td>208</td>\n",
       "      <td>0</td>\n",
       "      <td>0</td>\n",
       "      <td>142</td>\n",
       "      <td>0</td>\n",
       "      <td>0.0</td>\n",
       "      <td>1</td>\n",
       "      <td>0</td>\n",
       "    </tr>\n",
       "    <tr>\n",
       "      <th>8</th>\n",
       "      <td>37</td>\n",
       "      <td>1</td>\n",
       "      <td>4</td>\n",
       "      <td>140</td>\n",
       "      <td>207</td>\n",
       "      <td>0</td>\n",
       "      <td>0</td>\n",
       "      <td>130</td>\n",
       "      <td>1</td>\n",
       "      <td>1.5</td>\n",
       "      <td>2</td>\n",
       "      <td>1</td>\n",
       "    </tr>\n",
       "    <tr>\n",
       "      <th>9</th>\n",
       "      <td>48</td>\n",
       "      <td>0</td>\n",
       "      <td>2</td>\n",
       "      <td>120</td>\n",
       "      <td>284</td>\n",
       "      <td>0</td>\n",
       "      <td>0</td>\n",
       "      <td>120</td>\n",
       "      <td>0</td>\n",
       "      <td>0.0</td>\n",
       "      <td>1</td>\n",
       "      <td>0</td>\n",
       "    </tr>\n",
       "  </tbody>\n",
       "</table>\n",
       "</div>"
      ],
      "text/plain": [
       "   age  sex  chest pain type  resting bp s  cholesterol  fasting blood sugar  \\\n",
       "0   40    1                2           140          289                    0   \n",
       "1   49    0                3           160          180                    0   \n",
       "2   37    1                2           130          283                    0   \n",
       "3   48    0                4           138          214                    0   \n",
       "4   54    1                3           150          195                    0   \n",
       "5   39    1                3           120          339                    0   \n",
       "6   45    0                2           130          237                    0   \n",
       "7   54    1                2           110          208                    0   \n",
       "8   37    1                4           140          207                    0   \n",
       "9   48    0                2           120          284                    0   \n",
       "\n",
       "   resting ecg  max heart rate  exercise angina  oldpeak  ST slope  target  \n",
       "0            0             172                0      0.0         1       0  \n",
       "1            0             156                0      1.0         2       1  \n",
       "2            1              98                0      0.0         1       0  \n",
       "3            0             108                1      1.5         2       1  \n",
       "4            0             122                0      0.0         1       0  \n",
       "5            0             170                0      0.0         1       0  \n",
       "6            0             170                0      0.0         1       0  \n",
       "7            0             142                0      0.0         1       0  \n",
       "8            0             130                1      1.5         2       1  \n",
       "9            0             120                0      0.0         1       0  "
      ]
     },
     "execution_count": 2,
     "metadata": {},
     "output_type": "execute_result"
    }
   ],
   "source": [
    "heart_df = pd.read_csv('heart_statlog_cleveland_hungary_final.csv')\n",
    "heart_df.head(10)"
   ]
  },
  {
   "cell_type": "code",
   "execution_count": 3,
   "id": "78cbb4e2-617e-4769-bc13-6c58087062be",
   "metadata": {
    "tags": []
   },
   "outputs": [],
   "source": [
    "heart_df['resting bp s'].replace(0, np.nan, inplace=True)\n",
    "heart_df['cholesterol'].replace(0, np.nan, inplace=True)\n",
    "heart_df['ST slope'].replace(0, np.nan, inplace=True)"
   ]
  },
  {
   "cell_type": "code",
   "execution_count": 4,
   "id": "90eef1df-b542-4d4a-b8f9-54c88b567c6e",
   "metadata": {
    "tags": []
   },
   "outputs": [
    {
     "data": {
      "text/plain": [
       "age                      0\n",
       "sex                      0\n",
       "chest pain type          0\n",
       "resting bp s             1\n",
       "cholesterol            172\n",
       "fasting blood sugar      0\n",
       "resting ecg              0\n",
       "max heart rate           0\n",
       "exercise angina          0\n",
       "oldpeak                  0\n",
       "ST slope                 1\n",
       "target                   0\n",
       "dtype: int64"
      ]
     },
     "execution_count": 4,
     "metadata": {},
     "output_type": "execute_result"
    }
   ],
   "source": [
    "heart_df.isnull().sum()"
   ]
  },
  {
   "cell_type": "code",
   "execution_count": 5,
   "id": "a8ac81c6-337e-4c96-a023-b580c16326f7",
   "metadata": {},
   "outputs": [],
   "source": [
    "heart_df.dropna(inplace=True)"
   ]
  },
  {
   "cell_type": "code",
   "execution_count": 6,
   "id": "263eb808-d7b6-4da5-90c7-5e3cf7f4225c",
   "metadata": {
    "tags": []
   },
   "outputs": [
    {
     "name": "stdout",
     "output_type": "stream",
     "text": [
      "<class 'pandas.core.frame.DataFrame'>\n",
      "Index: 1017 entries, 0 to 1189\n",
      "Data columns (total 12 columns):\n",
      " #   Column               Non-Null Count  Dtype  \n",
      "---  ------               --------------  -----  \n",
      " 0   age                  1017 non-null   int64  \n",
      " 1   sex                  1017 non-null   int64  \n",
      " 2   chest pain type      1017 non-null   int64  \n",
      " 3   resting bp s         1017 non-null   float64\n",
      " 4   cholesterol          1017 non-null   float64\n",
      " 5   fasting blood sugar  1017 non-null   int64  \n",
      " 6   resting ecg          1017 non-null   int64  \n",
      " 7   max heart rate       1017 non-null   int64  \n",
      " 8   exercise angina      1017 non-null   int64  \n",
      " 9   oldpeak              1017 non-null   float64\n",
      " 10  ST slope             1017 non-null   float64\n",
      " 11  target               1017 non-null   int64  \n",
      "dtypes: float64(4), int64(8)\n",
      "memory usage: 103.3 KB\n"
     ]
    }
   ],
   "source": [
    "heart_df.info()"
   ]
  },
  {
   "cell_type": "code",
   "execution_count": 7,
   "id": "40426f2f-fcd9-4c81-a498-3ff326c208a0",
   "metadata": {},
   "outputs": [
    {
     "data": {
      "text/html": [
       "<div>\n",
       "<style scoped>\n",
       "    .dataframe tbody tr th:only-of-type {\n",
       "        vertical-align: middle;\n",
       "    }\n",
       "\n",
       "    .dataframe tbody tr th {\n",
       "        vertical-align: top;\n",
       "    }\n",
       "\n",
       "    .dataframe thead th {\n",
       "        text-align: right;\n",
       "    }\n",
       "</style>\n",
       "<table border=\"1\" class=\"dataframe\">\n",
       "  <thead>\n",
       "    <tr style=\"text-align: right;\">\n",
       "      <th></th>\n",
       "      <th>age</th>\n",
       "      <th>resting bp s</th>\n",
       "      <th>cholesterol</th>\n",
       "      <th>max heart rate</th>\n",
       "      <th>oldpeak</th>\n",
       "    </tr>\n",
       "  </thead>\n",
       "  <tbody>\n",
       "    <tr>\n",
       "      <th>mean</th>\n",
       "      <td>53.280236</td>\n",
       "      <td>132.554572</td>\n",
       "      <td>245.956735</td>\n",
       "      <td>142.741396</td>\n",
       "      <td>0.940118</td>\n",
       "    </tr>\n",
       "    <tr>\n",
       "      <th>std</th>\n",
       "      <td>9.408759</td>\n",
       "      <td>17.451147</td>\n",
       "      <td>57.250469</td>\n",
       "      <td>24.521584</td>\n",
       "      <td>1.093810</td>\n",
       "    </tr>\n",
       "    <tr>\n",
       "      <th>min</th>\n",
       "      <td>28.000000</td>\n",
       "      <td>92.000000</td>\n",
       "      <td>85.000000</td>\n",
       "      <td>69.000000</td>\n",
       "      <td>-0.100000</td>\n",
       "    </tr>\n",
       "    <tr>\n",
       "      <th>25%</th>\n",
       "      <td>46.000000</td>\n",
       "      <td>120.000000</td>\n",
       "      <td>209.000000</td>\n",
       "      <td>125.000000</td>\n",
       "      <td>0.000000</td>\n",
       "    </tr>\n",
       "    <tr>\n",
       "      <th>50%</th>\n",
       "      <td>54.000000</td>\n",
       "      <td>130.000000</td>\n",
       "      <td>240.000000</td>\n",
       "      <td>144.000000</td>\n",
       "      <td>0.600000</td>\n",
       "    </tr>\n",
       "    <tr>\n",
       "      <th>75%</th>\n",
       "      <td>60.000000</td>\n",
       "      <td>140.000000</td>\n",
       "      <td>276.000000</td>\n",
       "      <td>161.000000</td>\n",
       "      <td>1.600000</td>\n",
       "    </tr>\n",
       "    <tr>\n",
       "      <th>max</th>\n",
       "      <td>77.000000</td>\n",
       "      <td>200.000000</td>\n",
       "      <td>603.000000</td>\n",
       "      <td>202.000000</td>\n",
       "      <td>6.200000</td>\n",
       "    </tr>\n",
       "  </tbody>\n",
       "</table>\n",
       "</div>"
      ],
      "text/plain": [
       "            age  resting bp s  cholesterol  max heart rate   oldpeak\n",
       "mean  53.280236    132.554572   245.956735      142.741396  0.940118\n",
       "std    9.408759     17.451147    57.250469       24.521584  1.093810\n",
       "min   28.000000     92.000000    85.000000       69.000000 -0.100000\n",
       "25%   46.000000    120.000000   209.000000      125.000000  0.000000\n",
       "50%   54.000000    130.000000   240.000000      144.000000  0.600000\n",
       "75%   60.000000    140.000000   276.000000      161.000000  1.600000\n",
       "max   77.000000    200.000000   603.000000      202.000000  6.200000"
      ]
     },
     "execution_count": 7,
     "metadata": {},
     "output_type": "execute_result"
    }
   ],
   "source": [
    "heart_df[['age', 'resting bp s', 'cholesterol','max heart rate','oldpeak']].describe().drop('count')"
   ]
  },
  {
   "cell_type": "code",
   "execution_count": 8,
   "id": "70602fbe-a658-404c-844b-b9545ef21558",
   "metadata": {},
   "outputs": [
    {
     "data": {
      "image/png": "[encoded data removed]",
      "text/plain": [
       "<Figure size 640x480 with 1 Axes>"
      ]
     },
     "metadata": {},
     "output_type": "display_data"
    }
   ],
   "source": [
    "# Generate random data for the histogram\n",
    "data = heart_df['age']\n",
    " \n",
    "# Plotting a basic histogram\n",
    "plt.hist(data, color='skyblue', edgecolor='black')\n",
    " \n",
    "# Adding labels and title\n",
    "plt.xlabel('age (year)')\n",
    "plt.ylabel('Frequency')\n",
    " \n",
    "# Display the plot\n",
    "plt.show()"
   ]
  },
  {
   "cell_type": "code",
   "execution_count": 9,
   "id": "3e2e3e28-796e-4c5e-bc27-84cdc1bcc408",
   "metadata": {},
   "outputs": [
    {
     "data": {
      "image/png": "[encoded data removed]",
      "text/plain": [
       "<Figure size 640x480 with 1 Axes>"
      ]
     },
     "metadata": {},
     "output_type": "display_data"
    }
   ],
   "source": [
    "# Generate random data for the histogram\n",
    "data = heart_df['resting bp s']\n",
    " \n",
    "# Plotting a basic histogram\n",
    "plt.hist(data, color='skyblue', edgecolor='black')\n",
    " \n",
    "# Adding labels and title\n",
    "plt.xlabel('resting bp s (mm Hg)')\n",
    "plt.ylabel('Frequency')\n",
    " \n",
    "# Display the plot\n",
    "plt.show()"
   ]
  },
  {
   "cell_type": "code",
   "execution_count": 10,
   "id": "05c86765-d668-4f57-8581-f11aff75db54",
   "metadata": {
    "tags": []
   },
   "outputs": [
    {
     "data": {
      "image/png": "[encoded data removed]",
      "text/plain": [
       "<Figure size 640x480 with 1 Axes>"
      ]
     },
     "metadata": {},
     "output_type": "display_data"
    }
   ],
   "source": [
    "# Generate random data for the histogram\n",
    "data = heart_df['cholesterol']\n",
    " \n",
    "# Plotting a basic histogram\n",
    "plt.hist(data, color='skyblue', edgecolor='black')\n",
    " \n",
    "# Adding labels and title\n",
    "plt.xlabel('cholesterol (mg/dl)')\n",
    "plt.ylabel('Frequency')\n",
    " \n",
    "# Display the plot\n",
    "plt.show()"
   ]
  },
  {
   "cell_type": "code",
   "execution_count": 11,
   "id": "29e88e00-8d8b-4d6d-8c6a-78ae9c3228b0",
   "metadata": {},
   "outputs": [
    {
     "data": {
      "image/png": "[encoded data removed]",
      "text/plain": [
       "<Figure size 640x480 with 1 Axes>"
      ]
     },
     "metadata": {},
     "output_type": "display_data"
    }
   ],
   "source": [
    "# Generate random data for the histogram\n",
    "data = heart_df['max heart rate']\n",
    " \n",
    "# Plotting a basic histogram\n",
    "plt.hist(data, color='skyblue', edgecolor='black')\n",
    " \n",
    "# Adding labels and title\n",
    "plt.xlabel('max heart rate (beats per minute)')\n",
    "plt.ylabel('Frequency')\n",
    " \n",
    "# Display the plot\n",
    "plt.show()"
   ]
  },
  {
   "cell_type": "code",
   "execution_count": 12,
   "id": "42e1f11b-67fd-4026-b798-1043733e6efa",
   "metadata": {},
   "outputs": [
    {
     "data": {
      "image/png": "[encoded data removed]",
      "text/plain": [
       "<Figure size 640x480 with 1 Axes>"
      ]
     },
     "metadata": {},
     "output_type": "display_data"
    }
   ],
   "source": [
    "# Generate random data for the histogram\n",
    "data = heart_df['oldpeak']\n",
    " \n",
    "# Plotting a basic histogram\n",
    "plt.hist(data, color='skyblue', edgecolor='black')\n",
    " \n",
    "# Adding labels and title\n",
    "plt.xlabel('oldpeak depression')\n",
    "plt.ylabel('Frequency')\n",
    " \n",
    "# Display the plot\n",
    "plt.show()"
   ]
  },
  {
   "cell_type": "code",
   "execution_count": 13,
   "id": "b7a106c6-d9e9-4d77-9151-948b1b530545",
   "metadata": {
    "tags": []
   },
   "outputs": [
    {
     "data": {
      "text/plain": [
       "Text(0.5, 1.05, 'sex distribution')"
      ]
     },
     "execution_count": 13,
     "metadata": {},
     "output_type": "execute_result"
    },
    {
     "data": {
      "image/png": "[encoded data removed]",
      "text/plain": [
       "<Figure size 640x480 with 1 Axes>"
      ]
     },
     "metadata": {},
     "output_type": "display_data"
    }
   ],
   "source": [
    "sorted_counts = heart_df['sex'].value_counts()\n",
    "plt.pie(sorted_counts, labels = sorted_counts.index, startangle = 90, autopct='%1.2f%%', \n",
    "                     counterclock = True, radius = 1.2, textprops={'fontsize': 14})\n",
    "plt.title(f'sex distribution',fontsize=15, weight='bold', color='brown', loc='center', y=1.05)"
   ]
  },
  {
   "cell_type": "code",
   "execution_count": 14,
   "id": "f92d8ee4-fa54-407e-8d3d-dd27a9f892e5",
   "metadata": {
    "tags": []
   },
   "outputs": [
    {
     "data": {
      "text/plain": [
       "sex\n",
       "1    747\n",
       "0    270\n",
       "Name: count, dtype: int64"
      ]
     },
     "execution_count": 14,
     "metadata": {},
     "output_type": "execute_result"
    }
   ],
   "source": [
    "heart_df['sex'].value_counts()"
   ]
  },
  {
   "cell_type": "code",
   "execution_count": 15,
   "id": "88da2a53-7d48-4196-a670-bc5a0fd2daa1",
   "metadata": {
    "tags": []
   },
   "outputs": [
    {
     "data": {
      "text/plain": [
       "Text(0.5, 1.05, 'chest pain type distribution')"
      ]
     },
     "execution_count": 15,
     "metadata": {},
     "output_type": "execute_result"
    },
    {
     "data": {
      "image/png": "[encoded data removed]",
      "text/plain": [
       "<Figure size 640x480 with 1 Axes>"
      ]
     },
     "metadata": {},
     "output_type": "display_data"
    }
   ],
   "source": [
    "sorted_counts = heart_df['chest pain type'].value_counts()\n",
    "plt.pie(sorted_counts, labels = sorted_counts.index, startangle = 90, autopct='%1.2f%%', \n",
    "                     counterclock = True, radius = 1.2, textprops={'fontsize': 14})\n",
    "plt.title(f'chest pain type distribution',fontsize=15, weight='bold', color='brown', loc='center', y=1.05)"
   ]
  },
  {
   "cell_type": "code",
   "execution_count": 16,
   "id": "ddd44759-fa53-4f07-a0e3-d44147392db0",
   "metadata": {
    "tags": []
   },
   "outputs": [
    {
     "data": {
      "text/plain": [
       "chest pain type\n",
       "4    499\n",
       "3    248\n",
       "2    209\n",
       "1     61\n",
       "Name: count, dtype: int64"
      ]
     },
     "execution_count": 16,
     "metadata": {},
     "output_type": "execute_result"
    }
   ],
   "source": [
    "heart_df['chest pain type'].value_counts()"
   ]
  },
  {
   "cell_type": "code",
   "execution_count": 17,
   "id": "1f25ec3d-ac18-4faa-b7df-2d7175463f5e",
   "metadata": {},
   "outputs": [
    {
     "data": {
      "text/plain": [
       "Text(0.5, 1.05, 'fasting blood sugar distribution')"
      ]
     },
     "execution_count": 17,
     "metadata": {},
     "output_type": "execute_result"
    },
    {
     "data": {
      "image/png": "[encoded data removed]",
      "text/plain": [
       "<Figure size 640x480 with 1 Axes>"
      ]
     },
     "metadata": {},
     "output_type": "display_data"
    }
   ],
   "source": [
    "sorted_counts = heart_df['fasting blood sugar'].value_counts()\n",
    "plt.pie(sorted_counts, labels = sorted_counts.index, startangle = 90, autopct='%1.2f%%', \n",
    "                     counterclock = True, radius = 1.2, textprops={'fontsize': 14})\n",
    "plt.title(f'fasting blood sugar distribution',fontsize=15, weight='bold', color='brown', loc='center', y=1.05)"
   ]
  },
  {
   "cell_type": "code",
   "execution_count": 18,
   "id": "a51ed195-afba-40f6-96d5-54789c1939b9",
   "metadata": {
    "tags": []
   },
   "outputs": [
    {
     "data": {
      "text/plain": [
       "fasting blood sugar\n",
       "0    853\n",
       "1    164\n",
       "Name: count, dtype: int64"
      ]
     },
     "execution_count": 18,
     "metadata": {},
     "output_type": "execute_result"
    }
   ],
   "source": [
    "heart_df['fasting blood sugar'].value_counts()"
   ]
  },
  {
   "cell_type": "code",
   "execution_count": 19,
   "id": "59890eb8-f7e7-4444-8ad1-185cedc086b3",
   "metadata": {},
   "outputs": [
    {
     "data": {
      "text/plain": [
       "Text(0.5, 1.05, 'resting ecg distribution')"
      ]
     },
     "execution_count": 19,
     "metadata": {},
     "output_type": "execute_result"
    },
    {
     "data": {
      "image/png": "[encoded data removed]",
      "text/plain": [
       "<Figure size 640x480 with 1 Axes>"
      ]
     },
     "metadata": {},
     "output_type": "display_data"
    }
   ],
   "source": [
    "sorted_counts = heart_df['resting ecg'].value_counts()\n",
    "plt.pie(sorted_counts, labels = sorted_counts.index, startangle = 90, autopct='%1.2f%%', \n",
    "                     counterclock = True, radius = 1.2, textprops={'fontsize': 14})\n",
    "plt.title(f'resting ecg distribution',fontsize=15, weight='bold', color='brown', loc='center', y=1.05)"
   ]
  },
  {
   "cell_type": "code",
   "execution_count": 20,
   "id": "e14bac7e-6d60-474c-a498-e2370e72b812",
   "metadata": {
    "tags": []
   },
   "outputs": [
    {
     "data": {
      "text/plain": [
       "resting ecg\n",
       "0    576\n",
       "2    313\n",
       "1    128\n",
       "Name: count, dtype: int64"
      ]
     },
     "execution_count": 20,
     "metadata": {},
     "output_type": "execute_result"
    }
   ],
   "source": [
    "heart_df['resting ecg'].value_counts()"
   ]
  },
  {
   "cell_type": "code",
   "execution_count": 21,
   "id": "81fee8ce-da29-4487-91ac-08e2f6058197",
   "metadata": {},
   "outputs": [
    {
     "data": {
      "text/plain": [
       "Text(0.5, 1.05, 'exercise angina distribution')"
      ]
     },
     "execution_count": 21,
     "metadata": {},
     "output_type": "execute_result"
    },
    {
     "data": {
      "image/png": "[encoded data removed]",
      "text/plain": [
       "<Figure size 640x480 with 1 Axes>"
      ]
     },
     "metadata": {},
     "output_type": "display_data"
    }
   ],
   "source": [
    "sorted_counts = heart_df['exercise angina'].value_counts()\n",
    "plt.pie(sorted_counts, labels = sorted_counts.index, startangle = 90, autopct='%1.2f%%', \n",
    "                     counterclock = True, radius = 1.2, textprops={'fontsize': 14})\n",
    "plt.title(f'exercise angina distribution',fontsize=15, weight='bold', color='brown', loc='center', y=1.05)"
   ]
  },
  {
   "cell_type": "code",
   "execution_count": 22,
   "id": "b2addac8-d758-488d-aa2a-65c47b381816",
   "metadata": {
    "tags": []
   },
   "outputs": [
    {
     "data": {
      "text/plain": [
       "exercise angina\n",
       "0    640\n",
       "1    377\n",
       "Name: count, dtype: int64"
      ]
     },
     "execution_count": 22,
     "metadata": {},
     "output_type": "execute_result"
    }
   ],
   "source": [
    "heart_df['exercise angina'].value_counts()"
   ]
  },
  {
   "cell_type": "code",
   "execution_count": 23,
   "id": "d220ab70-30ee-45ef-977d-62b8db3dcd50",
   "metadata": {},
   "outputs": [
    {
     "data": {
      "text/plain": [
       "Text(0.5, 1.05, 'ST slope distribution')"
      ]
     },
     "execution_count": 23,
     "metadata": {},
     "output_type": "execute_result"
    },
    {
     "data": {
      "image/png": "[encoded data removed]",
      "text/plain": [
       "<Figure size 640x480 with 1 Axes>"
      ]
     },
     "metadata": {},
     "output_type": "display_data"
    }
   ],
   "source": [
    "sorted_counts = heart_df['ST slope'].value_counts()\n",
    "plt.pie(sorted_counts, labels = sorted_counts.index, startangle = 90, autopct='%1.2f%%', \n",
    "                     counterclock = True, radius = 1.2, textprops={'fontsize': 14})\n",
    "plt.title(f'ST slope distribution',fontsize=15, weight='bold', color='brown', loc='center', y=1.05)"
   ]
  },
  {
   "cell_type": "code",
   "execution_count": 24,
   "id": "9224e92c-3881-4f08-85f3-20678fcbdeb8",
   "metadata": {
    "tags": []
   },
   "outputs": [
    {
     "data": {
      "text/plain": [
       "ST slope\n",
       "1.0    480\n",
       "2.0    476\n",
       "3.0     61\n",
       "Name: count, dtype: int64"
      ]
     },
     "execution_count": 24,
     "metadata": {},
     "output_type": "execute_result"
    }
   ],
   "source": [
    "heart_df['ST slope'].value_counts()"
   ]
  },
  {
   "cell_type": "code",
   "execution_count": 25,
   "id": "555ded0e-328f-4ad3-83e4-46da0f22bb92",
   "metadata": {},
   "outputs": [
    {
     "data": {
      "text/plain": [
       "Text(0.5, 1.05, 'target Distribution')"
      ]
     },
     "execution_count": 25,
     "metadata": {},
     "output_type": "execute_result"
    },
    {
     "data": {
      "image/png": "[encoded data removed]",
      "text/plain": [
       "<Figure size 640x480 with 1 Axes>"
      ]
     },
     "metadata": {},
     "output_type": "display_data"
    }
   ],
   "source": [
    "sorted_counts = heart_df['target'].value_counts()\n",
    "plt.pie(sorted_counts, labels = sorted_counts.index, startangle = 90, autopct='%1.2f%%', \n",
    "                     counterclock = True, radius = 1.2, textprops={'fontsize': 14})\n",
    "plt.title(f'target Distribution',fontsize=15, weight='bold', color='brown', loc='center', y=1.05)"
   ]
  },
  {
   "cell_type": "code",
   "execution_count": 26,
   "id": "0577936d-0408-416c-b9a5-8968720cea8f",
   "metadata": {
    "tags": []
   },
   "outputs": [
    {
     "data": {
      "text/plain": [
       "target\n",
       "0    541\n",
       "1    476\n",
       "Name: count, dtype: int64"
      ]
     },
     "execution_count": 26,
     "metadata": {},
     "output_type": "execute_result"
    }
   ],
   "source": [
    "heart_df['target'].value_counts()"
   ]
  },
  {
   "cell_type": "code",
   "execution_count": 27,
   "id": "b5b9e170-e2df-49d1-a48a-6302d300efe4",
   "metadata": {
    "tags": []
   },
   "outputs": [
    {
     "data": {
      "text/plain": [
       "Index(['age', 'sex', 'chest pain type', 'resting bp s', 'cholesterol',\n",
       "       'fasting blood sugar', 'resting ecg', 'max heart rate',\n",
       "       'exercise angina', 'oldpeak', 'ST slope', 'target'],\n",
       "      dtype='object')"
      ]
     },
     "execution_count": 27,
     "metadata": {},
     "output_type": "execute_result"
    }
   ],
   "source": [
    "heart_df.columns"
   ]
  },
  {
   "cell_type": "code",
   "execution_count": 28,
   "id": "2c586417-fabe-4b0b-8389-3c2e76f0522f",
   "metadata": {
    "tags": []
   },
   "outputs": [
    {
     "data": {
      "text/html": [
       "<div>\n",
       "<style scoped>\n",
       "    .dataframe tbody tr th:only-of-type {\n",
       "        vertical-align: middle;\n",
       "    }\n",
       "\n",
       "    .dataframe tbody tr th {\n",
       "        vertical-align: top;\n",
       "    }\n",
       "\n",
       "    .dataframe thead th {\n",
       "        text-align: right;\n",
       "    }\n",
       "</style>\n",
       "<table border=\"1\" class=\"dataframe\">\n",
       "  <thead>\n",
       "    <tr style=\"text-align: right;\">\n",
       "      <th></th>\n",
       "      <th>age</th>\n",
       "      <th>sex</th>\n",
       "      <th>chest pain type</th>\n",
       "      <th>resting bp s</th>\n",
       "      <th>cholesterol</th>\n",
       "      <th>fasting blood sugar</th>\n",
       "      <th>resting ecg</th>\n",
       "      <th>max heart rate</th>\n",
       "      <th>exercise angina</th>\n",
       "      <th>oldpeak</th>\n",
       "      <th>ST slope</th>\n",
       "      <th>target</th>\n",
       "    </tr>\n",
       "  </thead>\n",
       "  <tbody>\n",
       "    <tr>\n",
       "      <th>0</th>\n",
       "      <td>58</td>\n",
       "      <td>1</td>\n",
       "      <td>4</td>\n",
       "      <td>140.0</td>\n",
       "      <td>282.0</td>\n",
       "      <td>0</td>\n",
       "      <td>0</td>\n",
       "      <td>150</td>\n",
       "      <td>1</td>\n",
       "      <td>0.0</td>\n",
       "      <td>2.0</td>\n",
       "      <td>1</td>\n",
       "    </tr>\n",
       "  </tbody>\n",
       "</table>\n",
       "</div>"
      ],
      "text/plain": [
       "   age  sex  chest pain type  resting bp s  cholesterol  fasting blood sugar  \\\n",
       "0   58    1                4         140.0        282.0                    0   \n",
       "\n",
       "   resting ecg  max heart rate  exercise angina  oldpeak  ST slope  target  \n",
       "0            0             150                1      0.0       2.0       1  "
      ]
     },
     "execution_count": 28,
     "metadata": {},
     "output_type": "execute_result"
    }
   ],
   "source": [
    "heart_df.query(\"target == 1\").mode()"
   ]
  },
  {
   "cell_type": "code",
   "execution_count": 29,
   "id": "2a4e213d-274a-470c-89d4-731a0ec1b5d9",
   "metadata": {
    "tags": []
   },
   "outputs": [
    {
     "data": {
      "text/html": [
       "<div>\n",
       "<style scoped>\n",
       "    .dataframe tbody tr th:only-of-type {\n",
       "        vertical-align: middle;\n",
       "    }\n",
       "\n",
       "    .dataframe tbody tr th {\n",
       "        vertical-align: top;\n",
       "    }\n",
       "\n",
       "    .dataframe thead th {\n",
       "        text-align: right;\n",
       "    }\n",
       "</style>\n",
       "<table border=\"1\" class=\"dataframe\">\n",
       "  <thead>\n",
       "    <tr style=\"text-align: right;\">\n",
       "      <th></th>\n",
       "      <th>age</th>\n",
       "      <th>sex</th>\n",
       "      <th>chest pain type</th>\n",
       "      <th>resting bp s</th>\n",
       "      <th>cholesterol</th>\n",
       "      <th>fasting blood sugar</th>\n",
       "      <th>resting ecg</th>\n",
       "      <th>max heart rate</th>\n",
       "      <th>exercise angina</th>\n",
       "      <th>oldpeak</th>\n",
       "      <th>ST slope</th>\n",
       "      <th>target</th>\n",
       "    </tr>\n",
       "  </thead>\n",
       "  <tbody>\n",
       "    <tr>\n",
       "      <th>0</th>\n",
       "      <td>54.0</td>\n",
       "      <td>1.0</td>\n",
       "      <td>3.0</td>\n",
       "      <td>120.0</td>\n",
       "      <td>211.0</td>\n",
       "      <td>0.0</td>\n",
       "      <td>0.0</td>\n",
       "      <td>160.0</td>\n",
       "      <td>0.0</td>\n",
       "      <td>0.0</td>\n",
       "      <td>1.0</td>\n",
       "      <td>0.0</td>\n",
       "    </tr>\n",
       "    <tr>\n",
       "      <th>1</th>\n",
       "      <td>NaN</td>\n",
       "      <td>NaN</td>\n",
       "      <td>NaN</td>\n",
       "      <td>NaN</td>\n",
       "      <td>240.0</td>\n",
       "      <td>NaN</td>\n",
       "      <td>NaN</td>\n",
       "      <td>NaN</td>\n",
       "      <td>NaN</td>\n",
       "      <td>NaN</td>\n",
       "      <td>NaN</td>\n",
       "      <td>NaN</td>\n",
       "    </tr>\n",
       "  </tbody>\n",
       "</table>\n",
       "</div>"
      ],
      "text/plain": [
       "    age  sex  chest pain type  resting bp s  cholesterol  fasting blood sugar  \\\n",
       "0  54.0  1.0              3.0         120.0        211.0                  0.0   \n",
       "1   NaN  NaN              NaN           NaN        240.0                  NaN   \n",
       "\n",
       "   resting ecg  max heart rate  exercise angina  oldpeak  ST slope  target  \n",
       "0          0.0           160.0              0.0      0.0       1.0     0.0  \n",
       "1          NaN             NaN              NaN      NaN       NaN     NaN  "
      ]
     },
     "execution_count": 29,
     "metadata": {},
     "output_type": "execute_result"
    }
   ],
   "source": [
    "heart_df.query(\"target == 0\").mode()"
   ]
  },
  {
   "cell_type": "code",
   "execution_count": 30,
   "id": "43cb2d0b-23b0-4a24-9a7d-4a3886a82aeb",
   "metadata": {
    "tags": []
   },
   "outputs": [
    {
     "data": {
      "text/html": [
       "<div>\n",
       "<style scoped>\n",
       "    .dataframe tbody tr th:only-of-type {\n",
       "        vertical-align: middle;\n",
       "    }\n",
       "\n",
       "    .dataframe tbody tr th {\n",
       "        vertical-align: top;\n",
       "    }\n",
       "\n",
       "    .dataframe thead th {\n",
       "        text-align: right;\n",
       "    }\n",
       "</style>\n",
       "<table border=\"1\" class=\"dataframe\">\n",
       "  <thead>\n",
       "    <tr style=\"text-align: right;\">\n",
       "      <th></th>\n",
       "      <th>age</th>\n",
       "      <th>cholesterol</th>\n",
       "      <th>max heart rate</th>\n",
       "      <th>oldpeak</th>\n",
       "      <th>resting bp s</th>\n",
       "    </tr>\n",
       "    <tr>\n",
       "      <th>target</th>\n",
       "      <th></th>\n",
       "      <th></th>\n",
       "      <th></th>\n",
       "      <th></th>\n",
       "      <th></th>\n",
       "    </tr>\n",
       "  </thead>\n",
       "  <tbody>\n",
       "    <tr>\n",
       "      <th>0</th>\n",
       "      <td>50.872458</td>\n",
       "      <td>240.221811</td>\n",
       "      <td>151.650647</td>\n",
       "      <td>0.456562</td>\n",
       "      <td>129.767098</td>\n",
       "    </tr>\n",
       "    <tr>\n",
       "      <th>1</th>\n",
       "      <td>56.016807</td>\n",
       "      <td>252.474790</td>\n",
       "      <td>132.615546</td>\n",
       "      <td>1.489706</td>\n",
       "      <td>135.722689</td>\n",
       "    </tr>\n",
       "  </tbody>\n",
       "</table>\n",
       "</div>"
      ],
      "text/plain": [
       "              age  cholesterol  max heart rate   oldpeak  resting bp s\n",
       "target                                                                \n",
       "0       50.872458   240.221811      151.650647  0.456562    129.767098\n",
       "1       56.016807   252.474790      132.615546  1.489706    135.722689"
      ]
     },
     "execution_count": 30,
     "metadata": {},
     "output_type": "execute_result"
    }
   ],
   "source": [
    "heart_df.pivot_table(\n",
    "    index='target', \n",
    "    values = ['age', 'resting bp s', 'cholesterol', 'max heart rate','oldpeak'], \n",
    "    aggfunc='mean')"
   ]
  },
  {
   "cell_type": "code",
   "execution_count": 31,
   "id": "1a5a9720-feed-43d9-a31d-2a54b185867b",
   "metadata": {
    "tags": []
   },
   "outputs": [
    {
     "data": {
      "text/plain": [
       "<Axes: title={'center': 'age'}, xlabel='target'>"
      ]
     },
     "execution_count": 31,
     "metadata": {},
     "output_type": "execute_result"
    },
    {
     "data": {
      "image/png": "[encoded data removed]",
      "text/plain": [
       "<Figure size 640x480 with 1 Axes>"
      ]
     },
     "metadata": {},
     "output_type": "display_data"
    }
   ],
   "source": [
    "heart_df.boxplot(column = 'age', by = 'target', grid = False)"
   ]
  },
  {
   "cell_type": "code",
   "execution_count": 32,
   "id": "422e5536-9e88-4947-851a-6e2ff1caaac9",
   "metadata": {
    "tags": []
   },
   "outputs": [
    {
     "data": {
      "text/plain": [
       "<Axes: title={'center': 'resting bp s'}, xlabel='target'>"
      ]
     },
     "execution_count": 32,
     "metadata": {},
     "output_type": "execute_result"
    },
    {
     "data": {
      "image/png": "[encoded data removed]",
      "text/plain": [
       "<Figure size 640x480 with 1 Axes>"
      ]
     },
     "metadata": {},
     "output_type": "display_data"
    }
   ],
   "source": [
    "heart_df.boxplot(column = 'resting bp s', by = 'target', grid = False)"
   ]
  },
  {
   "cell_type": "code",
   "execution_count": 33,
   "id": "25b82c92-75c5-4ed2-a9c4-485c45240613",
   "metadata": {
    "tags": []
   },
   "outputs": [
    {
     "data": {
      "text/plain": [
       "<Axes: title={'center': 'cholesterol'}, xlabel='target'>"
      ]
     },
     "execution_count": 33,
     "metadata": {},
     "output_type": "execute_result"
    },
    {
     "data": {
      "image/png": "[encoded data removed]",
      "text/plain": [
       "<Figure size 640x480 with 1 Axes>"
      ]
     },
     "metadata": {},
     "output_type": "display_data"
    }
   ],
   "source": [
    "heart_df.boxplot(column = 'cholesterol', by = 'target', grid = False)"
   ]
  },
  {
   "cell_type": "code",
   "execution_count": 34,
   "id": "5cc3f3b0-ac9c-4544-a7e9-095f1028328d",
   "metadata": {
    "tags": []
   },
   "outputs": [
    {
     "data": {
      "text/plain": [
       "<Axes: title={'center': 'max heart rate'}, xlabel='target'>"
      ]
     },
     "execution_count": 34,
     "metadata": {},
     "output_type": "execute_result"
    },
    {
     "data": {
      "image/png": "[encoded data removed]",
      "text/plain": [
       "<Figure size 640x480 with 1 Axes>"
      ]
     },
     "metadata": {},
     "output_type": "display_data"
    }
   ],
   "source": [
    "heart_df.boxplot(column = 'max heart rate', by = 'target', grid = False)"
   ]
  },
  {
   "cell_type": "code",
   "execution_count": 35,
   "id": "735f54bc-abc2-477d-ac15-dcd089754446",
   "metadata": {
    "tags": []
   },
   "outputs": [
    {
     "data": {
      "text/plain": [
       "<Axes: title={'center': 'oldpeak'}, xlabel='target'>"
      ]
     },
     "execution_count": 35,
     "metadata": {},
     "output_type": "execute_result"
    },
    {
     "data": {
      "image/png": "[encoded data removed]",
      "text/plain": [
       "<Figure size 640x480 with 1 Axes>"
      ]
     },
     "metadata": {},
     "output_type": "display_data"
    }
   ],
   "source": [
    "heart_df.boxplot(column = 'oldpeak', by = 'target', grid = False)"
   ]
  },
  {
   "cell_type": "code",
   "execution_count": 36,
   "id": "cbc9e4be-85f0-42c3-8f8f-720ea8790cb3",
   "metadata": {
    "tags": []
   },
   "outputs": [
    {
     "data": {
      "image/png": "[encoded data removed]",
      "text/plain": [
       "<Figure size 640x480 with 1 Axes>"
      ]
     },
     "metadata": {},
     "output_type": "display_data"
    }
   ],
   "source": [
    "ax = sns.countplot(x=\"target\",hue=\"chest pain type\", data=heart_df)"
   ]
  },
  {
   "cell_type": "code",
   "execution_count": 37,
   "id": "6b93c2dd-3e00-4491-bfaf-d85993c8c24f",
   "metadata": {
    "tags": []
   },
   "outputs": [],
   "source": [
    "X = heart_df.drop(columns = 'target')\n",
    "y = heart_df.target\n",
    "\n",
    "Test_size   = 0.3    # 0 to 1\n",
    "Random_seed = 1000\n",
    "\n",
    "X_train, X_test, y_train, y_test = train_test_split(X, y,\n",
    "                                                    test_size = Test_size,\n",
    "                                                    random_state = Random_seed)"
   ]
  },
  {
   "cell_type": "code",
   "execution_count": 38,
   "id": "01f432a8-4ee5-4547-9802-a504168a5fed",
   "metadata": {},
   "outputs": [],
   "source": [
    "criterions = ['entropy','gini']\n",
    "random_state_i = Random_seed\n",
    "max_depth_x = list(range(2,13))\n",
    "\n",
    "models= []\n",
    "i = 0\n",
    "for criterion_i in ['entropy','gini']:\n",
    "    for max_depth_i in max_depth_x:\n",
    "        i = i+1 \n",
    "        model = DecisionTreeClassifier(\n",
    "                    criterion= criterion_i,\n",
    "                    max_depth= max_depth_i, \n",
    "                    random_state= random_state_i,\n",
    "                    )\n",
    "        models.append(['DT_'+str(i), model])"
   ]
  },
  {
   "cell_type": "code",
   "execution_count": 39,
   "id": "2ef50a62-e5ba-4bf3-a940-46995bb3bc5a",
   "metadata": {
    "tags": []
   },
   "outputs": [],
   "source": [
    "score_all = []\n",
    "\n",
    "for model_name, model in models:\n",
    "\n",
    "    model.fit(X_train, y_train) \n",
    "    fi  = model.feature_importances_\n",
    "    \n",
    "    for sample  in ['train','test']:\n",
    "        X_ = eval('X_'+sample)\n",
    "        y_ = eval('y_'+sample)\n",
    "        \n",
    "        accu_score = model.score(X_,y_)\n",
    "\n",
    "        prec_score  = metrics.precision_score(y_,model.predict(X_),average= None)\n",
    "\n",
    "        recall_score  = metrics.recall_score(y_,model.predict(X_),average= None)\n",
    "        \n",
    "        score_all.append([model_name,sample,accu_score,prec_score,recall_score,fi])\n",
    "\n",
    "df_report =pd.DataFrame(score_all,columns=['model','data','accuracy','precision','recall','importantF'])"
   ]
  },
  {
   "cell_type": "code",
   "execution_count": 40,
   "id": "8418675b-0088-498c-8b87-3ff153cb2bb5",
   "metadata": {
    "tags": []
   },
   "outputs": [],
   "source": [
    "a = df_report.pivot( index = 'model', columns = 'data', values= 'accuracy')"
   ]
  },
  {
   "cell_type": "code",
   "execution_count": 41,
   "id": "566e9fee-db2c-47ca-af35-c5339b8bffd0",
   "metadata": {
    "tags": []
   },
   "outputs": [
    {
     "data": {
      "text/plain": [
       "data\n",
       "test     0.905229\n",
       "train    1.000000\n",
       "dtype: float64"
      ]
     },
     "execution_count": 41,
     "metadata": {},
     "output_type": "execute_result"
    }
   ],
   "source": [
    "a.max()"
   ]
  },
  {
   "cell_type": "code",
   "execution_count": 42,
   "id": "bc8c05f0-aac4-4d7f-9711-ad562534208c",
   "metadata": {
    "tags": []
   },
   "outputs": [
    {
     "data": {
      "text/html": [
       "<div>\n",
       "<style scoped>\n",
       "    .dataframe tbody tr th:only-of-type {\n",
       "        vertical-align: middle;\n",
       "    }\n",
       "\n",
       "    .dataframe tbody tr th {\n",
       "        vertical-align: top;\n",
       "    }\n",
       "\n",
       "    .dataframe thead th {\n",
       "        text-align: right;\n",
       "    }\n",
       "</style>\n",
       "<table border=\"1\" class=\"dataframe\">\n",
       "  <thead>\n",
       "    <tr style=\"text-align: right;\">\n",
       "      <th>data</th>\n",
       "      <th>test</th>\n",
       "      <th>train</th>\n",
       "    </tr>\n",
       "    <tr>\n",
       "      <th>model</th>\n",
       "      <th></th>\n",
       "      <th></th>\n",
       "    </tr>\n",
       "  </thead>\n",
       "  <tbody>\n",
       "    <tr>\n",
       "      <th>DT_22</th>\n",
       "      <td>0.905229</td>\n",
       "      <td>1.0</td>\n",
       "    </tr>\n",
       "  </tbody>\n",
       "</table>\n",
       "</div>"
      ],
      "text/plain": [
       "data       test  train\n",
       "model                 \n",
       "DT_22  0.905229    1.0"
      ]
     },
     "execution_count": 42,
     "metadata": {},
     "output_type": "execute_result"
    }
   ],
   "source": [
    "a[a.test >= 0.90]"
   ]
  },
  {
   "cell_type": "code",
   "execution_count": 43,
   "id": "2e83bb24-75d6-4245-9372-410909ad0bcd",
   "metadata": {
    "tags": []
   },
   "outputs": [
    {
     "data": {
      "text/plain": [
       "Index(['DT_22'], dtype='object', name='model')"
      ]
     },
     "execution_count": 43,
     "metadata": {},
     "output_type": "execute_result"
    }
   ],
   "source": [
    "a[a.test >= 0.9].index"
   ]
  },
  {
   "cell_type": "code",
   "execution_count": 44,
   "id": "873d0f48-d855-4172-9e93-ffed03dd01e5",
   "metadata": {
    "tags": []
   },
   "outputs": [
    {
     "data": {
      "text/plain": [
       "['DT_22', DecisionTreeClassifier(max_depth=12, random_state=1000)]"
      ]
     },
     "execution_count": 44,
     "metadata": {},
     "output_type": "execute_result"
    }
   ],
   "source": [
    "models[21]"
   ]
  },
  {
   "cell_type": "code",
   "execution_count": 45,
   "id": "f0a9e8c3-c27a-4c58-aee7-2447f0bf3c95",
   "metadata": {
    "tags": []
   },
   "outputs": [
    {
     "data": {
      "text/html": [
       "<div>\n",
       "<style scoped>\n",
       "    .dataframe tbody tr th:only-of-type {\n",
       "        vertical-align: middle;\n",
       "    }\n",
       "\n",
       "    .dataframe tbody tr th {\n",
       "        vertical-align: top;\n",
       "    }\n",
       "\n",
       "    .dataframe thead th {\n",
       "        text-align: right;\n",
       "    }\n",
       "</style>\n",
       "<table border=\"1\" class=\"dataframe\">\n",
       "  <thead>\n",
       "    <tr style=\"text-align: right;\">\n",
       "      <th></th>\n",
       "      <th>model</th>\n",
       "      <th>data</th>\n",
       "      <th>accuracy</th>\n",
       "      <th>precision</th>\n",
       "      <th>recall</th>\n",
       "      <th>importantF</th>\n",
       "    </tr>\n",
       "  </thead>\n",
       "  <tbody>\n",
       "    <tr>\n",
       "      <th>43</th>\n",
       "      <td>DT_22</td>\n",
       "      <td>test</td>\n",
       "      <td>0.905229</td>\n",
       "      <td>[0.8873239436619719, 0.9207317073170732]</td>\n",
       "      <td>[0.9064748201438849, 0.9041916167664671]</td>\n",
       "      <td>[0.07302658476574798, 0.040892967537557376, 0....</td>\n",
       "    </tr>\n",
       "  </tbody>\n",
       "</table>\n",
       "</div>"
      ],
      "text/plain": [
       "    model  data  accuracy                                 precision  \\\n",
       "43  DT_22  test  0.905229  [0.8873239436619719, 0.9207317073170732]   \n",
       "\n",
       "                                      recall  \\\n",
       "43  [0.9064748201438849, 0.9041916167664671]   \n",
       "\n",
       "                                           importantF  \n",
       "43  [0.07302658476574798, 0.040892967537557376, 0....  "
      ]
     },
     "execution_count": 45,
     "metadata": {},
     "output_type": "execute_result"
    }
   ],
   "source": [
    "df_report.tail(1)"
   ]
  },
  {
   "cell_type": "code",
   "execution_count": 46,
   "id": "5922576c-f213-4dc8-bb05-a0cb7863aa5f",
   "metadata": {
    "tags": []
   },
   "outputs": [
    {
     "data": {
      "text/plain": [
       "age                    0.073027\n",
       "sex                    0.040893\n",
       "chest pain type        0.132422\n",
       "resting bp s           0.072053\n",
       "cholesterol            0.083976\n",
       "fasting blood sugar    0.031367\n",
       "resting ecg            0.027737\n",
       "max heart rate         0.074966\n",
       "exercise angina        0.030427\n",
       "oldpeak                0.072709\n",
       "ST slope               0.360424\n",
       "Name: 43, dtype: float64"
      ]
     },
     "execution_count": 46,
     "metadata": {},
     "output_type": "execute_result"
    }
   ],
   "source": [
    "e = pd.DataFrame(df_report.importantF.tolist(),columns= list(X.columns))\n",
    "e.iloc[43,:]"
   ]
  },
  {
   "cell_type": "code",
   "execution_count": 47,
   "id": "2e5d0ab9-3627-4994-ac80-4d117777403c",
   "metadata": {
    "tags": []
   },
   "outputs": [],
   "source": [
    "def command(X):\n",
    "    y = heart_df.target\n",
    "\n",
    "    Test_size   = 0.3    # 0 to 1\n",
    "    Random_seed = 1000\n",
    "\n",
    "    X_train, X_test, y_train, y_test = train_test_split(X, y,\n",
    "                                                        test_size = Test_size,\n",
    "                                                        random_state = Random_seed)\n",
    "    criterions = ['entropy','gini']\n",
    "    random_state_i = Random_seed\n",
    "    max_depth_x = list(range(2,13))\n",
    "\n",
    "    models= []\n",
    "    i = 0\n",
    "    for criterion_i in ['entropy','gini']:\n",
    "        for max_depth_i in max_depth_x:\n",
    "            i = i+1 \n",
    "            model = DecisionTreeClassifier(\n",
    "                        criterion= criterion_i,\n",
    "                        max_depth= max_depth_i, \n",
    "                        random_state= random_state_i,\n",
    "                        )\n",
    "            models.append(['DT_'+str(i), model])\n",
    "    score_all = []\n",
    "\n",
    "    for model_name, model in models:\n",
    "\n",
    "        model.fit(X_train, y_train) \n",
    "        fi  = model.feature_importances_\n",
    "\n",
    "        for sample  in ['train','test']:\n",
    "            X_ = eval('X_'+sample)\n",
    "            y_ = eval('y_'+sample)\n",
    "\n",
    "            accu_score = model.score(X_,y_)\n",
    "\n",
    "            prec_score  = metrics.precision_score(y_,model.predict(X_),average= None)\n",
    "\n",
    "            recall_score  = metrics.recall_score(y_,model.predict(X_),average= None)\n",
    "\n",
    "            score_all.append([model_name,sample,accu_score,prec_score,recall_score,fi])\n",
    "\n",
    "    df_report =pd.DataFrame(score_all,columns=['model','data','accuracy','precision','recall','importantF'])\n",
    "    a = df_report.pivot( index = 'model', columns = 'data', values= 'accuracy')\n",
    "    print(a.max())\n",
    "    b = list(a.max())\n",
    "    print(df_report[df_report.accuracy == b[0]])\n",
    "    c = df_report[df_report.accuracy == b[0]].index\n",
    "    for d in list(c):\n",
    "        d = d//2\n",
    "        print(models[d])"
   ]
  },
  {
   "cell_type": "code",
   "execution_count": 48,
   "id": "32f3c0f1-e5a1-4e6a-9985-0032e0b3d08b",
   "metadata": {
    "tags": []
   },
   "outputs": [
    {
     "data": {
      "text/plain": [
       "Index(['age', 'sex', 'chest pain type', 'resting bp s', 'cholesterol',\n",
       "       'fasting blood sugar', 'resting ecg', 'max heart rate',\n",
       "       'exercise angina', 'oldpeak', 'ST slope'],\n",
       "      dtype='object')"
      ]
     },
     "execution_count": 48,
     "metadata": {},
     "output_type": "execute_result"
    }
   ],
   "source": [
    "heart_df.drop(columns = 'target').columns"
   ]
  },
  {
   "cell_type": "code",
   "execution_count": 49,
   "id": "7df5bb5c-2336-400e-b951-2ecc106f8da5",
   "metadata": {
    "tags": []
   },
   "outputs": [
    {
     "name": "stdout",
     "output_type": "stream",
     "text": [
      "data\n",
      "test     0.787582\n",
      "train    0.819972\n",
      "dtype: float64\n",
      "    model  data  accuracy                  precision  \\\n",
      "3    DT_2  test  0.787582  [0.7720588235294118, 0.8]   \n",
      "25  DT_13  test  0.787582  [0.7720588235294118, 0.8]   \n",
      "\n",
      "                                      recall  \\\n",
      "3   [0.7553956834532374, 0.8143712574850299]   \n",
      "25  [0.7553956834532374, 0.8143712574850299]   \n",
      "\n",
      "                                   importantF  \n",
      "3   [0.32802152223364733, 0.6719784777663527]  \n",
      "25   [0.2522487768487701, 0.7477512231512299]  \n",
      "['DT_2', DecisionTreeClassifier(criterion='entropy', max_depth=3, random_state=1000)]\n",
      "['DT_13', DecisionTreeClassifier(max_depth=3, random_state=1000)]\n"
     ]
    }
   ],
   "source": [
    "X = heart_df[['chest pain type', 'ST slope']]\n",
    "command(X)"
   ]
  },
  {
   "cell_type": "code",
   "execution_count": 50,
   "id": "09c055ae-13e8-4c55-ad60-8003ec8af12a",
   "metadata": {
    "tags": []
   },
   "outputs": [
    {
     "name": "stdout",
     "output_type": "stream",
     "text": [
      "data\n",
      "test     0.833333\n",
      "train    0.942335\n",
      "dtype: float64\n",
      "   model  data  accuracy                                 precision  \\\n",
      "11  DT_6  test  0.833333  [0.7972972972972973, 0.8670886075949367]   \n",
      "\n",
      "                                      recall  \\\n",
      "11  [0.8489208633093526, 0.8203592814371258]   \n",
      "\n",
      "                                           importantF  \n",
      "11  [0.21330609382630394, 0.3491760863006925, 0.43...  \n",
      "['DT_6', DecisionTreeClassifier(criterion='entropy', max_depth=7, random_state=1000)]\n"
     ]
    }
   ],
   "source": [
    "X = heart_df[['chest pain type', 'cholesterol',\n",
    "       'ST slope']]\n",
    "command(X)"
   ]
  },
  {
   "cell_type": "code",
   "execution_count": 51,
   "id": "c0c4fbd0-8c2d-4d61-987b-391cfde9914a",
   "metadata": {
    "tags": []
   },
   "outputs": [
    {
     "name": "stdout",
     "output_type": "stream",
     "text": [
      "data\n",
      "test     0.843137\n",
      "train    0.991561\n",
      "dtype: float64\n",
      "    model  data  accuracy                                 precision  \\\n",
      "21  DT_11  test  0.843137  [0.8137931034482758, 0.8695652173913043]   \n",
      "\n",
      "                                      recall  \\\n",
      "21  [0.8489208633093526, 0.8383233532934131]   \n",
      "\n",
      "                                           importantF  \n",
      "21  [0.1780442809424825, 0.2725627338497814, 0.242...  \n",
      "['DT_11', DecisionTreeClassifier(criterion='entropy', max_depth=12, random_state=1000)]\n"
     ]
    }
   ],
   "source": [
    "X = heart_df[['chest pain type', 'cholesterol',\n",
    "       'max heart rate', 'ST slope']]\n",
    "command(X)"
   ]
  },
  {
   "cell_type": "code",
   "execution_count": 52,
   "id": "6fea0228-a0e2-4937-98a2-80d07a336e96",
   "metadata": {
    "tags": []
   },
   "outputs": [
    {
     "name": "stdout",
     "output_type": "stream",
     "text": [
      "data\n",
      "test     0.859477\n",
      "train    0.991561\n",
      "dtype: float64\n",
      "    model  data  accuracy                                 precision  \\\n",
      "39  DT_20  test  0.859477  [0.8380281690140845, 0.8780487804878049]   \n",
      "\n",
      "                                      recall  \\\n",
      "39  [0.8561151079136691, 0.8622754491017964]   \n",
      "\n",
      "                                           importantF  \n",
      "39  [0.09656750432496783, 0.15050455365196314, 0.2...  \n",
      "['DT_20', DecisionTreeClassifier(max_depth=10, random_state=1000)]\n"
     ]
    }
   ],
   "source": [
    "X = heart_df[['age', 'chest pain type', 'cholesterol',\n",
    "       'max heart rate','ST slope']]\n",
    "command(X)"
   ]
  },
  {
   "cell_type": "code",
   "execution_count": 53,
   "id": "2c6a1ff0-ea84-45b8-8965-8b44bb0552aa",
   "metadata": {
    "tags": []
   },
   "outputs": [
    {
     "name": "stdout",
     "output_type": "stream",
     "text": [
      "data\n",
      "test     0.875817\n",
      "train    0.997187\n",
      "dtype: float64\n",
      "    model  data  accuracy                                 precision  \\\n",
      "39  DT_20  test  0.875817  [0.8531468531468531, 0.8957055214723927]   \n",
      "\n",
      "                                     recall  \\\n",
      "39  [0.8776978417266187, 0.874251497005988]   \n",
      "\n",
      "                                           importantF  \n",
      "39  [0.0766779183692161, 0.14602079995231526, 0.19...  \n",
      "['DT_20', DecisionTreeClassifier(max_depth=10, random_state=1000)]\n"
     ]
    }
   ],
   "source": [
    "X = heart_df[['age', 'chest pain type', 'cholesterol',\n",
    "       'max heart rate','oldpeak', 'ST slope']]\n",
    "command(X)"
   ]
  },
  {
   "cell_type": "code",
   "execution_count": 54,
   "id": "fb76257e-d383-4dd7-9825-0039ea41a194",
   "metadata": {
    "tags": []
   },
   "outputs": [
    {
     "name": "stdout",
     "output_type": "stream",
     "text": [
      "data\n",
      "test     0.885621\n",
      "train    0.994374\n",
      "dtype: float64\n",
      "   model  data  accuracy                                 precision  \\\n",
      "17  DT_9  test  0.885621  [0.8768115942028986, 0.8928571428571429]   \n",
      "\n",
      "                                      recall  \\\n",
      "17  [0.8705035971223022, 0.8982035928143712]   \n",
      "\n",
      "                                           importantF  \n",
      "17  [0.11097304741755366, 0.16435792765036344, 0.0...  \n",
      "['DT_9', DecisionTreeClassifier(criterion='entropy', max_depth=10, random_state=1000)]\n"
     ]
    }
   ],
   "source": [
    "X = heart_df[['age', 'chest pain type', 'resting bp s', 'cholesterol',\n",
    "       'max heart rate',\n",
    "       'oldpeak', 'ST slope']]\n",
    "command(X)"
   ]
  },
  {
   "cell_type": "code",
   "execution_count": 55,
   "id": "434d601e-bd50-43ee-bac1-6aa321c88f33",
   "metadata": {
    "tags": []
   },
   "outputs": [
    {
     "name": "stdout",
     "output_type": "stream",
     "text": [
      "data\n",
      "test     0.882353\n",
      "train    0.998594\n",
      "dtype: float64\n",
      "    model  data  accuracy                                precision  \\\n",
      "19  DT_10  test  0.882353  [0.8601398601398601, 0.901840490797546]   \n",
      "43  DT_22  test  0.882353  [0.8652482269503546, 0.896969696969697]   \n",
      "\n",
      "                                      recall  \\\n",
      "19  [0.8848920863309353, 0.8802395209580839]   \n",
      "43  [0.8776978417266187, 0.8862275449101796]   \n",
      "\n",
      "                                           importantF  \n",
      "19  [0.1128883624921653, 0.050553758465755036, 0.1...  \n",
      "43  [0.08175297416689004, 0.04601405624090809, 0.1...  \n",
      "['DT_10', DecisionTreeClassifier(criterion='entropy', max_depth=11, random_state=1000)]\n",
      "['DT_22', DecisionTreeClassifier(max_depth=12, random_state=1000)]\n"
     ]
    }
   ],
   "source": [
    "X = heart_df[['age', 'sex', 'chest pain type', 'resting bp s', 'cholesterol',\n",
    "        'max heart rate',\n",
    "       'oldpeak', 'ST slope']]\n",
    "command(X)"
   ]
  },
  {
   "cell_type": "code",
   "execution_count": 56,
   "id": "65850561-f021-4d7c-942a-8f97afc73ba6",
   "metadata": {
    "tags": []
   },
   "outputs": [
    {
     "name": "stdout",
     "output_type": "stream",
     "text": [
      "data\n",
      "test     0.888889\n",
      "train    0.998594\n",
      "dtype: float64\n",
      "    model  data  accuracy                                 precision  \\\n",
      "43  DT_22  test  0.888889  [0.8723404255319149, 0.9030303030303031]   \n",
      "\n",
      "                                      recall  \\\n",
      "43  [0.8848920863309353, 0.8922155688622755]   \n",
      "\n",
      "                                           importantF  \n",
      "43  [0.08775097616489201, 0.049840880340211745, 0....  \n",
      "['DT_22', DecisionTreeClassifier(max_depth=12, random_state=1000)]\n"
     ]
    }
   ],
   "source": [
    "X = heart_df[['age', 'sex', 'chest pain type', 'resting bp s', 'cholesterol',\n",
    "       'fasting blood sugar', 'max heart rate',\n",
    "       'oldpeak', 'ST slope']]\n",
    "command(X)"
   ]
  },
  {
   "cell_type": "code",
   "execution_count": 57,
   "id": "fcfbae81-ecb4-4168-9dcd-799647549743",
   "metadata": {
    "tags": []
   },
   "outputs": [
    {
     "name": "stdout",
     "output_type": "stream",
     "text": [
      "data\n",
      "test     0.905229\n",
      "train    0.998594\n",
      "dtype: float64\n",
      "    model  data  accuracy                                 precision  \\\n",
      "43  DT_22  test  0.905229  [0.8928571428571429, 0.9156626506024096]   \n",
      "\n",
      "                                      recall  \\\n",
      "43  [0.8992805755395683, 0.9101796407185628]   \n",
      "\n",
      "                                           importantF  \n",
      "43  [0.08723229049089301, 0.0462785179639369, 0.14...  \n",
      "['DT_22', DecisionTreeClassifier(max_depth=12, random_state=1000)]\n"
     ]
    }
   ],
   "source": [
    "X = heart_df[['age', 'sex', 'chest pain type', 'resting bp s', 'cholesterol',\n",
    "       'fasting blood sugar', 'max heart rate',\n",
    "       'exercise angina', 'oldpeak', 'ST slope']]\n",
    "command(X)"
   ]
  },
  {
   "cell_type": "code",
   "execution_count": 58,
   "id": "ce6f9292-68dc-40f2-b8d9-1b0567da56d8",
   "metadata": {
    "tags": []
   },
   "outputs": [
    {
     "name": "stdout",
     "output_type": "stream",
     "text": [
      "data\n",
      "test     0.905229\n",
      "train    1.000000\n",
      "dtype: float64\n",
      "    model  data  accuracy                                 precision  \\\n",
      "43  DT_22  test  0.905229  [0.8873239436619719, 0.9207317073170732]   \n",
      "\n",
      "                                      recall  \\\n",
      "43  [0.9064748201438849, 0.9041916167664671]   \n",
      "\n",
      "                                           importantF  \n",
      "43  [0.07302658476574798, 0.040892967537557376, 0....  \n",
      "['DT_22', DecisionTreeClassifier(max_depth=12, random_state=1000)]\n"
     ]
    }
   ],
   "source": [
    "X = heart_df[['age', 'sex', 'chest pain type', 'resting bp s', 'cholesterol',\n",
    "       'fasting blood sugar', 'resting ecg', 'max heart rate',\n",
    "       'exercise angina', 'oldpeak', 'ST slope']]\n",
    "command(X)"
   ]
  },
  {
   "cell_type": "code",
   "execution_count": 59,
   "id": "f68cec9f-565d-42ac-9a69-8a6108c2cc3f",
   "metadata": {
    "tags": []
   },
   "outputs": [
    {
     "data": {
      "text/html": [
       "<style>#sk-container-id-1 {color: black;}#sk-container-id-1 pre{padding: 0;}#sk-container-id-1 div.sk-toggleable {background-color: white;}#sk-container-id-1 label.sk-toggleable__label {cursor: pointer;display: block;width: 100%;margin-bottom: 0;padding: 0.3em;box-sizing: border-box;text-align: center;}#sk-container-id-1 label.sk-toggleable__label-arrow:before {content: \"▸\";float: left;margin-right: 0.25em;color: #696969;}#sk-container-id-1 label.sk-toggleable__label-arrow:hover:before {color: black;}#sk-container-id-1 div.sk-estimator:hover label.sk-toggleable__label-arrow:before {color: black;}#sk-container-id-1 div.sk-toggleable__content {max-height: 0;max-width: 0;overflow: hidden;text-align: left;background-color: #f0f8ff;}#sk-container-id-1 div.sk-toggleable__content pre {margin: 0.2em;color: black;border-radius: 0.25em;background-color: #f0f8ff;}#sk-container-id-1 input.sk-toggleable__control:checked~div.sk-toggleable__content {max-height: 200px;max-width: 100%;overflow: auto;}#sk-container-id-1 input.sk-toggleable__control:checked~label.sk-toggleable__label-arrow:before {content: \"▾\";}#sk-container-id-1 div.sk-estimator input.sk-toggleable__control:checked~label.sk-toggleable__label {background-color: #d4ebff;}#sk-container-id-1 div.sk-label input.sk-toggleable__control:checked~label.sk-toggleable__label {background-color: #d4ebff;}#sk-container-id-1 input.sk-hidden--visually {border: 0;clip: rect(1px 1px 1px 1px);clip: rect(1px, 1px, 1px, 1px);height: 1px;margin: -1px;overflow: hidden;padding: 0;position: absolute;width: 1px;}#sk-container-id-1 div.sk-estimator {font-family: monospace;background-color: #f0f8ff;border: 1px dotted black;border-radius: 0.25em;box-sizing: border-box;margin-bottom: 0.5em;}#sk-container-id-1 div.sk-estimator:hover {background-color: #d4ebff;}#sk-container-id-1 div.sk-parallel-item::after {content: \"\";width: 100%;border-bottom: 1px solid gray;flex-grow: 1;}#sk-container-id-1 div.sk-label:hover label.sk-toggleable__label {background-color: #d4ebff;}#sk-container-id-1 div.sk-serial::before {content: \"\";position: absolute;border-left: 1px solid gray;box-sizing: border-box;top: 0;bottom: 0;left: 50%;z-index: 0;}#sk-container-id-1 div.sk-serial {display: flex;flex-direction: column;align-items: center;background-color: white;padding-right: 0.2em;padding-left: 0.2em;position: relative;}#sk-container-id-1 div.sk-item {position: relative;z-index: 1;}#sk-container-id-1 div.sk-parallel {display: flex;align-items: stretch;justify-content: center;background-color: white;position: relative;}#sk-container-id-1 div.sk-item::before, #sk-container-id-1 div.sk-parallel-item::before {content: \"\";position: absolute;border-left: 1px solid gray;box-sizing: border-box;top: 0;bottom: 0;left: 50%;z-index: -1;}#sk-container-id-1 div.sk-parallel-item {display: flex;flex-direction: column;z-index: 1;position: relative;background-color: white;}#sk-container-id-1 div.sk-parallel-item:first-child::after {align-self: flex-end;width: 50%;}#sk-container-id-1 div.sk-parallel-item:last-child::after {align-self: flex-start;width: 50%;}#sk-container-id-1 div.sk-parallel-item:only-child::after {width: 0;}#sk-container-id-1 div.sk-dashed-wrapped {border: 1px dashed gray;margin: 0 0.4em 0.5em 0.4em;box-sizing: border-box;padding-bottom: 0.4em;background-color: white;}#sk-container-id-1 div.sk-label label {font-family: monospace;font-weight: bold;display: inline-block;line-height: 1.2em;}#sk-container-id-1 div.sk-label-container {text-align: center;}#sk-container-id-1 div.sk-container {/* jupyter's `normalize.less` sets `[hidden] { display: none; }` but bootstrap.min.css set `[hidden] { display: none !important; }` so we also need the `!important` here to be able to override the default hidden behavior on the sphinx rendered scikit-learn.org. See: https://github.com/scikit-learn/scikit-learn/issues/21755 */display: inline-block !important;position: relative;}#sk-container-id-1 div.sk-text-repr-fallback {display: none;}</style><div id=\"sk-container-id-1\" class=\"sk-top-container\"><div class=\"sk-text-repr-fallback\"><pre>DecisionTreeClassifier(max_depth=12, random_state=1000)</pre><b>In a Jupyter environment, please rerun this cell to show the HTML representation or trust the notebook. <br />On GitHub, the HTML representation is unable to render, please try loading this page with nbviewer.org.</b></div><div class=\"sk-container\" hidden><div class=\"sk-item\"><div class=\"sk-estimator sk-toggleable\"><input class=\"sk-toggleable__control sk-hidden--visually\" id=\"sk-estimator-id-1\" type=\"checkbox\" checked><label for=\"sk-estimator-id-1\" class=\"sk-toggleable__label sk-toggleable__label-arrow\">DecisionTreeClassifier</label><div class=\"sk-toggleable__content\"><pre>DecisionTreeClassifier(max_depth=12, random_state=1000)</pre></div></div></div></div></div>"
      ],
      "text/plain": [
       "DecisionTreeClassifier(max_depth=12, random_state=1000)"
      ]
     },
     "execution_count": 59,
     "metadata": {},
     "output_type": "execute_result"
    }
   ],
   "source": [
    "X = heart_df[['age', 'sex', 'chest pain type', 'resting bp s', 'cholesterol',\n",
    "       'fasting blood sugar', 'max heart rate',\n",
    "       'exercise angina', 'oldpeak', 'ST slope']]\n",
    "y = heart_df.target\n",
    "\n",
    "Test_size   = 0.3    # 0 to 1\n",
    "Random_seed = 1000\n",
    "X_train, X_test, y_train, y_test = train_test_split(X, y,\n",
    "                                                        test_size = Test_size,\n",
    "                                                        random_state = Random_seed)\n",
    "DT = DecisionTreeClassifier(\n",
    "                        criterion= 'gini',\n",
    "                        max_depth= 12, \n",
    "                        random_state= random_state_i,\n",
    "                        )\n",
    "models = DT\n",
    "model = models\n",
    "model.fit(X_train,y_train)"
   ]
  },
  {
   "cell_type": "code",
   "execution_count": 60,
   "id": "e5c847f8-7e84-4f4c-952a-d71592a5267d",
   "metadata": {
    "tags": []
   },
   "outputs": [
    {
     "name": "stdout",
     "output_type": "stream",
     "text": [
      "train\n",
      "Classification Report = \n",
      "              precision    recall  f1-score   support\n",
      "\n",
      "           0     0.9975    1.0000    0.9988       402\n",
      "           1     1.0000    0.9968    0.9984       309\n",
      "\n",
      "    accuracy                         0.9986       711\n",
      "   macro avg     0.9988    0.9984    0.9986       711\n",
      "weighted avg     0.9986    0.9986    0.9986       711\n",
      "\n",
      "\n"
     ]
    }
   ],
   "source": [
    "## Model selection metric \n",
    "cf_report = classification_report(y_train, model.predict(X_train),digits= 4)\n",
    "###  These two are equivalent.\n",
    "score = metrics.accuracy_score(y_train,model.predict(X_train))\n",
    "score = model.score(X_train,y_train)\n",
    "\n",
    "print('train')\n",
    "print(f'Classification Report = \\n{cf_report}', end='\\n'*2)"
   ]
  },
  {
   "cell_type": "code",
   "execution_count": 61,
   "id": "967c26ea-3a45-423c-b4ef-105aaed5538b",
   "metadata": {
    "tags": []
   },
   "outputs": [
    {
     "name": "stdout",
     "output_type": "stream",
     "text": [
      "test\n",
      "Classification Report = \n",
      "              precision    recall  f1-score   support\n",
      "\n",
      "           0     0.8929    0.8993    0.8961       139\n",
      "           1     0.9157    0.9102    0.9129       167\n",
      "\n",
      "    accuracy                         0.9052       306\n",
      "   macro avg     0.9043    0.9047    0.9045       306\n",
      "weighted avg     0.9053    0.9052    0.9053       306\n",
      "\n",
      "\n"
     ]
    }
   ],
   "source": [
    "## Model selection metric \n",
    "cf_report = classification_report(y_test, model.predict(X_test),digits= 4)\n",
    "###  These two are equivalent.\n",
    "score = metrics.accuracy_score(y_test,model.predict(X_test))\n",
    "score = model.score(X_test,y_test)\n",
    "\n",
    "print('test')\n",
    "print(f'Classification Report = \\n{cf_report}', end='\\n'*2)"
   ]
  },
  {
   "cell_type": "code",
   "execution_count": 62,
   "id": "377d3d12-f46a-48f5-b3c0-fa85b6bd2e70",
   "metadata": {},
   "outputs": [],
   "source": [
    "X = heart_df.drop(columns = 'target')\n",
    "y = heart_df.target\n",
    "\n",
    "test_size_i = 0.3 \n",
    "random_state_i = 1000\n",
    "X_train, X_test, y_train, y_test = train_test_split(X, y,\n",
    "                                                    test_size = 0.3,\n",
    "                                                    random_state = random_state_i)\n",
    "criterions = ['entropy','gini']\n",
    "n_estimators =  list(range(5,21,2))\n",
    "random_state_i = 1000\n",
    "max_depth = list(range(2,13))\n",
    "\n",
    "models= []\n",
    "i = 0\n",
    "for criterion_i in ['entropy','gini']:\n",
    "    for n_estimators_i in n_estimators:\n",
    "        for max_depth_i in max_depth:\n",
    "            i = i+1 \n",
    "            model = RandomForestClassifier(criterion= criterion_i,n_estimators= n_estimators_i, random_state= random_state_i, max_depth = max_depth_i ,bootstrap = True )\n",
    "            models.append(['RF_'+str(i), model])"
   ]
  },
  {
   "cell_type": "code",
   "execution_count": 63,
   "id": "571d6b08-1f47-4be4-b927-f170c352922a",
   "metadata": {
    "tags": []
   },
   "outputs": [
    {
     "data": {
      "text/plain": [
       "data\n",
       "test     0.908497\n",
       "train    1.000000\n",
       "dtype: float64"
      ]
     },
     "execution_count": 63,
     "metadata": {},
     "output_type": "execute_result"
    }
   ],
   "source": [
    "score_all = []\n",
    "\n",
    "for model_name, model in models:\n",
    "\n",
    "    model.fit(X_train, y_train) \n",
    "    fi  = model.feature_importances_\n",
    "    \n",
    "    for sample  in ['train','test']:\n",
    "        X_ = eval('X_'+sample)\n",
    "        y_ = eval('y_'+sample)\n",
    "\n",
    "        accu_score = model.score(X_,y_)\n",
    "\n",
    "        prec_score  = metrics.precision_score(y_,model.predict(X_),average= None)\n",
    "\n",
    "        recall_score  = metrics.recall_score(y_,model.predict(X_),average= None)\n",
    "        \n",
    "        score_all.append([model_name,sample,accu_score,prec_score,recall_score,fi])\n",
    "df_report = pd.DataFrame(score_all,columns=['model','data','accuracy','precision','recall','importantF'])\n",
    "a = df_report.pivot(index = 'model' , columns = 'data' , values = 'accuracy')\n",
    "a.max()"
   ]
  },
  {
   "cell_type": "code",
   "execution_count": 64,
   "id": "e3dab135-0f0e-413e-85dc-f073866c3aaa",
   "metadata": {
    "tags": []
   },
   "outputs": [
    {
     "data": {
      "text/html": [
       "<div>\n",
       "<style scoped>\n",
       "    .dataframe tbody tr th:only-of-type {\n",
       "        vertical-align: middle;\n",
       "    }\n",
       "\n",
       "    .dataframe tbody tr th {\n",
       "        vertical-align: top;\n",
       "    }\n",
       "\n",
       "    .dataframe thead th {\n",
       "        text-align: right;\n",
       "    }\n",
       "</style>\n",
       "<table border=\"1\" class=\"dataframe\">\n",
       "  <thead>\n",
       "    <tr style=\"text-align: right;\">\n",
       "      <th>data</th>\n",
       "      <th>test</th>\n",
       "      <th>train</th>\n",
       "    </tr>\n",
       "    <tr>\n",
       "      <th>model</th>\n",
       "      <th></th>\n",
       "      <th></th>\n",
       "    </tr>\n",
       "  </thead>\n",
       "  <tbody>\n",
       "    <tr>\n",
       "      <th>RF_165</th>\n",
       "      <td>0.908497</td>\n",
       "      <td>1.0</td>\n",
       "    </tr>\n",
       "  </tbody>\n",
       "</table>\n",
       "</div>"
      ],
      "text/plain": [
       "data        test  train\n",
       "model                  \n",
       "RF_165  0.908497    1.0"
      ]
     },
     "execution_count": 64,
     "metadata": {},
     "output_type": "execute_result"
    }
   ],
   "source": [
    "a[a.test >= 0.908]"
   ]
  },
  {
   "cell_type": "code",
   "execution_count": 65,
   "id": "6df3746f-18ae-41c4-a15d-f7712861fea3",
   "metadata": {
    "tags": []
   },
   "outputs": [
    {
     "data": {
      "text/plain": [
       "['RF_165',\n",
       " RandomForestClassifier(max_depth=12, n_estimators=17, random_state=1000)]"
      ]
     },
     "execution_count": 65,
     "metadata": {},
     "output_type": "execute_result"
    }
   ],
   "source": [
    "models[164]"
   ]
  },
  {
   "cell_type": "code",
   "execution_count": 66,
   "id": "de9e1972-f1dc-4467-88dc-9b90eafee602",
   "metadata": {
    "tags": []
   },
   "outputs": [
    {
     "data": {
      "text/plain": [
       "model                                                    RF_165\n",
       "data                                                       test\n",
       "accuracy                                               0.908497\n",
       "precision              [0.8775510204081632, 0.9371069182389937]\n",
       "recall                 [0.9280575539568345, 0.8922155688622755]\n",
       "importantF    [0.1013927246343582, 0.03555079027018663, 0.12...\n",
       "Name: 329, dtype: object"
      ]
     },
     "execution_count": 66,
     "metadata": {},
     "output_type": "execute_result"
    }
   ],
   "source": [
    "df_report.iloc[329,:]"
   ]
  },
  {
   "cell_type": "code",
   "execution_count": 67,
   "id": "beeccadd-7fab-4f12-9437-af14b07cb5d2",
   "metadata": {
    "tags": []
   },
   "outputs": [
    {
     "data": {
      "text/plain": [
       "age                    0.101393\n",
       "sex                    0.035551\n",
       "chest pain type        0.120106\n",
       "resting bp s           0.074385\n",
       "cholesterol            0.082878\n",
       "fasting blood sugar    0.008020\n",
       "resting ecg            0.029120\n",
       "max heart rate         0.102770\n",
       "exercise angina        0.144869\n",
       "oldpeak                0.107030\n",
       "ST slope               0.193879\n",
       "Name: 329, dtype: float64"
      ]
     },
     "execution_count": 67,
     "metadata": {},
     "output_type": "execute_result"
    }
   ],
   "source": [
    "e = pd.DataFrame(df_report.importantF.tolist(),columns = list(X.columns))\n",
    "e.iloc[329,:]"
   ]
  },
  {
   "cell_type": "code",
   "execution_count": 68,
   "id": "306b8393-c26e-4730-aaa4-872cb92cfbb6",
   "metadata": {},
   "outputs": [],
   "source": [
    "def com(X):\n",
    "    y = heart_df.target\n",
    "    Test_size = 0.3\n",
    "    random_state_i = 1000\n",
    "    X_train, X_test, y_train, y_test = train_test_split(X, y,\n",
    "                                                    test_size = 0.3,\n",
    "                                                    random_state = random_state_i)\n",
    "    \n",
    "    criterions = ['entropy','gini']\n",
    "    n_estimators =  list(range(5,21,2))\n",
    "    random_state_i = 1000\n",
    "    max_depth = list(range(2,13))\n",
    "\n",
    "    models= []\n",
    "    i = 0\n",
    "    for criterion_i in ['entropy','gini']:\n",
    "        for n_estimators_i in n_estimators:\n",
    "            for max_depth_i in max_depth:\n",
    "                i = i+1 \n",
    "                model = RandomForestClassifier(criterion= criterion_i,n_estimators= n_estimators_i, random_state= random_state_i, max_depth = max_depth_i ,bootstrap = True )\n",
    "                models.append(['RF_'+str(i), model])\n",
    "    score_all = []\n",
    "    \n",
    "    for model_name, model in models:\n",
    "\n",
    "        model.fit(X_train, y_train) \n",
    "        fi  = model.feature_importances_\n",
    "    \n",
    "        for sample  in ['train','test']:\n",
    "            X_ = eval('X_'+sample)\n",
    "            y_ = eval('y_'+sample)\n",
    "\n",
    "            accu_score = model.score(X_,y_)\n",
    "\n",
    "            prec_score  = metrics.precision_score(y_,model.predict(X_),average= None)\n",
    "\n",
    "            recall_score  = metrics.recall_score(y_,model.predict(X_),average= None)\n",
    "\n",
    "            score_all.append([model_name,sample,accu_score,prec_score,recall_score,fi])\n",
    "    df_report = pd.DataFrame(score_all,columns=['model','data','accuracy','precision','recall','importantF'])\n",
    "    a = df_report.pivot(index = 'model' , columns = 'data' , values = 'accuracy')\n",
    "    print(a.max())\n",
    "    b = list(a.max())\n",
    "    print(df_report[df_report.accuracy == b [0]])\n",
    "    c = df_report[df_report.accuracy == b[0]].index\n",
    "    for d in list(c):\n",
    "        d = d//2\n",
    "        print(models[d])"
   ]
  },
  {
   "cell_type": "code",
   "execution_count": 69,
   "id": "97a399df-8651-46f1-bdb9-0657c8eed5fd",
   "metadata": {
    "tags": []
   },
   "outputs": [
    {
     "name": "stdout",
     "output_type": "stream",
     "text": [
      "data\n",
      "test     0.784314\n",
      "train    0.800281\n",
      "dtype: float64\n",
      "      model  data  accuracy                                 precision  \\\n",
      "25    RF_13  test  0.784314  [0.7664233576642335, 0.7988165680473372]   \n",
      "27    RF_14  test  0.784314  [0.7664233576642335, 0.7988165680473372]   \n",
      "29    RF_15  test  0.784314  [0.7664233576642335, 0.7988165680473372]   \n",
      "31    RF_16  test  0.784314  [0.7664233576642335, 0.7988165680473372]   \n",
      "33    RF_17  test  0.784314  [0.7664233576642335, 0.7988165680473372]   \n",
      "..      ...   ...       ...                                       ...   \n",
      "343  RF_172  test  0.784314  [0.7664233576642335, 0.7988165680473372]   \n",
      "345  RF_173  test  0.784314  [0.7664233576642335, 0.7988165680473372]   \n",
      "347  RF_174  test  0.784314  [0.7664233576642335, 0.7988165680473372]   \n",
      "349  RF_175  test  0.784314  [0.7664233576642335, 0.7988165680473372]   \n",
      "351  RF_176  test  0.784314  [0.7664233576642335, 0.7988165680473372]   \n",
      "\n",
      "                                       recall  \\\n",
      "25   [0.7553956834532374, 0.8083832335329342]   \n",
      "27   [0.7553956834532374, 0.8083832335329342]   \n",
      "29   [0.7553956834532374, 0.8083832335329342]   \n",
      "31   [0.7553956834532374, 0.8083832335329342]   \n",
      "33   [0.7553956834532374, 0.8083832335329342]   \n",
      "..                                        ...   \n",
      "343  [0.7553956834532374, 0.8083832335329342]   \n",
      "345  [0.7553956834532374, 0.8083832335329342]   \n",
      "347  [0.7553956834532374, 0.8083832335329342]   \n",
      "349  [0.7553956834532374, 0.8083832335329342]   \n",
      "351  [0.7553956834532374, 0.8083832335329342]   \n",
      "\n",
      "                                   importantF  \n",
      "25   [0.4869399341734723, 0.5130600658265276]  \n",
      "27   [0.4869399341734723, 0.5130600658265276]  \n",
      "29   [0.4869399341734723, 0.5130600658265276]  \n",
      "31   [0.4869399341734723, 0.5130600658265276]  \n",
      "33   [0.4869399341734723, 0.5130600658265276]  \n",
      "..                                        ...  \n",
      "343  [0.4881224708339648, 0.5118775291660352]  \n",
      "345  [0.4881224708339648, 0.5118775291660352]  \n",
      "347  [0.4881224708339648, 0.5118775291660352]  \n",
      "349  [0.4881224708339648, 0.5118775291660352]  \n",
      "351  [0.4881224708339648, 0.5118775291660352]  \n",
      "\n",
      "[140 rows x 6 columns]\n",
      "['RF_13', RandomForestClassifier(criterion='entropy', max_depth=3, n_estimators=7,\n",
      "                       random_state=1000)]\n",
      "['RF_14', RandomForestClassifier(criterion='entropy', max_depth=4, n_estimators=7,\n",
      "                       random_state=1000)]\n",
      "['RF_15', RandomForestClassifier(criterion='entropy', max_depth=5, n_estimators=7,\n",
      "                       random_state=1000)]\n",
      "['RF_16', RandomForestClassifier(criterion='entropy', max_depth=6, n_estimators=7,\n",
      "                       random_state=1000)]\n",
      "['RF_17', RandomForestClassifier(criterion='entropy', max_depth=7, n_estimators=7,\n",
      "                       random_state=1000)]\n",
      "['RF_18', RandomForestClassifier(criterion='entropy', max_depth=8, n_estimators=7,\n",
      "                       random_state=1000)]\n",
      "['RF_19', RandomForestClassifier(criterion='entropy', max_depth=9, n_estimators=7,\n",
      "                       random_state=1000)]\n",
      "['RF_20', RandomForestClassifier(criterion='entropy', max_depth=10, n_estimators=7,\n",
      "                       random_state=1000)]\n",
      "['RF_21', RandomForestClassifier(criterion='entropy', max_depth=11, n_estimators=7,\n",
      "                       random_state=1000)]\n",
      "['RF_22', RandomForestClassifier(criterion='entropy', max_depth=12, n_estimators=7,\n",
      "                       random_state=1000)]\n",
      "['RF_24', RandomForestClassifier(criterion='entropy', max_depth=3, n_estimators=9,\n",
      "                       random_state=1000)]\n",
      "['RF_25', RandomForestClassifier(criterion='entropy', max_depth=4, n_estimators=9,\n",
      "                       random_state=1000)]\n",
      "['RF_26', RandomForestClassifier(criterion='entropy', max_depth=5, n_estimators=9,\n",
      "                       random_state=1000)]\n",
      "['RF_27', RandomForestClassifier(criterion='entropy', max_depth=6, n_estimators=9,\n",
      "                       random_state=1000)]\n",
      "['RF_28', RandomForestClassifier(criterion='entropy', max_depth=7, n_estimators=9,\n",
      "                       random_state=1000)]\n",
      "['RF_29', RandomForestClassifier(criterion='entropy', max_depth=8, n_estimators=9,\n",
      "                       random_state=1000)]\n",
      "['RF_30', RandomForestClassifier(criterion='entropy', max_depth=9, n_estimators=9,\n",
      "                       random_state=1000)]\n",
      "['RF_31', RandomForestClassifier(criterion='entropy', max_depth=10, n_estimators=9,\n",
      "                       random_state=1000)]\n",
      "['RF_32', RandomForestClassifier(criterion='entropy', max_depth=11, n_estimators=9,\n",
      "                       random_state=1000)]\n",
      "['RF_33', RandomForestClassifier(criterion='entropy', max_depth=12, n_estimators=9,\n",
      "                       random_state=1000)]\n",
      "['RF_35', RandomForestClassifier(criterion='entropy', max_depth=3, n_estimators=11,\n",
      "                       random_state=1000)]\n",
      "['RF_36', RandomForestClassifier(criterion='entropy', max_depth=4, n_estimators=11,\n",
      "                       random_state=1000)]\n",
      "['RF_37', RandomForestClassifier(criterion='entropy', max_depth=5, n_estimators=11,\n",
      "                       random_state=1000)]\n",
      "['RF_38', RandomForestClassifier(criterion='entropy', max_depth=6, n_estimators=11,\n",
      "                       random_state=1000)]\n",
      "['RF_39', RandomForestClassifier(criterion='entropy', max_depth=7, n_estimators=11,\n",
      "                       random_state=1000)]\n",
      "['RF_40', RandomForestClassifier(criterion='entropy', max_depth=8, n_estimators=11,\n",
      "                       random_state=1000)]\n",
      "['RF_41', RandomForestClassifier(criterion='entropy', max_depth=9, n_estimators=11,\n",
      "                       random_state=1000)]\n",
      "['RF_42', RandomForestClassifier(criterion='entropy', max_depth=10, n_estimators=11,\n",
      "                       random_state=1000)]\n",
      "['RF_43', RandomForestClassifier(criterion='entropy', max_depth=11, n_estimators=11,\n",
      "                       random_state=1000)]\n",
      "['RF_44', RandomForestClassifier(criterion='entropy', max_depth=12, n_estimators=11,\n",
      "                       random_state=1000)]\n",
      "['RF_46', RandomForestClassifier(criterion='entropy', max_depth=3, n_estimators=13,\n",
      "                       random_state=1000)]\n",
      "['RF_47', RandomForestClassifier(criterion='entropy', max_depth=4, n_estimators=13,\n",
      "                       random_state=1000)]\n",
      "['RF_48', RandomForestClassifier(criterion='entropy', max_depth=5, n_estimators=13,\n",
      "                       random_state=1000)]\n",
      "['RF_49', RandomForestClassifier(criterion='entropy', max_depth=6, n_estimators=13,\n",
      "                       random_state=1000)]\n",
      "['RF_50', RandomForestClassifier(criterion='entropy', max_depth=7, n_estimators=13,\n",
      "                       random_state=1000)]\n",
      "['RF_51', RandomForestClassifier(criterion='entropy', max_depth=8, n_estimators=13,\n",
      "                       random_state=1000)]\n",
      "['RF_52', RandomForestClassifier(criterion='entropy', max_depth=9, n_estimators=13,\n",
      "                       random_state=1000)]\n",
      "['RF_53', RandomForestClassifier(criterion='entropy', max_depth=10, n_estimators=13,\n",
      "                       random_state=1000)]\n",
      "['RF_54', RandomForestClassifier(criterion='entropy', max_depth=11, n_estimators=13,\n",
      "                       random_state=1000)]\n",
      "['RF_55', RandomForestClassifier(criterion='entropy', max_depth=12, n_estimators=13,\n",
      "                       random_state=1000)]\n",
      "['RF_57', RandomForestClassifier(criterion='entropy', max_depth=3, n_estimators=15,\n",
      "                       random_state=1000)]\n",
      "['RF_58', RandomForestClassifier(criterion='entropy', max_depth=4, n_estimators=15,\n",
      "                       random_state=1000)]\n",
      "['RF_59', RandomForestClassifier(criterion='entropy', max_depth=5, n_estimators=15,\n",
      "                       random_state=1000)]\n",
      "['RF_60', RandomForestClassifier(criterion='entropy', max_depth=6, n_estimators=15,\n",
      "                       random_state=1000)]\n",
      "['RF_61', RandomForestClassifier(criterion='entropy', max_depth=7, n_estimators=15,\n",
      "                       random_state=1000)]\n",
      "['RF_62', RandomForestClassifier(criterion='entropy', max_depth=8, n_estimators=15,\n",
      "                       random_state=1000)]\n",
      "['RF_63', RandomForestClassifier(criterion='entropy', max_depth=9, n_estimators=15,\n",
      "                       random_state=1000)]\n",
      "['RF_64', RandomForestClassifier(criterion='entropy', max_depth=10, n_estimators=15,\n",
      "                       random_state=1000)]\n",
      "['RF_65', RandomForestClassifier(criterion='entropy', max_depth=11, n_estimators=15,\n",
      "                       random_state=1000)]\n",
      "['RF_66', RandomForestClassifier(criterion='entropy', max_depth=12, n_estimators=15,\n",
      "                       random_state=1000)]\n",
      "['RF_68', RandomForestClassifier(criterion='entropy', max_depth=3, n_estimators=17,\n",
      "                       random_state=1000)]\n",
      "['RF_69', RandomForestClassifier(criterion='entropy', max_depth=4, n_estimators=17,\n",
      "                       random_state=1000)]\n",
      "['RF_70', RandomForestClassifier(criterion='entropy', max_depth=5, n_estimators=17,\n",
      "                       random_state=1000)]\n",
      "['RF_71', RandomForestClassifier(criterion='entropy', max_depth=6, n_estimators=17,\n",
      "                       random_state=1000)]\n",
      "['RF_72', RandomForestClassifier(criterion='entropy', max_depth=7, n_estimators=17,\n",
      "                       random_state=1000)]\n",
      "['RF_73', RandomForestClassifier(criterion='entropy', max_depth=8, n_estimators=17,\n",
      "                       random_state=1000)]\n",
      "['RF_74', RandomForestClassifier(criterion='entropy', max_depth=9, n_estimators=17,\n",
      "                       random_state=1000)]\n",
      "['RF_75', RandomForestClassifier(criterion='entropy', max_depth=10, n_estimators=17,\n",
      "                       random_state=1000)]\n",
      "['RF_76', RandomForestClassifier(criterion='entropy', max_depth=11, n_estimators=17,\n",
      "                       random_state=1000)]\n",
      "['RF_77', RandomForestClassifier(criterion='entropy', max_depth=12, n_estimators=17,\n",
      "                       random_state=1000)]\n",
      "['RF_79', RandomForestClassifier(criterion='entropy', max_depth=3, n_estimators=19,\n",
      "                       random_state=1000)]\n",
      "['RF_80', RandomForestClassifier(criterion='entropy', max_depth=4, n_estimators=19,\n",
      "                       random_state=1000)]\n",
      "['RF_81', RandomForestClassifier(criterion='entropy', max_depth=5, n_estimators=19,\n",
      "                       random_state=1000)]\n",
      "['RF_82', RandomForestClassifier(criterion='entropy', max_depth=6, n_estimators=19,\n",
      "                       random_state=1000)]\n",
      "['RF_83', RandomForestClassifier(criterion='entropy', max_depth=7, n_estimators=19,\n",
      "                       random_state=1000)]\n",
      "['RF_84', RandomForestClassifier(criterion='entropy', max_depth=8, n_estimators=19,\n",
      "                       random_state=1000)]\n",
      "['RF_85', RandomForestClassifier(criterion='entropy', max_depth=9, n_estimators=19,\n",
      "                       random_state=1000)]\n",
      "['RF_86', RandomForestClassifier(criterion='entropy', max_depth=10, n_estimators=19,\n",
      "                       random_state=1000)]\n",
      "['RF_87', RandomForestClassifier(criterion='entropy', max_depth=11, n_estimators=19,\n",
      "                       random_state=1000)]\n",
      "['RF_88', RandomForestClassifier(criterion='entropy', max_depth=12, n_estimators=19,\n",
      "                       random_state=1000)]\n",
      "['RF_101', RandomForestClassifier(max_depth=3, n_estimators=7, random_state=1000)]\n",
      "['RF_102', RandomForestClassifier(max_depth=4, n_estimators=7, random_state=1000)]\n",
      "['RF_103', RandomForestClassifier(max_depth=5, n_estimators=7, random_state=1000)]\n",
      "['RF_104', RandomForestClassifier(max_depth=6, n_estimators=7, random_state=1000)]\n",
      "['RF_105', RandomForestClassifier(max_depth=7, n_estimators=7, random_state=1000)]\n",
      "['RF_106', RandomForestClassifier(max_depth=8, n_estimators=7, random_state=1000)]\n",
      "['RF_107', RandomForestClassifier(max_depth=9, n_estimators=7, random_state=1000)]\n",
      "['RF_108', RandomForestClassifier(max_depth=10, n_estimators=7, random_state=1000)]\n",
      "['RF_109', RandomForestClassifier(max_depth=11, n_estimators=7, random_state=1000)]\n",
      "['RF_110', RandomForestClassifier(max_depth=12, n_estimators=7, random_state=1000)]\n",
      "['RF_112', RandomForestClassifier(max_depth=3, n_estimators=9, random_state=1000)]\n",
      "['RF_113', RandomForestClassifier(max_depth=4, n_estimators=9, random_state=1000)]\n",
      "['RF_114', RandomForestClassifier(max_depth=5, n_estimators=9, random_state=1000)]\n",
      "['RF_115', RandomForestClassifier(max_depth=6, n_estimators=9, random_state=1000)]\n",
      "['RF_116', RandomForestClassifier(max_depth=7, n_estimators=9, random_state=1000)]\n",
      "['RF_117', RandomForestClassifier(max_depth=8, n_estimators=9, random_state=1000)]\n",
      "['RF_118', RandomForestClassifier(max_depth=9, n_estimators=9, random_state=1000)]\n",
      "['RF_119', RandomForestClassifier(max_depth=10, n_estimators=9, random_state=1000)]\n",
      "['RF_120', RandomForestClassifier(max_depth=11, n_estimators=9, random_state=1000)]\n",
      "['RF_121', RandomForestClassifier(max_depth=12, n_estimators=9, random_state=1000)]\n",
      "['RF_123', RandomForestClassifier(max_depth=3, n_estimators=11, random_state=1000)]\n",
      "['RF_124', RandomForestClassifier(max_depth=4, n_estimators=11, random_state=1000)]\n",
      "['RF_125', RandomForestClassifier(max_depth=5, n_estimators=11, random_state=1000)]\n",
      "['RF_126', RandomForestClassifier(max_depth=6, n_estimators=11, random_state=1000)]\n",
      "['RF_127', RandomForestClassifier(max_depth=7, n_estimators=11, random_state=1000)]\n",
      "['RF_128', RandomForestClassifier(max_depth=8, n_estimators=11, random_state=1000)]\n",
      "['RF_129', RandomForestClassifier(max_depth=9, n_estimators=11, random_state=1000)]\n",
      "['RF_130', RandomForestClassifier(max_depth=10, n_estimators=11, random_state=1000)]\n",
      "['RF_131', RandomForestClassifier(max_depth=11, n_estimators=11, random_state=1000)]\n",
      "['RF_132', RandomForestClassifier(max_depth=12, n_estimators=11, random_state=1000)]\n",
      "['RF_134', RandomForestClassifier(max_depth=3, n_estimators=13, random_state=1000)]\n",
      "['RF_135', RandomForestClassifier(max_depth=4, n_estimators=13, random_state=1000)]\n",
      "['RF_136', RandomForestClassifier(max_depth=5, n_estimators=13, random_state=1000)]\n",
      "['RF_137', RandomForestClassifier(max_depth=6, n_estimators=13, random_state=1000)]\n",
      "['RF_138', RandomForestClassifier(max_depth=7, n_estimators=13, random_state=1000)]\n",
      "['RF_139', RandomForestClassifier(max_depth=8, n_estimators=13, random_state=1000)]\n",
      "['RF_140', RandomForestClassifier(max_depth=9, n_estimators=13, random_state=1000)]\n",
      "['RF_141', RandomForestClassifier(max_depth=10, n_estimators=13, random_state=1000)]\n",
      "['RF_142', RandomForestClassifier(max_depth=11, n_estimators=13, random_state=1000)]\n",
      "['RF_143', RandomForestClassifier(max_depth=12, n_estimators=13, random_state=1000)]\n",
      "['RF_145', RandomForestClassifier(max_depth=3, n_estimators=15, random_state=1000)]\n",
      "['RF_146', RandomForestClassifier(max_depth=4, n_estimators=15, random_state=1000)]\n",
      "['RF_147', RandomForestClassifier(max_depth=5, n_estimators=15, random_state=1000)]\n",
      "['RF_148', RandomForestClassifier(max_depth=6, n_estimators=15, random_state=1000)]\n",
      "['RF_149', RandomForestClassifier(max_depth=7, n_estimators=15, random_state=1000)]\n",
      "['RF_150', RandomForestClassifier(max_depth=8, n_estimators=15, random_state=1000)]\n",
      "['RF_151', RandomForestClassifier(max_depth=9, n_estimators=15, random_state=1000)]\n",
      "['RF_152', RandomForestClassifier(max_depth=10, n_estimators=15, random_state=1000)]\n",
      "['RF_153', RandomForestClassifier(max_depth=11, n_estimators=15, random_state=1000)]\n",
      "['RF_154', RandomForestClassifier(max_depth=12, n_estimators=15, random_state=1000)]\n",
      "['RF_156', RandomForestClassifier(max_depth=3, n_estimators=17, random_state=1000)]\n",
      "['RF_157', RandomForestClassifier(max_depth=4, n_estimators=17, random_state=1000)]\n",
      "['RF_158', RandomForestClassifier(max_depth=5, n_estimators=17, random_state=1000)]\n",
      "['RF_159', RandomForestClassifier(max_depth=6, n_estimators=17, random_state=1000)]\n",
      "['RF_160', RandomForestClassifier(max_depth=7, n_estimators=17, random_state=1000)]\n",
      "['RF_161', RandomForestClassifier(max_depth=8, n_estimators=17, random_state=1000)]\n",
      "['RF_162', RandomForestClassifier(max_depth=9, n_estimators=17, random_state=1000)]\n",
      "['RF_163', RandomForestClassifier(max_depth=10, n_estimators=17, random_state=1000)]\n",
      "['RF_164', RandomForestClassifier(max_depth=11, n_estimators=17, random_state=1000)]\n",
      "['RF_165', RandomForestClassifier(max_depth=12, n_estimators=17, random_state=1000)]\n",
      "['RF_167', RandomForestClassifier(max_depth=3, n_estimators=19, random_state=1000)]\n",
      "['RF_168', RandomForestClassifier(max_depth=4, n_estimators=19, random_state=1000)]\n",
      "['RF_169', RandomForestClassifier(max_depth=5, n_estimators=19, random_state=1000)]\n",
      "['RF_170', RandomForestClassifier(max_depth=6, n_estimators=19, random_state=1000)]\n",
      "['RF_171', RandomForestClassifier(max_depth=7, n_estimators=19, random_state=1000)]\n",
      "['RF_172', RandomForestClassifier(max_depth=8, n_estimators=19, random_state=1000)]\n",
      "['RF_173', RandomForestClassifier(max_depth=9, n_estimators=19, random_state=1000)]\n",
      "['RF_174', RandomForestClassifier(max_depth=10, n_estimators=19, random_state=1000)]\n",
      "['RF_175', RandomForestClassifier(max_depth=11, n_estimators=19, random_state=1000)]\n",
      "['RF_176', RandomForestClassifier(max_depth=12, n_estimators=19, random_state=1000)]\n"
     ]
    }
   ],
   "source": [
    "X = heart_df[['exercise angina','ST slope']]\n",
    "com(X)"
   ]
  },
  {
   "cell_type": "code",
   "execution_count": 70,
   "id": "07b9d1ff-4010-4fe2-84f7-8e8b59bb3366",
   "metadata": {
    "tags": []
   },
   "outputs": [
    {
     "name": "stdout",
     "output_type": "stream",
     "text": [
      "data\n",
      "test     0.823529\n",
      "train    0.841069\n",
      "dtype: float64\n",
      "     model  data  accuracy                                precision  \\\n",
      "9     RF_5  test  0.823529  [0.7814569536423841, 0.864516129032258]   \n",
      "11    RF_6  test  0.823529  [0.7814569536423841, 0.864516129032258]   \n",
      "13    RF_7  test  0.823529  [0.7814569536423841, 0.864516129032258]   \n",
      "15    RF_8  test  0.823529  [0.7814569536423841, 0.864516129032258]   \n",
      "17    RF_9  test  0.823529  [0.7814569536423841, 0.864516129032258]   \n",
      "19   RF_10  test  0.823529  [0.7814569536423841, 0.864516129032258]   \n",
      "21   RF_11  test  0.823529  [0.7814569536423841, 0.864516129032258]   \n",
      "185  RF_93  test  0.823529  [0.7814569536423841, 0.864516129032258]   \n",
      "187  RF_94  test  0.823529  [0.7814569536423841, 0.864516129032258]   \n",
      "189  RF_95  test  0.823529  [0.7814569536423841, 0.864516129032258]   \n",
      "191  RF_96  test  0.823529  [0.7814569536423841, 0.864516129032258]   \n",
      "193  RF_97  test  0.823529  [0.7814569536423841, 0.864516129032258]   \n",
      "195  RF_98  test  0.823529  [0.7814569536423841, 0.864516129032258]   \n",
      "197  RF_99  test  0.823529  [0.7814569536423841, 0.864516129032258]   \n",
      "\n",
      "                                       recall  \\\n",
      "9    [0.8489208633093526, 0.8023952095808383]   \n",
      "11   [0.8489208633093526, 0.8023952095808383]   \n",
      "13   [0.8489208633093526, 0.8023952095808383]   \n",
      "15   [0.8489208633093526, 0.8023952095808383]   \n",
      "17   [0.8489208633093526, 0.8023952095808383]   \n",
      "19   [0.8489208633093526, 0.8023952095808383]   \n",
      "21   [0.8489208633093526, 0.8023952095808383]   \n",
      "185  [0.8489208633093526, 0.8023952095808383]   \n",
      "187  [0.8489208633093526, 0.8023952095808383]   \n",
      "189  [0.8489208633093526, 0.8023952095808383]   \n",
      "191  [0.8489208633093526, 0.8023952095808383]   \n",
      "193  [0.8489208633093526, 0.8023952095808383]   \n",
      "195  [0.8489208633093526, 0.8023952095808383]   \n",
      "197  [0.8489208633093526, 0.8023952095808383]   \n",
      "\n",
      "                                            importantF  \n",
      "9    [0.24138841208310935, 0.39528336436873646, 0.3...  \n",
      "11   [0.24983012032315483, 0.39528336436873646, 0.3...  \n",
      "13   [0.24983012032315483, 0.39528336436873646, 0.3...  \n",
      "15   [0.24983012032315483, 0.39528336436873646, 0.3...  \n",
      "17   [0.24983012032315483, 0.39528336436873646, 0.3...  \n",
      "19   [0.24983012032315483, 0.39528336436873646, 0.3...  \n",
      "21   [0.24983012032315483, 0.39528336436873646, 0.3...  \n",
      "185  [0.20252023590464294, 0.45690828360797914, 0.3...  \n",
      "187  [0.2100197690672827, 0.4569082836079791, 0.333...  \n",
      "189  [0.2100197690672827, 0.4569082836079791, 0.333...  \n",
      "191  [0.2100197690672827, 0.4569082836079791, 0.333...  \n",
      "193  [0.2100197690672827, 0.4569082836079791, 0.333...  \n",
      "195  [0.2100197690672827, 0.4569082836079791, 0.333...  \n",
      "197  [0.2100197690672827, 0.4569082836079791, 0.333...  \n",
      "['RF_5', RandomForestClassifier(criterion='entropy', max_depth=6, n_estimators=5,\n",
      "                       random_state=1000)]\n",
      "['RF_6', RandomForestClassifier(criterion='entropy', max_depth=7, n_estimators=5,\n",
      "                       random_state=1000)]\n",
      "['RF_7', RandomForestClassifier(criterion='entropy', max_depth=8, n_estimators=5,\n",
      "                       random_state=1000)]\n",
      "['RF_8', RandomForestClassifier(criterion='entropy', max_depth=9, n_estimators=5,\n",
      "                       random_state=1000)]\n",
      "['RF_9', RandomForestClassifier(criterion='entropy', max_depth=10, n_estimators=5,\n",
      "                       random_state=1000)]\n",
      "['RF_10', RandomForestClassifier(criterion='entropy', max_depth=11, n_estimators=5,\n",
      "                       random_state=1000)]\n",
      "['RF_11', RandomForestClassifier(criterion='entropy', max_depth=12, n_estimators=5,\n",
      "                       random_state=1000)]\n",
      "['RF_93', RandomForestClassifier(max_depth=6, n_estimators=5, random_state=1000)]\n",
      "['RF_94', RandomForestClassifier(max_depth=7, n_estimators=5, random_state=1000)]\n",
      "['RF_95', RandomForestClassifier(max_depth=8, n_estimators=5, random_state=1000)]\n",
      "['RF_96', RandomForestClassifier(max_depth=9, n_estimators=5, random_state=1000)]\n",
      "['RF_97', RandomForestClassifier(max_depth=10, n_estimators=5, random_state=1000)]\n",
      "['RF_98', RandomForestClassifier(max_depth=11, n_estimators=5, random_state=1000)]\n",
      "['RF_99', RandomForestClassifier(max_depth=12, n_estimators=5, random_state=1000)]\n"
     ]
    }
   ],
   "source": [
    "X = heart_df[['chest pain type', 'exercise angina', 'ST slope']]\n",
    "com(X)"
   ]
  },
  {
   "cell_type": "code",
   "execution_count": 71,
   "id": "7a79aa72-bb47-458d-9d76-7b9ce112190a",
   "metadata": {
    "tags": []
   },
   "outputs": [
    {
     "name": "stdout",
     "output_type": "stream",
     "text": [
      "data\n",
      "test     0.843137\n",
      "train    0.905767\n",
      "dtype: float64\n",
      "     model  data  accuracy                                 precision  \\\n",
      "7     RF_4  test  0.843137  [0.8013245033112583, 0.8838709677419355]   \n",
      "183  RF_92  test  0.843137  [0.8053691275167785, 0.8789808917197452]   \n",
      "\n",
      "                                       recall  \\\n",
      "7    [0.8705035971223022, 0.8203592814371258]   \n",
      "183  [0.8633093525179856, 0.8263473053892215]   \n",
      "\n",
      "                                            importantF  \n",
      "7    [0.1978174896737995, 0.10272769933450775, 0.19...  \n",
      "183  [0.14282319202263036, 0.10089523672814016, 0.1...  \n",
      "['RF_4', RandomForestClassifier(criterion='entropy', max_depth=5, n_estimators=5,\n",
      "                       random_state=1000)]\n",
      "['RF_92', RandomForestClassifier(max_depth=5, n_estimators=5, random_state=1000)]\n"
     ]
    }
   ],
   "source": [
    "X = heart_df[['chest pain type', 'exercise angina', 'oldpeak', 'ST slope']]\n",
    "com(X)"
   ]
  },
  {
   "cell_type": "code",
   "execution_count": 72,
   "id": "185de568-ccad-46bd-8e42-13b1f1971372",
   "metadata": {
    "tags": []
   },
   "outputs": [
    {
     "name": "stdout",
     "output_type": "stream",
     "text": [
      "data\n",
      "test     0.885621\n",
      "train    0.983122\n",
      "dtype: float64\n",
      "      model  data  accuracy                                 precision  \\\n",
      "329  RF_165  test  0.885621  [0.8513513513513513, 0.9177215189873418]   \n",
      "351  RF_176  test  0.885621  [0.8513513513513513, 0.9177215189873418]   \n",
      "\n",
      "                                       recall  \\\n",
      "329  [0.9064748201438849, 0.8682634730538922]   \n",
      "351  [0.9064748201438849, 0.8682634730538922]   \n",
      "\n",
      "                                            importantF  \n",
      "329  [0.1904889448574944, 0.27760571267300477, 0.10...  \n",
      "351  [0.1828511824069526, 0.28131566260526225, 0.10...  \n",
      "['RF_165', RandomForestClassifier(max_depth=12, n_estimators=17, random_state=1000)]\n",
      "['RF_176', RandomForestClassifier(max_depth=12, n_estimators=19, random_state=1000)]\n"
     ]
    }
   ],
   "source": [
    "X = heart_df[['chest pain type','max heart rate',\n",
    "       'exercise angina', 'oldpeak', 'ST slope']]\n",
    "com(X)"
   ]
  },
  {
   "cell_type": "code",
   "execution_count": 73,
   "id": "19269c3b-0830-452f-b319-eb6dea80ae31",
   "metadata": {
    "tags": []
   },
   "outputs": [
    {
     "name": "stdout",
     "output_type": "stream",
     "text": [
      "data\n",
      "test     0.898693\n",
      "train    0.998594\n",
      "dtype: float64\n",
      "     model  data  accuracy                    precision  \\\n",
      "107  RF_54  test  0.898693  [0.8698630136986302, 0.925]   \n",
      "173  RF_87  test  0.898693  [0.875, 0.9197530864197531]   \n",
      "\n",
      "                                       recall  \\\n",
      "107  [0.9136690647482014, 0.8862275449101796]   \n",
      "173  [0.9064748201438849, 0.8922155688622755]   \n",
      "\n",
      "                                            importantF  \n",
      "107  [0.17677389927916903, 0.1667582940369126, 0.19...  \n",
      "173  [0.17620350407853333, 0.15407290172716462, 0.2...  \n",
      "['RF_54', RandomForestClassifier(criterion='entropy', max_depth=11, n_estimators=13,\n",
      "                       random_state=1000)]\n",
      "['RF_87', RandomForestClassifier(criterion='entropy', max_depth=11, n_estimators=19,\n",
      "                       random_state=1000)]\n"
     ]
    }
   ],
   "source": [
    "X = heart_df[['age', 'chest pain type', 'max heart rate',\n",
    "       'exercise angina', 'oldpeak', 'ST slope']]\n",
    "com(X)"
   ]
  },
  {
   "cell_type": "code",
   "execution_count": 74,
   "id": "b709df39-26cf-4099-8108-21610e2915ef",
   "metadata": {
    "tags": []
   },
   "outputs": [
    {
     "name": "stdout",
     "output_type": "stream",
     "text": [
      "data\n",
      "test     0.911765\n",
      "train    1.000000\n",
      "dtype: float64\n",
      "     model  data  accuracy                                 precision  \\\n",
      "173  RF_87  test  0.911765  [0.8733333333333333, 0.9487179487179487]   \n",
      "\n",
      "                                       recall  \\\n",
      "173  [0.9424460431654677, 0.8862275449101796]   \n",
      "\n",
      "                                            importantF  \n",
      "173  [0.1525514188120046, 0.13001783890406426, 0.12...  \n",
      "['RF_87', RandomForestClassifier(criterion='entropy', max_depth=11, n_estimators=19,\n",
      "                       random_state=1000)]\n"
     ]
    }
   ],
   "source": [
    "X = heart_df[['age', 'chest pain type', 'cholesterol', 'max heart rate',\n",
    "       'exercise angina', 'oldpeak', 'ST slope']]\n",
    "com(X)        "
   ]
  },
  {
   "cell_type": "code",
   "execution_count": 75,
   "id": "719ba0e2-e7c4-4a2d-8a05-3d705ffcd6d1",
   "metadata": {
    "tags": []
   },
   "outputs": [
    {
     "name": "stdout",
     "output_type": "stream",
     "text": [
      "data\n",
      "test     0.905229\n",
      "train    0.998594\n",
      "dtype: float64\n",
      "      model  data  accuracy                                 precision  \\\n",
      "327  RF_164  test  0.905229  [0.8666666666666667, 0.9423076923076923]   \n",
      "\n",
      "                                      recall  \\\n",
      "327  [0.935251798561151, 0.8802395209580839]   \n",
      "\n",
      "                                            importantF  \n",
      "327  [0.11132295986234009, 0.13431481591409924, 0.0...  \n",
      "['RF_164', RandomForestClassifier(max_depth=11, n_estimators=17, random_state=1000)]\n"
     ]
    }
   ],
   "source": [
    "X = heart_df[['age', 'chest pain type', 'resting bp s', 'cholesterol', 'max heart rate',\n",
    "       'exercise angina', 'oldpeak', 'ST slope']]\n",
    "com(X) "
   ]
  },
  {
   "cell_type": "code",
   "execution_count": 76,
   "id": "f22d53d3-a863-4363-bf62-747fa29e0b9f",
   "metadata": {
    "tags": []
   },
   "outputs": [
    {
     "name": "stdout",
     "output_type": "stream",
     "text": [
      "data\n",
      "test     0.918301\n",
      "train    0.997187\n",
      "dtype: float64\n",
      "     model  data  accuracy                                 precision  \\\n",
      "151  RF_76  test  0.918301  [0.9014084507042254, 0.9329268292682927]   \n",
      "\n",
      "                                      recall  \\\n",
      "151  [0.920863309352518, 0.9161676646706587]   \n",
      "\n",
      "                                            importantF  \n",
      "151  [0.11298412080440345, 0.04361658750735395, 0.1...  \n",
      "['RF_76', RandomForestClassifier(criterion='entropy', max_depth=11, n_estimators=17,\n",
      "                       random_state=1000)]\n"
     ]
    }
   ],
   "source": [
    "X = heart_df[['age', 'sex', 'chest pain type', 'resting bp s', 'cholesterol', 'max heart rate',\n",
    "       'exercise angina', 'oldpeak', 'ST slope']]\n",
    "com(X) "
   ]
  },
  {
   "cell_type": "code",
   "execution_count": 77,
   "id": "2bbf83e4-6fa7-46f8-9cc4-5e7b89b1c2dc",
   "metadata": {
    "tags": []
   },
   "outputs": [
    {
     "name": "stdout",
     "output_type": "stream",
     "text": [
      "data\n",
      "test     0.924837\n",
      "train    1.000000\n",
      "dtype: float64\n",
      "      model  data  accuracy                                 precision  \\\n",
      "213  RF_107  test  0.924837  [0.9027777777777778, 0.9444444444444444]   \n",
      "\n",
      "                                      recall  \\\n",
      "213  [0.935251798561151, 0.9161676646706587]   \n",
      "\n",
      "                                            importantF  \n",
      "213  [0.09999590035372836, 0.04824121114368309, 0.1...  \n",
      "['RF_107', RandomForestClassifier(max_depth=9, n_estimators=7, random_state=1000)]\n"
     ]
    }
   ],
   "source": [
    "X = heart_df[['age', 'sex', 'chest pain type', 'resting bp s', 'cholesterol',  'resting ecg', 'max heart rate',\n",
    "       'exercise angina', 'oldpeak', 'ST slope']]\n",
    "com(X) "
   ]
  },
  {
   "cell_type": "code",
   "execution_count": 78,
   "id": "0c008c64-ef23-400f-8747-9469729f88d1",
   "metadata": {
    "tags": []
   },
   "outputs": [
    {
     "name": "stdout",
     "output_type": "stream",
     "text": [
      "data\n",
      "test     0.908497\n",
      "train    1.000000\n",
      "dtype: float64\n",
      "      model  data  accuracy                                 precision  \\\n",
      "329  RF_165  test  0.908497  [0.8775510204081632, 0.9371069182389937]   \n",
      "\n",
      "                                       recall  \\\n",
      "329  [0.9280575539568345, 0.8922155688622755]   \n",
      "\n",
      "                                            importantF  \n",
      "329  [0.1013927246343582, 0.03555079027018663, 0.12...  \n",
      "['RF_165', RandomForestClassifier(max_depth=12, n_estimators=17, random_state=1000)]\n"
     ]
    }
   ],
   "source": [
    "X = heart_df[['age', 'sex', 'chest pain type', 'resting bp s', 'cholesterol', 'fasting blood sugar', \n",
    "              'resting ecg', 'max heart rate', 'exercise angina', 'oldpeak', 'ST slope']]\n",
    "com(X) "
   ]
  },
  {
   "cell_type": "code",
   "execution_count": 79,
   "id": "c8872481-d3ff-4b2d-bd66-918053116e8c",
   "metadata": {
    "tags": []
   },
   "outputs": [
    {
     "data": {
      "text/html": [
       "<style>#sk-container-id-2 {color: black;}#sk-container-id-2 pre{padding: 0;}#sk-container-id-2 div.sk-toggleable {background-color: white;}#sk-container-id-2 label.sk-toggleable__label {cursor: pointer;display: block;width: 100%;margin-bottom: 0;padding: 0.3em;box-sizing: border-box;text-align: center;}#sk-container-id-2 label.sk-toggleable__label-arrow:before {content: \"▸\";float: left;margin-right: 0.25em;color: #696969;}#sk-container-id-2 label.sk-toggleable__label-arrow:hover:before {color: black;}#sk-container-id-2 div.sk-estimator:hover label.sk-toggleable__label-arrow:before {color: black;}#sk-container-id-2 div.sk-toggleable__content {max-height: 0;max-width: 0;overflow: hidden;text-align: left;background-color: #f0f8ff;}#sk-container-id-2 div.sk-toggleable__content pre {margin: 0.2em;color: black;border-radius: 0.25em;background-color: #f0f8ff;}#sk-container-id-2 input.sk-toggleable__control:checked~div.sk-toggleable__content {max-height: 200px;max-width: 100%;overflow: auto;}#sk-container-id-2 input.sk-toggleable__control:checked~label.sk-toggleable__label-arrow:before {content: \"▾\";}#sk-container-id-2 div.sk-estimator input.sk-toggleable__control:checked~label.sk-toggleable__label {background-color: #d4ebff;}#sk-container-id-2 div.sk-label input.sk-toggleable__control:checked~label.sk-toggleable__label {background-color: #d4ebff;}#sk-container-id-2 input.sk-hidden--visually {border: 0;clip: rect(1px 1px 1px 1px);clip: rect(1px, 1px, 1px, 1px);height: 1px;margin: -1px;overflow: hidden;padding: 0;position: absolute;width: 1px;}#sk-container-id-2 div.sk-estimator {font-family: monospace;background-color: #f0f8ff;border: 1px dotted black;border-radius: 0.25em;box-sizing: border-box;margin-bottom: 0.5em;}#sk-container-id-2 div.sk-estimator:hover {background-color: #d4ebff;}#sk-container-id-2 div.sk-parallel-item::after {content: \"\";width: 100%;border-bottom: 1px solid gray;flex-grow: 1;}#sk-container-id-2 div.sk-label:hover label.sk-toggleable__label {background-color: #d4ebff;}#sk-container-id-2 div.sk-serial::before {content: \"\";position: absolute;border-left: 1px solid gray;box-sizing: border-box;top: 0;bottom: 0;left: 50%;z-index: 0;}#sk-container-id-2 div.sk-serial {display: flex;flex-direction: column;align-items: center;background-color: white;padding-right: 0.2em;padding-left: 0.2em;position: relative;}#sk-container-id-2 div.sk-item {position: relative;z-index: 1;}#sk-container-id-2 div.sk-parallel {display: flex;align-items: stretch;justify-content: center;background-color: white;position: relative;}#sk-container-id-2 div.sk-item::before, #sk-container-id-2 div.sk-parallel-item::before {content: \"\";position: absolute;border-left: 1px solid gray;box-sizing: border-box;top: 0;bottom: 0;left: 50%;z-index: -1;}#sk-container-id-2 div.sk-parallel-item {display: flex;flex-direction: column;z-index: 1;position: relative;background-color: white;}#sk-container-id-2 div.sk-parallel-item:first-child::after {align-self: flex-end;width: 50%;}#sk-container-id-2 div.sk-parallel-item:last-child::after {align-self: flex-start;width: 50%;}#sk-container-id-2 div.sk-parallel-item:only-child::after {width: 0;}#sk-container-id-2 div.sk-dashed-wrapped {border: 1px dashed gray;margin: 0 0.4em 0.5em 0.4em;box-sizing: border-box;padding-bottom: 0.4em;background-color: white;}#sk-container-id-2 div.sk-label label {font-family: monospace;font-weight: bold;display: inline-block;line-height: 1.2em;}#sk-container-id-2 div.sk-label-container {text-align: center;}#sk-container-id-2 div.sk-container {/* jupyter's `normalize.less` sets `[hidden] { display: none; }` but bootstrap.min.css set `[hidden] { display: none !important; }` so we also need the `!important` here to be able to override the default hidden behavior on the sphinx rendered scikit-learn.org. See: https://github.com/scikit-learn/scikit-learn/issues/21755 */display: inline-block !important;position: relative;}#sk-container-id-2 div.sk-text-repr-fallback {display: none;}</style><div id=\"sk-container-id-2\" class=\"sk-top-container\"><div class=\"sk-text-repr-fallback\"><pre>RandomForestClassifier(max_depth=9, n_estimators=7, random_state=1000)</pre><b>In a Jupyter environment, please rerun this cell to show the HTML representation or trust the notebook. <br />On GitHub, the HTML representation is unable to render, please try loading this page with nbviewer.org.</b></div><div class=\"sk-container\" hidden><div class=\"sk-item\"><div class=\"sk-estimator sk-toggleable\"><input class=\"sk-toggleable__control sk-hidden--visually\" id=\"sk-estimator-id-2\" type=\"checkbox\" checked><label for=\"sk-estimator-id-2\" class=\"sk-toggleable__label sk-toggleable__label-arrow\">RandomForestClassifier</label><div class=\"sk-toggleable__content\"><pre>RandomForestClassifier(max_depth=9, n_estimators=7, random_state=1000)</pre></div></div></div></div></div>"
      ],
      "text/plain": [
       "RandomForestClassifier(max_depth=9, n_estimators=7, random_state=1000)"
      ]
     },
     "execution_count": 79,
     "metadata": {},
     "output_type": "execute_result"
    }
   ],
   "source": [
    "X = heart_df[['age', 'sex', 'chest pain type', 'resting bp s', 'cholesterol',  'resting ecg', 'max heart rate',\n",
    "       'exercise angina', 'oldpeak', 'ST slope']]\n",
    "y = heart_df.target\n",
    "Test_size = 0.3\n",
    "random_state_i = 1000\n",
    "X_train, X_test, y_train, y_test = train_test_split(X, y,\n",
    "                                                    test_size = 0.3,\n",
    "                                                    random_state = random_state_i)\n",
    "RF = RandomForestClassifier(n_estimators= 7,max_depth = 9, random_state= random_state_i,bootstrap = True )\n",
    "models = RF\n",
    "model = models\n",
    "model.fit(X_train,y_train)"
   ]
  },
  {
   "cell_type": "code",
   "execution_count": 80,
   "id": "affcfc8b-4072-47cc-a906-695119d0a758",
   "metadata": {
    "tags": []
   },
   "outputs": [
    {
     "name": "stdout",
     "output_type": "stream",
     "text": [
      "Train\n",
      "Classification Report = \n",
      "              precision    recall  f1-score   support\n",
      "\n",
      "           0     0.9850    0.9801    0.9825       402\n",
      "           1     0.9743    0.9806    0.9774       309\n",
      "\n",
      "    accuracy                         0.9803       711\n",
      "   macro avg     0.9796    0.9803    0.9800       711\n",
      "weighted avg     0.9803    0.9803    0.9803       711\n",
      "\n",
      "\n"
     ]
    }
   ],
   "source": [
    "cf_report = classification_report(y_train,model.predict(X_train),digits = 4)\n",
    "score = metrics.accuracy_score(y_train,model.predict(X_train))\n",
    "score = model.score(X_train,y_train)\n",
    "print('Train')\n",
    "print(f'Classification Report = \\n{cf_report}', end='\\n'*2)"
   ]
  },
  {
   "cell_type": "code",
   "execution_count": 81,
   "id": "9e7d413b-acce-4d8e-9939-6b1b36e0a049",
   "metadata": {
    "tags": []
   },
   "outputs": [
    {
     "name": "stdout",
     "output_type": "stream",
     "text": [
      "Test\n",
      "Classification Report = \n",
      "              precision    recall  f1-score   support\n",
      "\n",
      "           0     0.9028    0.9353    0.9187       139\n",
      "           1     0.9444    0.9162    0.9301       167\n",
      "\n",
      "    accuracy                         0.9248       306\n",
      "   macro avg     0.9236    0.9257    0.9244       306\n",
      "weighted avg     0.9255    0.9248    0.9249       306\n",
      "\n",
      "\n"
     ]
    }
   ],
   "source": [
    "cf_report = classification_report(y_test,model.predict(X_test),digits = 4)\n",
    "score = metrics.accuracy_score(y_test,model.predict(X_test))\n",
    "score = model.score(X_test,y_test)\n",
    "print('Test')\n",
    "print(f'Classification Report = \\n{cf_report}', end='\\n'*2)"
   ]
  },
  {
   "cell_type": "code",
   "execution_count": null,
   "id": "2a1985fb-6e4b-4bcc-a6ec-163775f1c040",
   "metadata": {},
   "outputs": [],
   "source": []
  }
 ],
 "metadata": {
  "kernelspec": {
   "display_name": "Python 3 (ipykernel)",
   "language": "python",
   "name": "python3"
  },
  "language_info": {
   "codemirror_mode": {
    "name": "ipython",
    "version": 3
   },
   "file_extension": ".py",
   "mimetype": "text/x-python",
   "name": "python",
   "nbconvert_exporter": "python",
   "pygments_lexer": "ipython3",
   "version": "3.11.5"
  }
 },
 "nbformat": 4,
 "nbformat_minor": 5
}
