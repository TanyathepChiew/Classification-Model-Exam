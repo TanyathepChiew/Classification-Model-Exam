{
 "cells": [
  {
   "cell_type": "markdown",
   "metadata": {},
   "source": [
    "# Quesiton 1 :[รวม 50 คะแนน] Customer Churn : Random Forest\n",
    "ข้อนี้มี 2 ส่วน\n",
    " 1. ส่วนที่ 1 : 32 คะแนน ใช้ไฟล์ Churn.csv เป็นการจัดการและวิเคราะห์ข้อมูล\n",
    " 2. ส่วนที่ 2 : 18 คะแนน (ใช้ไฟล์ Churn2.csv หากนักศึกษาทำส่วนที่1 ไม่ได้) เป็นการสร้างและคัดเลือกแบบจำลอง\n",
    " \n"
   ]
  },
  {
   "cell_type": "markdown",
   "metadata": {},
   "source": [
    "ให้นำเข้า Library ที่จะจำเป็นต้องใช้เท่านั้น  Library ที่ไม่ได้ใช้จะถูกหักคะแนน"
   ]
  },
  {
   "cell_type": "code",
   "execution_count": 3,
   "metadata": {
    "tags": []
   },
   "outputs": [],
   "source": [
    "import numpy as np\n",
    "import pandas as pd\n",
    "import seaborn as sns\n",
    "from sklearn.model_selection import train_test_split\n",
    "from sklearn import tree\n",
    "from sklearn.ensemble import RandomForestClassifier\n",
    "from sklearn.metrics import classification_report\n",
    "from sklearn import metrics"
   ]
  },
  {
   "cell_type": "markdown",
   "metadata": {},
   "source": [
    "## ส่วนที่ 1 [รวม 32 คะแนน]\n",
    "ให้ใช้ไฟล์ Churn.csv เพื่อทำส่วนนี้ "
   ]
  },
  {
   "cell_type": "markdown",
   "metadata": {},
   "source": [
    "### [2 คะแนน]\n",
    "นำเข้าข้อมูลจาก Churn.csv เพื่อสร้าง dataframe ตามลักษณะที่ปรากฎ"
   ]
  },
  {
   "cell_type": "code",
   "execution_count": 6,
   "metadata": {
    "tags": []
   },
   "outputs": [
    {
     "data": {
      "text/html": [
       "<div>\n",
       "<style scoped>\n",
       "    .dataframe tbody tr th:only-of-type {\n",
       "        vertical-align: middle;\n",
       "    }\n",
       "\n",
       "    .dataframe tbody tr th {\n",
       "        vertical-align: top;\n",
       "    }\n",
       "\n",
       "    .dataframe thead th {\n",
       "        text-align: right;\n",
       "    }\n",
       "</style>\n",
       "<table border=\"1\" class=\"dataframe\">\n",
       "  <thead>\n",
       "    <tr style=\"text-align: right;\">\n",
       "      <th></th>\n",
       "      <th>customerID</th>\n",
       "      <th>gender</th>\n",
       "      <th>SeniorCitizen</th>\n",
       "      <th>Partner</th>\n",
       "      <th>Dependents</th>\n",
       "      <th>tenure</th>\n",
       "      <th>PhoneService</th>\n",
       "      <th>MultipleLines</th>\n",
       "      <th>InternetService</th>\n",
       "      <th>OnlineSecurity</th>\n",
       "      <th>...</th>\n",
       "      <th>DeviceProtection</th>\n",
       "      <th>TechSupport</th>\n",
       "      <th>StreamingTV</th>\n",
       "      <th>StreamingMovies</th>\n",
       "      <th>Contract</th>\n",
       "      <th>PaperlessBilling</th>\n",
       "      <th>PaymentMethod</th>\n",
       "      <th>MonthlyCharges</th>\n",
       "      <th>TotalCharges</th>\n",
       "      <th>Churn</th>\n",
       "    </tr>\n",
       "  </thead>\n",
       "  <tbody>\n",
       "    <tr>\n",
       "      <th>0</th>\n",
       "      <td>7590-VHVEG</td>\n",
       "      <td>Female</td>\n",
       "      <td>0.0</td>\n",
       "      <td>Yes</td>\n",
       "      <td>No</td>\n",
       "      <td>1.0</td>\n",
       "      <td>No</td>\n",
       "      <td>No phone service</td>\n",
       "      <td>DSL</td>\n",
       "      <td>No</td>\n",
       "      <td>...</td>\n",
       "      <td>No</td>\n",
       "      <td>No</td>\n",
       "      <td>No</td>\n",
       "      <td>No</td>\n",
       "      <td>Month-to-month</td>\n",
       "      <td>Yes</td>\n",
       "      <td>Electronic check</td>\n",
       "      <td>29.85</td>\n",
       "      <td>29.85</td>\n",
       "      <td>No</td>\n",
       "    </tr>\n",
       "    <tr>\n",
       "      <th>1</th>\n",
       "      <td>5575-GNVDE</td>\n",
       "      <td>Male</td>\n",
       "      <td>0.0</td>\n",
       "      <td>No</td>\n",
       "      <td>No</td>\n",
       "      <td>34.0</td>\n",
       "      <td>Yes</td>\n",
       "      <td>No</td>\n",
       "      <td>DSL</td>\n",
       "      <td>Yes</td>\n",
       "      <td>...</td>\n",
       "      <td>Yes</td>\n",
       "      <td>No</td>\n",
       "      <td>No</td>\n",
       "      <td>No</td>\n",
       "      <td>One year</td>\n",
       "      <td>No</td>\n",
       "      <td>Mailed check</td>\n",
       "      <td>56.95</td>\n",
       "      <td>1889.5</td>\n",
       "      <td>No</td>\n",
       "    </tr>\n",
       "    <tr>\n",
       "      <th>2</th>\n",
       "      <td>3668-QPYBK</td>\n",
       "      <td>Male</td>\n",
       "      <td>0.0</td>\n",
       "      <td>No</td>\n",
       "      <td>No</td>\n",
       "      <td>2.0</td>\n",
       "      <td>Yes</td>\n",
       "      <td>No</td>\n",
       "      <td>DSL</td>\n",
       "      <td>Yes</td>\n",
       "      <td>...</td>\n",
       "      <td>No</td>\n",
       "      <td>No</td>\n",
       "      <td>No</td>\n",
       "      <td>No</td>\n",
       "      <td>Month-to-month</td>\n",
       "      <td>Yes</td>\n",
       "      <td>Mailed check</td>\n",
       "      <td>53.85</td>\n",
       "      <td>108.15</td>\n",
       "      <td>Yes</td>\n",
       "    </tr>\n",
       "    <tr>\n",
       "      <th>3</th>\n",
       "      <td>7795-CFOCW</td>\n",
       "      <td>Male</td>\n",
       "      <td>0.0</td>\n",
       "      <td>No</td>\n",
       "      <td>No</td>\n",
       "      <td>45.0</td>\n",
       "      <td>No</td>\n",
       "      <td>No phone service</td>\n",
       "      <td>DSL</td>\n",
       "      <td>Yes</td>\n",
       "      <td>...</td>\n",
       "      <td>Yes</td>\n",
       "      <td>Yes</td>\n",
       "      <td>No</td>\n",
       "      <td>No</td>\n",
       "      <td>One year</td>\n",
       "      <td>No</td>\n",
       "      <td>Bank transfer (automatic)</td>\n",
       "      <td>42.3</td>\n",
       "      <td>1840.75</td>\n",
       "      <td>No</td>\n",
       "    </tr>\n",
       "    <tr>\n",
       "      <th>4</th>\n",
       "      <td>9237-HQITU</td>\n",
       "      <td>Female</td>\n",
       "      <td>0.0</td>\n",
       "      <td>No</td>\n",
       "      <td>No</td>\n",
       "      <td>2.0</td>\n",
       "      <td>Yes</td>\n",
       "      <td>No</td>\n",
       "      <td>Fiber optic</td>\n",
       "      <td>No</td>\n",
       "      <td>...</td>\n",
       "      <td>No</td>\n",
       "      <td>No</td>\n",
       "      <td>No</td>\n",
       "      <td>No</td>\n",
       "      <td>Month-to-month</td>\n",
       "      <td>Yes</td>\n",
       "      <td>Electronic check</td>\n",
       "      <td>70.7</td>\n",
       "      <td>151.65</td>\n",
       "      <td>Yes</td>\n",
       "    </tr>\n",
       "  </tbody>\n",
       "</table>\n",
       "<p>5 rows × 21 columns</p>\n",
       "</div>"
      ],
      "text/plain": [
       "   customerID  gender SeniorCitizen Partner Dependents tenure PhoneService  \\\n",
       "0  7590-VHVEG  Female           0.0     Yes         No    1.0           No   \n",
       "1  5575-GNVDE    Male           0.0      No         No   34.0          Yes   \n",
       "2  3668-QPYBK    Male           0.0      No         No    2.0          Yes   \n",
       "3  7795-CFOCW    Male           0.0      No         No   45.0           No   \n",
       "4  9237-HQITU  Female           0.0      No         No    2.0          Yes   \n",
       "\n",
       "      MultipleLines InternetService OnlineSecurity  ... DeviceProtection  \\\n",
       "0  No phone service             DSL             No  ...               No   \n",
       "1                No             DSL            Yes  ...              Yes   \n",
       "2                No             DSL            Yes  ...               No   \n",
       "3  No phone service             DSL            Yes  ...              Yes   \n",
       "4                No     Fiber optic             No  ...               No   \n",
       "\n",
       "  TechSupport StreamingTV StreamingMovies        Contract PaperlessBilling  \\\n",
       "0          No          No              No  Month-to-month              Yes   \n",
       "1          No          No              No        One year               No   \n",
       "2          No          No              No  Month-to-month              Yes   \n",
       "3         Yes          No              No        One year               No   \n",
       "4          No          No              No  Month-to-month              Yes   \n",
       "\n",
       "               PaymentMethod MonthlyCharges TotalCharges Churn  \n",
       "0           Electronic check          29.85        29.85    No  \n",
       "1               Mailed check          56.95       1889.5    No  \n",
       "2               Mailed check          53.85       108.15   Yes  \n",
       "3  Bank transfer (automatic)           42.3      1840.75    No  \n",
       "4           Electronic check           70.7       151.65   Yes  \n",
       "\n",
       "[5 rows x 21 columns]"
      ]
     },
     "execution_count": 6,
     "metadata": {},
     "output_type": "execute_result"
    }
   ],
   "source": [
    "churn_df = pd.read_csv('Churn.csv')\n",
    "churn_df.head()"
   ]
  },
  {
   "cell_type": "markdown",
   "metadata": {},
   "source": [
    "### [2 คะแนน]\n",
    "แปลงชื่อตัวแปรให้ขึ้นต้นด้วยตัวใหญ่เสมอ\n",
    "- เช่น CustomerID และ drop CustomerID เพราะไม่มีความหมาย ตามที่ปรากฏต่อไปนี้"
   ]
  },
  {
   "cell_type": "code",
   "execution_count": 8,
   "metadata": {
    "tags": []
   },
   "outputs": [
    {
     "data": {
      "text/plain": [
       "Index(['Gender', 'SeniorCitizen', 'Partner', 'Dependents', 'Tenure',\n",
       "       'PhoneService', 'MultipleLines', 'InternetService', 'OnlineSecurity',\n",
       "       'OnlineBackup', 'DeviceProtection', 'TechSupport', 'StreamingTV',\n",
       "       'StreamingMovies', 'Contract', 'PaperlessBilling', 'PaymentMethod',\n",
       "       'MonthlyCharges', 'TotalCharges', 'Churn'],\n",
       "      dtype='object')"
      ]
     },
     "execution_count": 8,
     "metadata": {},
     "output_type": "execute_result"
    }
   ],
   "source": [
    "name={'customerID':'CustomerID', 'gender':'Gender', 'tenure':'Tenure'}\n",
    "churn_df.rename(columns=name, inplace=True)\n",
    "churn_df.drop(columns='CustomerID', inplace=True)\n",
    "churn_df.columns"
   ]
  },
  {
   "cell_type": "markdown",
   "metadata": {},
   "source": [
    "### [3 คะแนน]\n",
    "แสดงจำนวนข้อมูลที่เป็น na แยกตามตัวแปร(แต่ไม่นับ space) ในลักษณะที่ปรากฎต่อไปนี้ (จำนวนแต่ละครั้งอาจไม่เท่ากัน)"
   ]
  },
  {
   "cell_type": "code",
   "execution_count": 10,
   "metadata": {
    "tags": []
   },
   "outputs": [
    {
     "data": {
      "text/plain": [
       "Gender              2\n",
       "SeniorCitizen       4\n",
       "Partner             0\n",
       "Dependents          5\n",
       "Tenure              1\n",
       "PhoneService        2\n",
       "MultipleLines       4\n",
       "InternetService     4\n",
       "OnlineSecurity      1\n",
       "OnlineBackup        1\n",
       "DeviceProtection    2\n",
       "TechSupport         2\n",
       "StreamingTV         7\n",
       "StreamingMovies     4\n",
       "Contract            2\n",
       "PaperlessBilling    0\n",
       "PaymentMethod       4\n",
       "MonthlyCharges      1\n",
       "TotalCharges        2\n",
       "Churn               0\n",
       "dtype: int64"
      ]
     },
     "execution_count": 10,
     "metadata": {},
     "output_type": "execute_result"
    }
   ],
   "source": [
    "churn_df.isnull().sum()"
   ]
  },
  {
   "cell_type": "markdown",
   "metadata": {},
   "source": [
    "### [3 คะแนน]\n",
    "ให้แทนช่องว่างทุกขนาดด้วย nan และนับจำนวนข้อมูล nan ทั้งหมด \n",
    "แยกตามตัวแปร ในลักษณะที่ปรากฎต่อไปนี้ (จำนวนแต่่ละครั้งอาจไม่เท่ากัน)"
   ]
  },
  {
   "cell_type": "code",
   "execution_count": 12,
   "metadata": {
    "tags": []
   },
   "outputs": [
    {
     "data": {
      "text/plain": [
       "False"
      ]
     },
     "execution_count": 12,
     "metadata": {},
     "output_type": "execute_result"
    }
   ],
   "source": [
    "'' in churn_df.values"
   ]
  },
  {
   "cell_type": "code",
   "execution_count": 13,
   "metadata": {
    "tags": []
   },
   "outputs": [
    {
     "data": {
      "text/plain": [
       "True"
      ]
     },
     "execution_count": 13,
     "metadata": {},
     "output_type": "execute_result"
    }
   ],
   "source": [
    "' ' in churn_df.values"
   ]
  },
  {
   "cell_type": "code",
   "execution_count": 14,
   "metadata": {
    "tags": []
   },
   "outputs": [
    {
     "data": {
      "text/plain": [
       "True"
      ]
     },
     "execution_count": 14,
     "metadata": {},
     "output_type": "execute_result"
    }
   ],
   "source": [
    "'  ' in churn_df.values"
   ]
  },
  {
   "cell_type": "code",
   "execution_count": 15,
   "metadata": {
    "tags": []
   },
   "outputs": [
    {
     "data": {
      "text/plain": [
       "False"
      ]
     },
     "execution_count": 15,
     "metadata": {},
     "output_type": "execute_result"
    }
   ],
   "source": [
    "'   ' in churn_df.values"
   ]
  },
  {
   "cell_type": "code",
   "execution_count": 16,
   "metadata": {
    "tags": []
   },
   "outputs": [],
   "source": [
    "churn_df.replace(' ', np.nan, inplace=True)\n",
    "churn_df.replace('  ', np.nan, inplace=True)"
   ]
  },
  {
   "cell_type": "code",
   "execution_count": 17,
   "metadata": {
    "tags": []
   },
   "outputs": [
    {
     "data": {
      "text/plain": [
       "Gender               8\n",
       "SeniorCitizen        7\n",
       "Partner              3\n",
       "Dependents           6\n",
       "Tenure               3\n",
       "PhoneService         4\n",
       "MultipleLines        8\n",
       "InternetService      5\n",
       "OnlineSecurity       5\n",
       "OnlineBackup         4\n",
       "DeviceProtection     4\n",
       "TechSupport          4\n",
       "StreamingTV          7\n",
       "StreamingMovies      6\n",
       "Contract             6\n",
       "PaperlessBilling     4\n",
       "PaymentMethod        7\n",
       "MonthlyCharges       5\n",
       "TotalCharges        17\n",
       "Churn                2\n",
       "dtype: int64"
      ]
     },
     "execution_count": 17,
     "metadata": {},
     "output_type": "execute_result"
    }
   ],
   "source": [
    "churn_df.isnull().sum()"
   ]
  },
  {
   "cell_type": "markdown",
   "metadata": {},
   "source": [
    "###  [2 คะแนน]\n",
    "ให้ drop ข้อมูลที่เป็น nan ทั้งหมด"
   ]
  },
  {
   "cell_type": "code",
   "execution_count": 19,
   "metadata": {},
   "outputs": [
    {
     "data": {
      "text/plain": [
       "Gender              0\n",
       "SeniorCitizen       0\n",
       "Partner             0\n",
       "Dependents          0\n",
       "Tenure              0\n",
       "PhoneService        0\n",
       "MultipleLines       0\n",
       "InternetService     0\n",
       "OnlineSecurity      0\n",
       "OnlineBackup        0\n",
       "DeviceProtection    0\n",
       "TechSupport         0\n",
       "StreamingTV         0\n",
       "StreamingMovies     0\n",
       "Contract            0\n",
       "PaperlessBilling    0\n",
       "PaymentMethod       0\n",
       "MonthlyCharges      0\n",
       "TotalCharges        0\n",
       "Churn               0\n",
       "dtype: int64"
      ]
     },
     "execution_count": 19,
     "metadata": {},
     "output_type": "execute_result"
    }
   ],
   "source": [
    "churn_df.dropna(inplace=True)\n",
    "churn_df.isnull().sum()"
   ]
  },
  {
   "cell_type": "markdown",
   "metadata": {},
   "source": [
    "### [3 คะแนน] \n",
    "เปลี่ยนตัวแปรที่จำเป็นเป็นตัวเลข\n",
    "- จากข้อมูลที่มี ให้ระบุว่าตัวแปรใดบ้างควรเป็นประเภทตัวเลข จากนั้นให้เปลี่ยนประเภทตัวแปรเหล่านั้นให้เป็น float"
   ]
  },
  {
   "cell_type": "markdown",
   "metadata": {},
   "source": [
    "Tenure (ระยะเวลา), MonthlyCharges (จ่ายต่อเดือน)  และ TotalCharges (จ่ายทั้งหมด) ควรเป็นประเภทตัวเลข"
   ]
  },
  {
   "cell_type": "code",
   "execution_count": 22,
   "metadata": {},
   "outputs": [
    {
     "name": "stdout",
     "output_type": "stream",
     "text": [
      "<class 'pandas.core.frame.DataFrame'>\n",
      "Index: 6928 entries, 0 to 7042\n",
      "Data columns (total 20 columns):\n",
      " #   Column            Non-Null Count  Dtype \n",
      "---  ------            --------------  ----- \n",
      " 0   Gender            6928 non-null   object\n",
      " 1   SeniorCitizen     6928 non-null   object\n",
      " 2   Partner           6928 non-null   object\n",
      " 3   Dependents        6928 non-null   object\n",
      " 4   Tenure            6928 non-null   object\n",
      " 5   PhoneService      6928 non-null   object\n",
      " 6   MultipleLines     6928 non-null   object\n",
      " 7   InternetService   6928 non-null   object\n",
      " 8   OnlineSecurity    6928 non-null   object\n",
      " 9   OnlineBackup      6928 non-null   object\n",
      " 10  DeviceProtection  6928 non-null   object\n",
      " 11  TechSupport       6928 non-null   object\n",
      " 12  StreamingTV       6928 non-null   object\n",
      " 13  StreamingMovies   6928 non-null   object\n",
      " 14  Contract          6928 non-null   object\n",
      " 15  PaperlessBilling  6928 non-null   object\n",
      " 16  PaymentMethod     6928 non-null   object\n",
      " 17  MonthlyCharges    6928 non-null   object\n",
      " 18  TotalCharges      6928 non-null   object\n",
      " 19  Churn             6928 non-null   object\n",
      "dtypes: object(20)\n",
      "memory usage: 1.1+ MB\n"
     ]
    }
   ],
   "source": [
    "churn_df.info()"
   ]
  },
  {
   "cell_type": "code",
   "execution_count": 23,
   "metadata": {
    "tags": []
   },
   "outputs": [],
   "source": [
    "churn_df['Tenure'] = churn_df['Tenure'].astype(float)"
   ]
  },
  {
   "cell_type": "code",
   "execution_count": 24,
   "metadata": {
    "tags": []
   },
   "outputs": [],
   "source": [
    "churn_df['MonthlyCharges'] = churn_df['MonthlyCharges'].astype(float)"
   ]
  },
  {
   "cell_type": "code",
   "execution_count": 25,
   "metadata": {
    "tags": []
   },
   "outputs": [],
   "source": [
    "churn_df['TotalCharges'] = churn_df['TotalCharges'].astype(float)"
   ]
  },
  {
   "cell_type": "code",
   "execution_count": 26,
   "metadata": {
    "tags": []
   },
   "outputs": [
    {
     "name": "stdout",
     "output_type": "stream",
     "text": [
      "<class 'pandas.core.frame.DataFrame'>\n",
      "Index: 6928 entries, 0 to 7042\n",
      "Data columns (total 20 columns):\n",
      " #   Column            Non-Null Count  Dtype  \n",
      "---  ------            --------------  -----  \n",
      " 0   Gender            6928 non-null   object \n",
      " 1   SeniorCitizen     6928 non-null   object \n",
      " 2   Partner           6928 non-null   object \n",
      " 3   Dependents        6928 non-null   object \n",
      " 4   Tenure            6928 non-null   float64\n",
      " 5   PhoneService      6928 non-null   object \n",
      " 6   MultipleLines     6928 non-null   object \n",
      " 7   InternetService   6928 non-null   object \n",
      " 8   OnlineSecurity    6928 non-null   object \n",
      " 9   OnlineBackup      6928 non-null   object \n",
      " 10  DeviceProtection  6928 non-null   object \n",
      " 11  TechSupport       6928 non-null   object \n",
      " 12  StreamingTV       6928 non-null   object \n",
      " 13  StreamingMovies   6928 non-null   object \n",
      " 14  Contract          6928 non-null   object \n",
      " 15  PaperlessBilling  6928 non-null   object \n",
      " 16  PaymentMethod     6928 non-null   object \n",
      " 17  MonthlyCharges    6928 non-null   float64\n",
      " 18  TotalCharges      6928 non-null   float64\n",
      " 19  Churn             6928 non-null   object \n",
      "dtypes: float64(3), object(17)\n",
      "memory usage: 1.1+ MB\n"
     ]
    }
   ],
   "source": [
    "churn_df.info()"
   ]
  },
  {
   "cell_type": "markdown",
   "metadata": {},
   "source": [
    "###  [10 คะแนน]\n",
    "วิเคราะห์และคัดเลือกตัวแปร\n",
    "- จากข้อมูลข้างต้น ให้ใช้วิธีการทำกราฟ หรือ ตาราง แล้วให้เหตุผลเพื่อเลือกตัวแปรคิดว่ามีความสำคัญในการกำหนด Churn มา 6 ตัวแปร\n",
    "- ให้คะแนนการให้เหตุผลสนับสนุนการคัดเลือกตัวแปร ดังนั้นให้แสดงการให้เหตุผลให้ชัดเจน"
   ]
  },
  {
   "cell_type": "code",
   "execution_count": 28,
   "metadata": {
    "tags": []
   },
   "outputs": [
    {
     "data": {
      "text/plain": [
       "<Axes: xlabel='Churn', ylabel='count'>"
      ]
     },
     "execution_count": 28,
     "metadata": {},
     "output_type": "execute_result"
    },
    {
     "data": {
      "image/png": "[encoded data removed]",
      "text/plain": [
       "<Figure size 640x480 with 1 Axes>"
      ]
     },
     "metadata": {},
     "output_type": "display_data"
    }
   ],
   "source": [
    "sns.countplot(data = churn_df , x = 'Churn')"
   ]
  },
  {
   "cell_type": "markdown",
   "metadata": {},
   "source": [
    "ปกติ มี Churn = Yes น้อยกว่า Churn = No ค่อนข้างมาก"
   ]
  },
  {
   "cell_type": "code",
   "execution_count": 30,
   "metadata": {
    "tags": []
   },
   "outputs": [
    {
     "name": "stderr",
     "output_type": "stream",
     "text": [
      "C:\\Users\\Tanyathep\\anaconda3\\Lib\\site-packages\\seaborn\\axisgrid.py:118: UserWarning: The figure layout has changed to tight\n",
      "  self._figure.tight_layout(*args, **kwargs)\n"
     ]
    },
    {
     "data": {
      "image/png": "[encoded data removed]",
      "text/plain": [
       "<Figure size 912.125x400 with 3 Axes>"
      ]
     },
     "metadata": {},
     "output_type": "display_data"
    }
   ],
   "source": [
    "g = sns.catplot(x = \"InternetService\", col = \"TechSupport\", hue =\"Churn\",\n",
    "                 data=churn_df, kind=\"count\",\n",
    "                height=4, aspect=.7);"
   ]
  },
  {
   "cell_type": "markdown",
   "metadata": {
    "tags": []
   },
   "source": [
    "ปกติ มี Churn = Yes น้อยกว่า Churn = No ค่อนข้างมาก\n",
    "แต่ถ้า TechSupport = No และ InternetService = Fiber optic จะมีโอกาสที่ Churn = Yes มากกว่ากรณีอื่น ๆ ชัดเจน\n",
    "จึงเลือกใช้ TechSupport และ InternetService เป็นตัวแปรที่คิดว่ามีความสำคัญในการกำหนด Churn"
   ]
  },
  {
   "cell_type": "code",
   "execution_count": 32,
   "metadata": {
    "tags": []
   },
   "outputs": [
    {
     "data": {
      "image/png": "[encoded data removed]",
      "text/plain": [
       "<Figure size 640x480 with 1 Axes>"
      ]
     },
     "metadata": {},
     "output_type": "display_data"
    }
   ],
   "source": [
    "ax = sns.countplot(x = \"PaymentMethod\", hue =\"Churn\", data=churn_df)"
   ]
  },
  {
   "cell_type": "markdown",
   "metadata": {
    "tags": []
   },
   "source": [
    "ถ้า PaymentMethod เป็น Electronic check มีโอกาส Churn = Yes สูงกว่า PaymentMethod อื่น ๆ ชัดเจน จึงเลือกใช้ PaymentMethod เป็นตัวแปรที่คิดว่ามีความสำคัญในการกำหนด Churn"
   ]
  },
  {
   "cell_type": "code",
   "execution_count": 34,
   "metadata": {
    "tags": []
   },
   "outputs": [
    {
     "data": {
      "image/png": "[encoded data removed]",
      "text/plain": [
       "<Figure size 640x480 with 1 Axes>"
      ]
     },
     "metadata": {},
     "output_type": "display_data"
    }
   ],
   "source": [
    "ax = sns.countplot(x = \"OnlineSecurity\", hue =\"Churn\", data=churn_df)"
   ]
  },
  {
   "cell_type": "markdown",
   "metadata": {},
   "source": [
    "ถ้า OnlineSecurity = No มีโอกาส Churn = Yes มากกว่า OnlineSecurity = Yes ชัดเจน จึงเลือกใช้ OnlineSecurity เป็นตัวแปรที่คิดว่ามีความสำคัญในการกำหนด Churn"
   ]
  },
  {
   "cell_type": "code",
   "execution_count": 36,
   "metadata": {
    "tags": []
   },
   "outputs": [
    {
     "name": "stderr",
     "output_type": "stream",
     "text": [
      "C:\\Users\\Tanyathep\\anaconda3\\Lib\\site-packages\\seaborn\\axisgrid.py:118: UserWarning: The figure layout has changed to tight\n",
      "  self._figure.tight_layout(*args, **kwargs)\n"
     ]
    },
    {
     "data": {
      "image/png": "[encoded data removed]",
      "text/plain": [
       "<Figure size 912.125x400 with 3 Axes>"
      ]
     },
     "metadata": {},
     "output_type": "display_data"
    }
   ],
   "source": [
    "g = sns.catplot(x = \"Gender\", col = \"OnlineBackup\", hue =\"Churn\",\n",
    "                 data=churn_df, kind=\"count\",\n",
    "                height=4, aspect=.7);"
   ]
  },
  {
   "cell_type": "markdown",
   "metadata": {},
   "source": [
    "Gender ไม่ว่าจะเป็นอะไรจะให้สัดส่วนของ Churn Yes ต่อ No ใกล้เคียงกัน Gender จึงไม่ใช่ตัวแปรที่คิดว่ามีความสำคัญในการกำหนด Churn\n",
    "\n",
    "ถ้า OnlineBackup = No มีโอกาส Churn = Yes มากกว่า OnlineBackup = Yes ชัดเจน จึงเลือกใช้ OnlineBackup เป็นตัวแปรที่คิดว่ามีความสำคัญในการกำหนด Churn"
   ]
  },
  {
   "cell_type": "markdown",
   "metadata": {
    "tags": []
   },
   "source": [
    "สรุป เลือก TechSupport, InternetService, PaymentMethod, OnlineSecurity, DeviceProtection และ OnlineBackup  เป็นตัวแปรที่คิดว่ามีความสำคัญในการกำหนด Churn"
   ]
  },
  {
   "cell_type": "markdown",
   "metadata": {},
   "source": [
    "### [3 คะแนน]\n",
    "สร้าง dataframe ใหม่ให้เหลือเพียงตัวแปรทั้ง 6 ตัวที่เลือก รวมกับตัวแปร Churn รวมเป็น 7 ตัวแปร"
   ]
  },
  {
   "cell_type": "code",
   "execution_count": 40,
   "metadata": {},
   "outputs": [
    {
     "data": {
      "text/html": [
       "<div>\n",
       "<style scoped>\n",
       "    .dataframe tbody tr th:only-of-type {\n",
       "        vertical-align: middle;\n",
       "    }\n",
       "\n",
       "    .dataframe tbody tr th {\n",
       "        vertical-align: top;\n",
       "    }\n",
       "\n",
       "    .dataframe thead th {\n",
       "        text-align: right;\n",
       "    }\n",
       "</style>\n",
       "<table border=\"1\" class=\"dataframe\">\n",
       "  <thead>\n",
       "    <tr style=\"text-align: right;\">\n",
       "      <th></th>\n",
       "      <th>Churn</th>\n",
       "      <th>TechSupport</th>\n",
       "      <th>InternetService</th>\n",
       "      <th>PaymentMethod</th>\n",
       "      <th>OnlineSecurity</th>\n",
       "      <th>DeviceProtection</th>\n",
       "      <th>OnlineBackup</th>\n",
       "    </tr>\n",
       "  </thead>\n",
       "  <tbody>\n",
       "    <tr>\n",
       "      <th>0</th>\n",
       "      <td>No</td>\n",
       "      <td>No</td>\n",
       "      <td>DSL</td>\n",
       "      <td>Electronic check</td>\n",
       "      <td>No</td>\n",
       "      <td>No</td>\n",
       "      <td>Yes</td>\n",
       "    </tr>\n",
       "    <tr>\n",
       "      <th>1</th>\n",
       "      <td>No</td>\n",
       "      <td>No</td>\n",
       "      <td>DSL</td>\n",
       "      <td>Mailed check</td>\n",
       "      <td>Yes</td>\n",
       "      <td>Yes</td>\n",
       "      <td>No</td>\n",
       "    </tr>\n",
       "    <tr>\n",
       "      <th>2</th>\n",
       "      <td>Yes</td>\n",
       "      <td>No</td>\n",
       "      <td>DSL</td>\n",
       "      <td>Mailed check</td>\n",
       "      <td>Yes</td>\n",
       "      <td>No</td>\n",
       "      <td>Yes</td>\n",
       "    </tr>\n",
       "    <tr>\n",
       "      <th>3</th>\n",
       "      <td>No</td>\n",
       "      <td>Yes</td>\n",
       "      <td>DSL</td>\n",
       "      <td>Bank transfer (automatic)</td>\n",
       "      <td>Yes</td>\n",
       "      <td>Yes</td>\n",
       "      <td>No</td>\n",
       "    </tr>\n",
       "    <tr>\n",
       "      <th>4</th>\n",
       "      <td>Yes</td>\n",
       "      <td>No</td>\n",
       "      <td>Fiber optic</td>\n",
       "      <td>Electronic check</td>\n",
       "      <td>No</td>\n",
       "      <td>No</td>\n",
       "      <td>No</td>\n",
       "    </tr>\n",
       "    <tr>\n",
       "      <th>...</th>\n",
       "      <td>...</td>\n",
       "      <td>...</td>\n",
       "      <td>...</td>\n",
       "      <td>...</td>\n",
       "      <td>...</td>\n",
       "      <td>...</td>\n",
       "      <td>...</td>\n",
       "    </tr>\n",
       "    <tr>\n",
       "      <th>7038</th>\n",
       "      <td>No</td>\n",
       "      <td>Yes</td>\n",
       "      <td>DSL</td>\n",
       "      <td>Mailed check</td>\n",
       "      <td>Yes</td>\n",
       "      <td>Yes</td>\n",
       "      <td>No</td>\n",
       "    </tr>\n",
       "    <tr>\n",
       "      <th>7039</th>\n",
       "      <td>No</td>\n",
       "      <td>No</td>\n",
       "      <td>Fiber optic</td>\n",
       "      <td>Credit card (automatic)</td>\n",
       "      <td>No</td>\n",
       "      <td>Yes</td>\n",
       "      <td>Yes</td>\n",
       "    </tr>\n",
       "    <tr>\n",
       "      <th>7040</th>\n",
       "      <td>No</td>\n",
       "      <td>No</td>\n",
       "      <td>DSL</td>\n",
       "      <td>Electronic check</td>\n",
       "      <td>Yes</td>\n",
       "      <td>No</td>\n",
       "      <td>No</td>\n",
       "    </tr>\n",
       "    <tr>\n",
       "      <th>7041</th>\n",
       "      <td>Yes</td>\n",
       "      <td>No</td>\n",
       "      <td>Fiber optic</td>\n",
       "      <td>Mailed check</td>\n",
       "      <td>No</td>\n",
       "      <td>No</td>\n",
       "      <td>No</td>\n",
       "    </tr>\n",
       "    <tr>\n",
       "      <th>7042</th>\n",
       "      <td>No</td>\n",
       "      <td>Yes</td>\n",
       "      <td>Fiber optic</td>\n",
       "      <td>Bank transfer (automatic)</td>\n",
       "      <td>Yes</td>\n",
       "      <td>Yes</td>\n",
       "      <td>No</td>\n",
       "    </tr>\n",
       "  </tbody>\n",
       "</table>\n",
       "<p>6928 rows × 7 columns</p>\n",
       "</div>"
      ],
      "text/plain": [
       "     Churn TechSupport InternetService              PaymentMethod  \\\n",
       "0       No          No             DSL           Electronic check   \n",
       "1       No          No             DSL               Mailed check   \n",
       "2      Yes          No             DSL               Mailed check   \n",
       "3       No         Yes             DSL  Bank transfer (automatic)   \n",
       "4      Yes          No     Fiber optic           Electronic check   \n",
       "...    ...         ...             ...                        ...   \n",
       "7038    No         Yes             DSL               Mailed check   \n",
       "7039    No          No     Fiber optic    Credit card (automatic)   \n",
       "7040    No          No             DSL           Electronic check   \n",
       "7041   Yes          No     Fiber optic               Mailed check   \n",
       "7042    No         Yes     Fiber optic  Bank transfer (automatic)   \n",
       "\n",
       "     OnlineSecurity DeviceProtection OnlineBackup  \n",
       "0                No               No          Yes  \n",
       "1               Yes              Yes           No  \n",
       "2               Yes               No          Yes  \n",
       "3               Yes              Yes           No  \n",
       "4                No               No           No  \n",
       "...             ...              ...          ...  \n",
       "7038            Yes              Yes           No  \n",
       "7039             No              Yes          Yes  \n",
       "7040            Yes               No           No  \n",
       "7041             No               No           No  \n",
       "7042            Yes              Yes           No  \n",
       "\n",
       "[6928 rows x 7 columns]"
      ]
     },
     "execution_count": 40,
     "metadata": {},
     "output_type": "execute_result"
    }
   ],
   "source": [
    "churn2_df = churn_df[['Churn', 'TechSupport', 'InternetService', 'PaymentMethod', 'OnlineSecurity', 'DeviceProtection', 'OnlineBackup']]\n",
    "churn2_df"
   ]
  },
  {
   "cell_type": "markdown",
   "metadata": {},
   "source": [
    "### [4 คะแนน]\n",
    "\n",
    "ให้แปลงตัวแปรอื่นๆ(ที่ไม่ใช่ float) ให้เป็นตัวเลข\n",
    "\n",
    "- เช่น Gender ให้เป็นข้อมูล  0 กับ 1 แทน Male กับ  Female \n",
    "- หากตัวแปรนั้น ๆ มี 3 ประเภทให้ระบุเป็น 0, 1, และ 2\n",
    "\n",
    "- **หากนักศึกษาทำไม่ได้ให้ข้ามข้อนี้แล้วให้ใช้ไฟล์ Churn2.csv แทน แต่จะไม่ได้คะแนนในข้อนี้**"
   ]
  },
  {
   "cell_type": "code",
   "execution_count": 42,
   "metadata": {},
   "outputs": [
    {
     "name": "stderr",
     "output_type": "stream",
     "text": [
      "C:\\Users\\Tanyathep\\AppData\\Local\\Temp\\ipykernel_12880\\1846329868.py:1: SettingWithCopyWarning: \n",
      "A value is trying to be set on a copy of a slice from a DataFrame.\n",
      "Try using .loc[row_indexer,col_indexer] = value instead\n",
      "\n",
      "See the caveats in the documentation: https://pandas.pydata.org/pandas-docs/stable/user_guide/indexing.html#returning-a-view-versus-a-copy\n",
      "  churn2_df['Churn'] = np.where((churn2_df['Churn'] == 'Yes'), 1, 0)\n",
      "C:\\Users\\Tanyathep\\AppData\\Local\\Temp\\ipykernel_12880\\1846329868.py:2: SettingWithCopyWarning: \n",
      "A value is trying to be set on a copy of a slice from a DataFrame.\n",
      "Try using .loc[row_indexer,col_indexer] = value instead\n",
      "\n",
      "See the caveats in the documentation: https://pandas.pydata.org/pandas-docs/stable/user_guide/indexing.html#returning-a-view-versus-a-copy\n",
      "  churn2_df['TechSupport'] = churn2_df['TechSupport'].map({'No':0, 'Yes':1, 'No internet service':2})\n",
      "C:\\Users\\Tanyathep\\AppData\\Local\\Temp\\ipykernel_12880\\1846329868.py:3: SettingWithCopyWarning: \n",
      "A value is trying to be set on a copy of a slice from a DataFrame.\n",
      "Try using .loc[row_indexer,col_indexer] = value instead\n",
      "\n",
      "See the caveats in the documentation: https://pandas.pydata.org/pandas-docs/stable/user_guide/indexing.html#returning-a-view-versus-a-copy\n",
      "  churn2_df['OnlineSecurity'] = churn2_df['OnlineSecurity'].map({'No':0, 'Yes':1, 'No internet service':2})\n",
      "C:\\Users\\Tanyathep\\AppData\\Local\\Temp\\ipykernel_12880\\1846329868.py:4: SettingWithCopyWarning: \n",
      "A value is trying to be set on a copy of a slice from a DataFrame.\n",
      "Try using .loc[row_indexer,col_indexer] = value instead\n",
      "\n",
      "See the caveats in the documentation: https://pandas.pydata.org/pandas-docs/stable/user_guide/indexing.html#returning-a-view-versus-a-copy\n",
      "  churn2_df['DeviceProtection'] = churn2_df['DeviceProtection'].map({'No':0, 'Yes':1,\n",
      "C:\\Users\\Tanyathep\\AppData\\Local\\Temp\\ipykernel_12880\\1846329868.py:6: SettingWithCopyWarning: \n",
      "A value is trying to be set on a copy of a slice from a DataFrame.\n",
      "Try using .loc[row_indexer,col_indexer] = value instead\n",
      "\n",
      "See the caveats in the documentation: https://pandas.pydata.org/pandas-docs/stable/user_guide/indexing.html#returning-a-view-versus-a-copy\n",
      "  churn2_df['OnlineBackup'] = churn2_df['OnlineBackup'].map({'No':0, 'Yes':1, 'No internet service':2})\n",
      "C:\\Users\\Tanyathep\\AppData\\Local\\Temp\\ipykernel_12880\\1846329868.py:7: SettingWithCopyWarning: \n",
      "A value is trying to be set on a copy of a slice from a DataFrame.\n",
      "Try using .loc[row_indexer,col_indexer] = value instead\n",
      "\n",
      "See the caveats in the documentation: https://pandas.pydata.org/pandas-docs/stable/user_guide/indexing.html#returning-a-view-versus-a-copy\n",
      "  churn2_df['InternetService'] = churn2_df['InternetService'].map({'No':0, 'Fiber optic':1, 'DSL':2})\n",
      "C:\\Users\\Tanyathep\\AppData\\Local\\Temp\\ipykernel_12880\\1846329868.py:8: SettingWithCopyWarning: \n",
      "A value is trying to be set on a copy of a slice from a DataFrame.\n",
      "Try using .loc[row_indexer,col_indexer] = value instead\n",
      "\n",
      "See the caveats in the documentation: https://pandas.pydata.org/pandas-docs/stable/user_guide/indexing.html#returning-a-view-versus-a-copy\n",
      "  churn2_df['PaymentMethod'] = churn2_df['PaymentMethod'].map({'Electronic check':0, 'Mailed check':1,\n"
     ]
    },
    {
     "data": {
      "text/html": [
       "<div>\n",
       "<style scoped>\n",
       "    .dataframe tbody tr th:only-of-type {\n",
       "        vertical-align: middle;\n",
       "    }\n",
       "\n",
       "    .dataframe tbody tr th {\n",
       "        vertical-align: top;\n",
       "    }\n",
       "\n",
       "    .dataframe thead th {\n",
       "        text-align: right;\n",
       "    }\n",
       "</style>\n",
       "<table border=\"1\" class=\"dataframe\">\n",
       "  <thead>\n",
       "    <tr style=\"text-align: right;\">\n",
       "      <th></th>\n",
       "      <th>Churn</th>\n",
       "      <th>TechSupport</th>\n",
       "      <th>InternetService</th>\n",
       "      <th>PaymentMethod</th>\n",
       "      <th>OnlineSecurity</th>\n",
       "      <th>DeviceProtection</th>\n",
       "      <th>OnlineBackup</th>\n",
       "    </tr>\n",
       "  </thead>\n",
       "  <tbody>\n",
       "    <tr>\n",
       "      <th>0</th>\n",
       "      <td>0</td>\n",
       "      <td>0</td>\n",
       "      <td>2</td>\n",
       "      <td>0</td>\n",
       "      <td>0</td>\n",
       "      <td>0</td>\n",
       "      <td>1</td>\n",
       "    </tr>\n",
       "    <tr>\n",
       "      <th>1</th>\n",
       "      <td>0</td>\n",
       "      <td>0</td>\n",
       "      <td>2</td>\n",
       "      <td>1</td>\n",
       "      <td>1</td>\n",
       "      <td>1</td>\n",
       "      <td>0</td>\n",
       "    </tr>\n",
       "    <tr>\n",
       "      <th>2</th>\n",
       "      <td>1</td>\n",
       "      <td>0</td>\n",
       "      <td>2</td>\n",
       "      <td>1</td>\n",
       "      <td>1</td>\n",
       "      <td>0</td>\n",
       "      <td>1</td>\n",
       "    </tr>\n",
       "    <tr>\n",
       "      <th>3</th>\n",
       "      <td>0</td>\n",
       "      <td>1</td>\n",
       "      <td>2</td>\n",
       "      <td>2</td>\n",
       "      <td>1</td>\n",
       "      <td>1</td>\n",
       "      <td>0</td>\n",
       "    </tr>\n",
       "    <tr>\n",
       "      <th>4</th>\n",
       "      <td>1</td>\n",
       "      <td>0</td>\n",
       "      <td>1</td>\n",
       "      <td>0</td>\n",
       "      <td>0</td>\n",
       "      <td>0</td>\n",
       "      <td>0</td>\n",
       "    </tr>\n",
       "    <tr>\n",
       "      <th>...</th>\n",
       "      <td>...</td>\n",
       "      <td>...</td>\n",
       "      <td>...</td>\n",
       "      <td>...</td>\n",
       "      <td>...</td>\n",
       "      <td>...</td>\n",
       "      <td>...</td>\n",
       "    </tr>\n",
       "    <tr>\n",
       "      <th>7038</th>\n",
       "      <td>0</td>\n",
       "      <td>1</td>\n",
       "      <td>2</td>\n",
       "      <td>1</td>\n",
       "      <td>1</td>\n",
       "      <td>1</td>\n",
       "      <td>0</td>\n",
       "    </tr>\n",
       "    <tr>\n",
       "      <th>7039</th>\n",
       "      <td>0</td>\n",
       "      <td>0</td>\n",
       "      <td>1</td>\n",
       "      <td>3</td>\n",
       "      <td>0</td>\n",
       "      <td>1</td>\n",
       "      <td>1</td>\n",
       "    </tr>\n",
       "    <tr>\n",
       "      <th>7040</th>\n",
       "      <td>0</td>\n",
       "      <td>0</td>\n",
       "      <td>2</td>\n",
       "      <td>0</td>\n",
       "      <td>1</td>\n",
       "      <td>0</td>\n",
       "      <td>0</td>\n",
       "    </tr>\n",
       "    <tr>\n",
       "      <th>7041</th>\n",
       "      <td>1</td>\n",
       "      <td>0</td>\n",
       "      <td>1</td>\n",
       "      <td>1</td>\n",
       "      <td>0</td>\n",
       "      <td>0</td>\n",
       "      <td>0</td>\n",
       "    </tr>\n",
       "    <tr>\n",
       "      <th>7042</th>\n",
       "      <td>0</td>\n",
       "      <td>1</td>\n",
       "      <td>1</td>\n",
       "      <td>2</td>\n",
       "      <td>1</td>\n",
       "      <td>1</td>\n",
       "      <td>0</td>\n",
       "    </tr>\n",
       "  </tbody>\n",
       "</table>\n",
       "<p>6928 rows × 7 columns</p>\n",
       "</div>"
      ],
      "text/plain": [
       "      Churn  TechSupport  InternetService  PaymentMethod  OnlineSecurity  \\\n",
       "0         0            0                2              0               0   \n",
       "1         0            0                2              1               1   \n",
       "2         1            0                2              1               1   \n",
       "3         0            1                2              2               1   \n",
       "4         1            0                1              0               0   \n",
       "...     ...          ...              ...            ...             ...   \n",
       "7038      0            1                2              1               1   \n",
       "7039      0            0                1              3               0   \n",
       "7040      0            0                2              0               1   \n",
       "7041      1            0                1              1               0   \n",
       "7042      0            1                1              2               1   \n",
       "\n",
       "      DeviceProtection  OnlineBackup  \n",
       "0                    0             1  \n",
       "1                    1             0  \n",
       "2                    0             1  \n",
       "3                    1             0  \n",
       "4                    0             0  \n",
       "...                ...           ...  \n",
       "7038                 1             0  \n",
       "7039                 1             1  \n",
       "7040                 0             0  \n",
       "7041                 0             0  \n",
       "7042                 1             0  \n",
       "\n",
       "[6928 rows x 7 columns]"
      ]
     },
     "execution_count": 42,
     "metadata": {},
     "output_type": "execute_result"
    }
   ],
   "source": [
    "churn2_df['Churn'] = np.where((churn2_df['Churn'] == 'Yes'), 1, 0)\n",
    "churn2_df['TechSupport'] = churn2_df['TechSupport'].map({'No':0, 'Yes':1, 'No internet service':2})\n",
    "churn2_df['OnlineSecurity'] = churn2_df['OnlineSecurity'].map({'No':0, 'Yes':1, 'No internet service':2})\n",
    "churn2_df['DeviceProtection'] = churn2_df['DeviceProtection'].map({'No':0, 'Yes':1, \n",
    "                                                                   'No internet service':2})\n",
    "churn2_df['OnlineBackup'] = churn2_df['OnlineBackup'].map({'No':0, 'Yes':1, 'No internet service':2})\n",
    "churn2_df['InternetService'] = churn2_df['InternetService'].map({'No':0, 'Fiber optic':1, 'DSL':2})\n",
    "churn2_df['PaymentMethod'] = churn2_df['PaymentMethod'].map({'Electronic check':0, 'Mailed check':1,\n",
    "                                                             'Bank transfer (automatic)':2, \n",
    "                                                             'Credit card (automatic)':3})\n",
    "churn2_df"
   ]
  },
  {
   "cell_type": "markdown",
   "metadata": {},
   "source": [
    "## ส่วนที่ 2 [รวม 18 คะแนน]\n",
    "1. หากนักศึกษาทำส่วนที่ 1 ได้ ให้ใช้ dataframe ที่ทำได้แล้วทำต่อเนื่องต่อไป\n",
    "\n",
    "2. หากนักศึกษาทำในส่วนที่ 1ไม่ได้ ให้เริ่มส่วนนี้โดยใช้ไฟล์ Churn2.csv จากนั้นตัดให้เลือกเก็บเฉพาะตัวแปรที่คิดว่าเหมาะสมไว้ 6 ตัวพร้อมกับตัวแปร Churn อีกหนึ่งตัวรวมเป็น  7 ตัวแปร\n",
    "\n",
    "3. ใช้แบบจำลอง Random Forest ในคัดกรอง"
   ]
  },
  {
   "cell_type": "code",
   "execution_count": 44,
   "metadata": {},
   "outputs": [],
   "source": [
    "## -- Codes -- ## เฉพาะคนที่ทำส่วนที่ 1 ไม่ได้\n",
    "\n"
   ]
  },
  {
   "cell_type": "markdown",
   "metadata": {},
   "source": [
    "### [2 คะแนน]\n",
    "เติม code ให้สมบูรณ์\n"
   ]
  },
  {
   "cell_type": "code",
   "execution_count": 46,
   "metadata": {},
   "outputs": [],
   "source": [
    "X = churn2_df.drop(columns = 'Churn')\n",
    "y = churn2_df.Churn\n",
    "\n",
    "Test_size   = 0.3    # 0 to 1\n",
    "Random_seed = 80247 # ใส่เลขทะเบียน 5 ตัวท้าย\n",
    "\n",
    "X_train, X_test, y_train, y_test = train_test_split(X, y,\n",
    "                                                    test_size = Test_size,\n",
    "                                                    random_state = Random_seed)"
   ]
  },
  {
   "cell_type": "markdown",
   "metadata": {},
   "source": [
    "### [16 คะแนน]\n",
    "หาแบบจำลองที่เหมาะสมจากแบบจำลอง Random Forest\n",
    "\n",
    "กำหนดให้ทางเลือกการกำหนดแบบจำลองเป็นดังนี้\n",
    " 1. ให้ใช้ตัวแปรคุณลักษณะทั้ง 6 ตัวที่เลือกมา\n",
    " 2. เกณฑ์การคัดกรองเป็นไปได้ระหว่าง Gini หรือ Entropy\n",
    " 3. จำนวนต้นไม้เป็นไปได้ตั้งแต่ 2, 3, 4, 5 ไปจนถึง 10 ต้น\n",
    " 4. ความลึกของลำดับการคัดกรอง (max depth) เป็นไปได้ตั้งแต่ 2, 3, 4, 5 \n",
    " \n",
    "จากทางเลือกของแบบจำลอง ให้แสดงการค้นหาและระบุว่าแบบจำลองใดเป็นแบบจำลองที่ดีที่สุด\n",
    " 1. ใช้ คะแนน precision ของการทำนาย Churn จากชุดข้อมูลทดสอบ (test data) เป็นเกณฑ์ในการเลือก\n",
    " 2. เมื่อได้แบบจำลองที่ดีที่สุดแล้วให้ระบุว่าข้อกำหนดแบบจำลองคือแบบจำลองใด\n",
    " 3. เมื่อได้แบบจำลองที่ดีที่สุดแล้ว ให้ใช้แบบจำลองนั้นแสดงตาราง Classification Report ของทั้ง train และ test sample\n",
    " 4. เมื่อได้แบบจำลองที่ดีที่สุดแล้ว ให้ใช้แบบจำลองนั้น จงระบุตัวแปรคุณลักษณะ (Feature Variable) ที่ดีที่สุด 3 ตัวแปรแรก"
   ]
  },
  {
   "cell_type": "code",
   "execution_count": 48,
   "metadata": {
    "tags": []
   },
   "outputs": [],
   "source": [
    "criterions = ['entropy','gini']\n",
    "n_estimators = list(range(2,11))\n",
    "random_state_i = Random_seed\n",
    "max_depth_x = list(range(2,6))\n",
    "\n",
    "models= []\n",
    "i = 0\n",
    "for criterion_i in ['entropy','gini']:\n",
    "    for n_estimators_i in n_estimators:\n",
    "        for max_depth_i in max_depth_x:\n",
    "            i = i+1 \n",
    "            model = RandomForestClassifier(\n",
    "                        criterion= criterion_i,\n",
    "                        max_depth= max_depth_i,\n",
    "                        n_estimators= n_estimators_i, \n",
    "                        random_state= random_state_i,\n",
    "                        bootstrap = True # random choose data to make a tree\n",
    "                        )\n",
    "            models.append(['RF_'+str(i), model])"
   ]
  },
  {
   "cell_type": "code",
   "execution_count": 49,
   "metadata": {
    "tags": []
   },
   "outputs": [
    {
     "name": "stderr",
     "output_type": "stream",
     "text": [
      "C:\\Users\\Tanyathep\\anaconda3\\Lib\\site-packages\\sklearn\\metrics\\_classification.py:1469: UndefinedMetricWarning: Precision is ill-defined and being set to 0.0 in labels with no predicted samples. Use `zero_division` parameter to control this behavior.\n",
      "  _warn_prf(average, modifier, msg_start, len(result))\n",
      "C:\\Users\\Tanyathep\\anaconda3\\Lib\\site-packages\\sklearn\\metrics\\_classification.py:1469: UndefinedMetricWarning: Precision is ill-defined and being set to 0.0 in labels with no predicted samples. Use `zero_division` parameter to control this behavior.\n",
      "  _warn_prf(average, modifier, msg_start, len(result))\n",
      "C:\\Users\\Tanyathep\\anaconda3\\Lib\\site-packages\\sklearn\\metrics\\_classification.py:1469: UndefinedMetricWarning: Precision is ill-defined and being set to 0.0 in labels with no predicted samples. Use `zero_division` parameter to control this behavior.\n",
      "  _warn_prf(average, modifier, msg_start, len(result))\n",
      "C:\\Users\\Tanyathep\\anaconda3\\Lib\\site-packages\\sklearn\\metrics\\_classification.py:1469: UndefinedMetricWarning: Precision is ill-defined and being set to 0.0 in labels with no predicted samples. Use `zero_division` parameter to control this behavior.\n",
      "  _warn_prf(average, modifier, msg_start, len(result))\n",
      "C:\\Users\\Tanyathep\\anaconda3\\Lib\\site-packages\\sklearn\\metrics\\_classification.py:1469: UndefinedMetricWarning: Precision is ill-defined and being set to 0.0 in labels with no predicted samples. Use `zero_division` parameter to control this behavior.\n",
      "  _warn_prf(average, modifier, msg_start, len(result))\n",
      "C:\\Users\\Tanyathep\\anaconda3\\Lib\\site-packages\\sklearn\\metrics\\_classification.py:1469: UndefinedMetricWarning: Precision is ill-defined and being set to 0.0 in labels with no predicted samples. Use `zero_division` parameter to control this behavior.\n",
      "  _warn_prf(average, modifier, msg_start, len(result))\n",
      "C:\\Users\\Tanyathep\\anaconda3\\Lib\\site-packages\\sklearn\\metrics\\_classification.py:1469: UndefinedMetricWarning: Precision is ill-defined and being set to 0.0 in labels with no predicted samples. Use `zero_division` parameter to control this behavior.\n",
      "  _warn_prf(average, modifier, msg_start, len(result))\n",
      "C:\\Users\\Tanyathep\\anaconda3\\Lib\\site-packages\\sklearn\\metrics\\_classification.py:1469: UndefinedMetricWarning: Precision is ill-defined and being set to 0.0 in labels with no predicted samples. Use `zero_division` parameter to control this behavior.\n",
      "  _warn_prf(average, modifier, msg_start, len(result))\n",
      "C:\\Users\\Tanyathep\\anaconda3\\Lib\\site-packages\\sklearn\\metrics\\_classification.py:1469: UndefinedMetricWarning: Precision is ill-defined and being set to 0.0 in labels with no predicted samples. Use `zero_division` parameter to control this behavior.\n",
      "  _warn_prf(average, modifier, msg_start, len(result))\n",
      "C:\\Users\\Tanyathep\\anaconda3\\Lib\\site-packages\\sklearn\\metrics\\_classification.py:1469: UndefinedMetricWarning: Precision is ill-defined and being set to 0.0 in labels with no predicted samples. Use `zero_division` parameter to control this behavior.\n",
      "  _warn_prf(average, modifier, msg_start, len(result))\n",
      "C:\\Users\\Tanyathep\\anaconda3\\Lib\\site-packages\\sklearn\\metrics\\_classification.py:1469: UndefinedMetricWarning: Precision is ill-defined and being set to 0.0 in labels with no predicted samples. Use `zero_division` parameter to control this behavior.\n",
      "  _warn_prf(average, modifier, msg_start, len(result))\n",
      "C:\\Users\\Tanyathep\\anaconda3\\Lib\\site-packages\\sklearn\\metrics\\_classification.py:1469: UndefinedMetricWarning: Precision is ill-defined and being set to 0.0 in labels with no predicted samples. Use `zero_division` parameter to control this behavior.\n",
      "  _warn_prf(average, modifier, msg_start, len(result))\n"
     ]
    },
    {
     "data": {
      "text/html": [
       "<div>\n",
       "<style scoped>\n",
       "    .dataframe tbody tr th:only-of-type {\n",
       "        vertical-align: middle;\n",
       "    }\n",
       "\n",
       "    .dataframe tbody tr th {\n",
       "        vertical-align: top;\n",
       "    }\n",
       "\n",
       "    .dataframe thead th {\n",
       "        text-align: right;\n",
       "    }\n",
       "</style>\n",
       "<table border=\"1\" class=\"dataframe\">\n",
       "  <thead>\n",
       "    <tr style=\"text-align: right;\">\n",
       "      <th></th>\n",
       "      <th>model</th>\n",
       "      <th>data</th>\n",
       "      <th>accuracy</th>\n",
       "      <th>precision</th>\n",
       "      <th>recall</th>\n",
       "      <th>importantF</th>\n",
       "    </tr>\n",
       "  </thead>\n",
       "  <tbody>\n",
       "    <tr>\n",
       "      <th>0</th>\n",
       "      <td>RF_1</td>\n",
       "      <td>train</td>\n",
       "      <td>0.770262</td>\n",
       "      <td>[0.7938417127736348, 0.6286127167630058]</td>\n",
       "      <td>[0.9277481023334271, 0.336687306501548]</td>\n",
       "      <td>[0.13189006388791943, 0.0, 0.12241151967912632...</td>\n",
       "    </tr>\n",
       "    <tr>\n",
       "      <th>1</th>\n",
       "      <td>RF_1</td>\n",
       "      <td>test</td>\n",
       "      <td>0.772006</td>\n",
       "      <td>[0.7916207276736494, 0.6377358490566037]</td>\n",
       "      <td>[0.9373368146214099, 0.30895795246800734]</td>\n",
       "      <td>[0.13189006388791943, 0.0, 0.12241151967912632...</td>\n",
       "    </tr>\n",
       "    <tr>\n",
       "      <th>2</th>\n",
       "      <td>RF_2</td>\n",
       "      <td>train</td>\n",
       "      <td>0.768612</td>\n",
       "      <td>[0.7830737037898163, 0.6551094890510949]</td>\n",
       "      <td>[0.9468653359572674, 0.27786377708978327]</td>\n",
       "      <td>[0.08055770183575885, 0.05455190492622979, 0.1...</td>\n",
       "    </tr>\n",
       "    <tr>\n",
       "      <th>3</th>\n",
       "      <td>RF_2</td>\n",
       "      <td>test</td>\n",
       "      <td>0.770563</td>\n",
       "      <td>[0.7783641160949868, 0.6902173913043478]</td>\n",
       "      <td>[0.9627937336814621, 0.23217550274223034]</td>\n",
       "      <td>[0.08055770183575885, 0.05455190492622979, 0.1...</td>\n",
       "    </tr>\n",
       "    <tr>\n",
       "      <th>4</th>\n",
       "      <td>RF_3</td>\n",
       "      <td>train</td>\n",
       "      <td>0.772943</td>\n",
       "      <td>[0.8096318709026727, 0.608154020385051]</td>\n",
       "      <td>[0.902727017149283, 0.41563467492260064]</td>\n",
       "      <td>[0.14653063700063088, 0.07819748269314566, 0.1...</td>\n",
       "    </tr>\n",
       "    <tr>\n",
       "      <th>...</th>\n",
       "      <td>...</td>\n",
       "      <td>...</td>\n",
       "      <td>...</td>\n",
       "      <td>...</td>\n",
       "      <td>...</td>\n",
       "      <td>...</td>\n",
       "    </tr>\n",
       "    <tr>\n",
       "      <th>139</th>\n",
       "      <td>RF_70</td>\n",
       "      <td>test</td>\n",
       "      <td>0.770563</td>\n",
       "      <td>[0.7783641160949868, 0.6902173913043478]</td>\n",
       "      <td>[0.9627937336814621, 0.23217550274223034]</td>\n",
       "      <td>[0.30067432800473265, 0.06650536649265108, 0.1...</td>\n",
       "    </tr>\n",
       "    <tr>\n",
       "      <th>140</th>\n",
       "      <td>RF_71</td>\n",
       "      <td>train</td>\n",
       "      <td>0.776861</td>\n",
       "      <td>[0.8103837471783296, 0.6218097447795824]</td>\n",
       "      <td>[0.9083497329210009, 0.4148606811145511]</td>\n",
       "      <td>[0.2883459351911448, 0.09603311895336761, 0.12...</td>\n",
       "    </tr>\n",
       "    <tr>\n",
       "      <th>141</th>\n",
       "      <td>RF_71</td>\n",
       "      <td>test</td>\n",
       "      <td>0.777297</td>\n",
       "      <td>[0.805603201829617, 0.6272727272727273]</td>\n",
       "      <td>[0.9197127937336814, 0.37842778793418647]</td>\n",
       "      <td>[0.2883459351911448, 0.09603311895336761, 0.12...</td>\n",
       "    </tr>\n",
       "    <tr>\n",
       "      <th>142</th>\n",
       "      <td>RF_72</td>\n",
       "      <td>train</td>\n",
       "      <td>0.776861</td>\n",
       "      <td>[0.8103837471783296, 0.6218097447795824]</td>\n",
       "      <td>[0.9083497329210009, 0.4148606811145511]</td>\n",
       "      <td>[0.28450489731275763, 0.11819968701611613, 0.1...</td>\n",
       "    </tr>\n",
       "    <tr>\n",
       "      <th>143</th>\n",
       "      <td>RF_72</td>\n",
       "      <td>test</td>\n",
       "      <td>0.777297</td>\n",
       "      <td>[0.805603201829617, 0.6272727272727273]</td>\n",
       "      <td>[0.9197127937336814, 0.37842778793418647]</td>\n",
       "      <td>[0.28450489731275763, 0.11819968701611613, 0.1...</td>\n",
       "    </tr>\n",
       "  </tbody>\n",
       "</table>\n",
       "<p>144 rows × 6 columns</p>\n",
       "</div>"
      ],
      "text/plain": [
       "     model   data  accuracy                                 precision  \\\n",
       "0     RF_1  train  0.770262  [0.7938417127736348, 0.6286127167630058]   \n",
       "1     RF_1   test  0.772006  [0.7916207276736494, 0.6377358490566037]   \n",
       "2     RF_2  train  0.768612  [0.7830737037898163, 0.6551094890510949]   \n",
       "3     RF_2   test  0.770563  [0.7783641160949868, 0.6902173913043478]   \n",
       "4     RF_3  train  0.772943   [0.8096318709026727, 0.608154020385051]   \n",
       "..     ...    ...       ...                                       ...   \n",
       "139  RF_70   test  0.770563  [0.7783641160949868, 0.6902173913043478]   \n",
       "140  RF_71  train  0.776861  [0.8103837471783296, 0.6218097447795824]   \n",
       "141  RF_71   test  0.777297   [0.805603201829617, 0.6272727272727273]   \n",
       "142  RF_72  train  0.776861  [0.8103837471783296, 0.6218097447795824]   \n",
       "143  RF_72   test  0.777297   [0.805603201829617, 0.6272727272727273]   \n",
       "\n",
       "                                        recall  \\\n",
       "0      [0.9277481023334271, 0.336687306501548]   \n",
       "1    [0.9373368146214099, 0.30895795246800734]   \n",
       "2    [0.9468653359572674, 0.27786377708978327]   \n",
       "3    [0.9627937336814621, 0.23217550274223034]   \n",
       "4     [0.902727017149283, 0.41563467492260064]   \n",
       "..                                         ...   \n",
       "139  [0.9627937336814621, 0.23217550274223034]   \n",
       "140   [0.9083497329210009, 0.4148606811145511]   \n",
       "141  [0.9197127937336814, 0.37842778793418647]   \n",
       "142   [0.9083497329210009, 0.4148606811145511]   \n",
       "143  [0.9197127937336814, 0.37842778793418647]   \n",
       "\n",
       "                                            importantF  \n",
       "0    [0.13189006388791943, 0.0, 0.12241151967912632...  \n",
       "1    [0.13189006388791943, 0.0, 0.12241151967912632...  \n",
       "2    [0.08055770183575885, 0.05455190492622979, 0.1...  \n",
       "3    [0.08055770183575885, 0.05455190492622979, 0.1...  \n",
       "4    [0.14653063700063088, 0.07819748269314566, 0.1...  \n",
       "..                                                 ...  \n",
       "139  [0.30067432800473265, 0.06650536649265108, 0.1...  \n",
       "140  [0.2883459351911448, 0.09603311895336761, 0.12...  \n",
       "141  [0.2883459351911448, 0.09603311895336761, 0.12...  \n",
       "142  [0.28450489731275763, 0.11819968701611613, 0.1...  \n",
       "143  [0.28450489731275763, 0.11819968701611613, 0.1...  \n",
       "\n",
       "[144 rows x 6 columns]"
      ]
     },
     "execution_count": 49,
     "metadata": {},
     "output_type": "execute_result"
    }
   ],
   "source": [
    "score_all = []\n",
    "\n",
    "for model_name, model in models:\n",
    "\n",
    "    model.fit(X_train, y_train) \n",
    "    fi  = model.feature_importances_\n",
    "    \n",
    "    for sample  in ['train','test']:\n",
    "        X_ = eval('X_'+sample)\n",
    "        y_ = eval('y_'+sample)\n",
    "        \n",
    "        accu_score = model.score(X_,y_)\n",
    "\n",
    "        prec_score  = metrics.precision_score(y_,model.predict(X_),average= None)\n",
    "\n",
    "        recall_score  = metrics.recall_score(y_,model.predict(X_),average= None)\n",
    "        \n",
    "        score_all.append([model_name,sample,accu_score,prec_score,recall_score,fi])\n",
    "\n",
    "df_report =pd.DataFrame(score_all,columns=['model','data','accuracy','precision','recall','importantF'])\n",
    "df_report"
   ]
  },
  {
   "cell_type": "code",
   "execution_count": 50,
   "metadata": {
    "tags": []
   },
   "outputs": [
    {
     "data": {
      "text/html": [
       "<div>\n",
       "<style scoped>\n",
       "    .dataframe tbody tr th:only-of-type {\n",
       "        vertical-align: middle;\n",
       "    }\n",
       "\n",
       "    .dataframe tbody tr th {\n",
       "        vertical-align: top;\n",
       "    }\n",
       "\n",
       "    .dataframe thead th {\n",
       "        text-align: right;\n",
       "    }\n",
       "</style>\n",
       "<table border=\"1\" class=\"dataframe\">\n",
       "  <thead>\n",
       "    <tr style=\"text-align: right;\">\n",
       "      <th>data</th>\n",
       "      <th>test</th>\n",
       "      <th>train</th>\n",
       "    </tr>\n",
       "    <tr>\n",
       "      <th>model</th>\n",
       "      <th></th>\n",
       "      <th></th>\n",
       "    </tr>\n",
       "  </thead>\n",
       "  <tbody>\n",
       "    <tr>\n",
       "      <th>RF_1</th>\n",
       "      <td>[0.7916207276736494, 0.6377358490566037]</td>\n",
       "      <td>[0.7938417127736348, 0.6286127167630058]</td>\n",
       "    </tr>\n",
       "    <tr>\n",
       "      <th>RF_10</th>\n",
       "      <td>[0.7876973326075123, 0.6487603305785123]</td>\n",
       "      <td>[0.7909307875894988, 0.6312594840667678]</td>\n",
       "    </tr>\n",
       "    <tr>\n",
       "      <th>RF_11</th>\n",
       "      <td>[0.8, 0.631578947368421]</td>\n",
       "      <td>[0.8017177914110429, 0.6253229974160207]</td>\n",
       "    </tr>\n",
       "    <tr>\n",
       "      <th>RF_12</th>\n",
       "      <td>[0.8160851567120048, 0.6082474226804123]</td>\n",
       "      <td>[0.8186714542190305, 0.6157894736842106]</td>\n",
       "    </tr>\n",
       "    <tr>\n",
       "      <th>RF_13</th>\n",
       "      <td>[0.7916207276736494, 0.6377358490566037]</td>\n",
       "      <td>[0.7938417127736348, 0.6286127167630058]</td>\n",
       "    </tr>\n",
       "    <tr>\n",
       "      <th>...</th>\n",
       "      <td>...</td>\n",
       "      <td>...</td>\n",
       "    </tr>\n",
       "    <tr>\n",
       "      <th>RF_70</th>\n",
       "      <td>[0.7783641160949868, 0.6902173913043478]</td>\n",
       "      <td>[0.7830737037898163, 0.6551094890510949]</td>\n",
       "    </tr>\n",
       "    <tr>\n",
       "      <th>RF_71</th>\n",
       "      <td>[0.805603201829617, 0.6272727272727273]</td>\n",
       "      <td>[0.8103837471783296, 0.6218097447795824]</td>\n",
       "    </tr>\n",
       "    <tr>\n",
       "      <th>RF_72</th>\n",
       "      <td>[0.805603201829617, 0.6272727272727273]</td>\n",
       "      <td>[0.8103837471783296, 0.6218097447795824]</td>\n",
       "    </tr>\n",
       "    <tr>\n",
       "      <th>RF_8</th>\n",
       "      <td>[0.8042237442922374, 0.6238532110091743]</td>\n",
       "      <td>[0.8047996041563582, 0.6232961586121437]</td>\n",
       "    </tr>\n",
       "    <tr>\n",
       "      <th>RF_9</th>\n",
       "      <td>[0.7916207276736494, 0.6377358490566037]</td>\n",
       "      <td>[0.7938417127736348, 0.6286127167630058]</td>\n",
       "    </tr>\n",
       "  </tbody>\n",
       "</table>\n",
       "<p>72 rows × 2 columns</p>\n",
       "</div>"
      ],
      "text/plain": [
       "data                                       test  \\\n",
       "model                                             \n",
       "RF_1   [0.7916207276736494, 0.6377358490566037]   \n",
       "RF_10  [0.7876973326075123, 0.6487603305785123]   \n",
       "RF_11                  [0.8, 0.631578947368421]   \n",
       "RF_12  [0.8160851567120048, 0.6082474226804123]   \n",
       "RF_13  [0.7916207276736494, 0.6377358490566037]   \n",
       "...                                         ...   \n",
       "RF_70  [0.7783641160949868, 0.6902173913043478]   \n",
       "RF_71   [0.805603201829617, 0.6272727272727273]   \n",
       "RF_72   [0.805603201829617, 0.6272727272727273]   \n",
       "RF_8   [0.8042237442922374, 0.6238532110091743]   \n",
       "RF_9   [0.7916207276736494, 0.6377358490566037]   \n",
       "\n",
       "data                                      train  \n",
       "model                                            \n",
       "RF_1   [0.7938417127736348, 0.6286127167630058]  \n",
       "RF_10  [0.7909307875894988, 0.6312594840667678]  \n",
       "RF_11  [0.8017177914110429, 0.6253229974160207]  \n",
       "RF_12  [0.8186714542190305, 0.6157894736842106]  \n",
       "RF_13  [0.7938417127736348, 0.6286127167630058]  \n",
       "...                                         ...  \n",
       "RF_70  [0.7830737037898163, 0.6551094890510949]  \n",
       "RF_71  [0.8103837471783296, 0.6218097447795824]  \n",
       "RF_72  [0.8103837471783296, 0.6218097447795824]  \n",
       "RF_8   [0.8047996041563582, 0.6232961586121437]  \n",
       "RF_9   [0.7938417127736348, 0.6286127167630058]  \n",
       "\n",
       "[72 rows x 2 columns]"
      ]
     },
     "execution_count": 50,
     "metadata": {},
     "output_type": "execute_result"
    }
   ],
   "source": [
    "df_report.pivot( index = 'model', columns = 'data', values= 'precision')"
   ]
  },
  {
   "cell_type": "code",
   "execution_count": 51,
   "metadata": {
    "tags": []
   },
   "outputs": [
    {
     "data": {
      "text/html": [
       "<div>\n",
       "<style scoped>\n",
       "    .dataframe tbody tr th:only-of-type {\n",
       "        vertical-align: middle;\n",
       "    }\n",
       "\n",
       "    .dataframe tbody tr th {\n",
       "        vertical-align: top;\n",
       "    }\n",
       "\n",
       "    .dataframe thead th {\n",
       "        text-align: right;\n",
       "    }\n",
       "</style>\n",
       "<table border=\"1\" class=\"dataframe\">\n",
       "  <thead>\n",
       "    <tr style=\"text-align: right;\">\n",
       "      <th></th>\n",
       "      <th>precision_0_test</th>\n",
       "      <th>precision_1_test</th>\n",
       "    </tr>\n",
       "  </thead>\n",
       "  <tbody>\n",
       "    <tr>\n",
       "      <th>0</th>\n",
       "      <td>0.791621</td>\n",
       "      <td>0.637736</td>\n",
       "    </tr>\n",
       "    <tr>\n",
       "      <th>1</th>\n",
       "      <td>0.787697</td>\n",
       "      <td>0.648760</td>\n",
       "    </tr>\n",
       "    <tr>\n",
       "      <th>2</th>\n",
       "      <td>0.800000</td>\n",
       "      <td>0.631579</td>\n",
       "    </tr>\n",
       "    <tr>\n",
       "      <th>3</th>\n",
       "      <td>0.816085</td>\n",
       "      <td>0.608247</td>\n",
       "    </tr>\n",
       "    <tr>\n",
       "      <th>4</th>\n",
       "      <td>0.791621</td>\n",
       "      <td>0.637736</td>\n",
       "    </tr>\n",
       "    <tr>\n",
       "      <th>...</th>\n",
       "      <td>...</td>\n",
       "      <td>...</td>\n",
       "    </tr>\n",
       "    <tr>\n",
       "      <th>67</th>\n",
       "      <td>0.778364</td>\n",
       "      <td>0.690217</td>\n",
       "    </tr>\n",
       "    <tr>\n",
       "      <th>68</th>\n",
       "      <td>0.805603</td>\n",
       "      <td>0.627273</td>\n",
       "    </tr>\n",
       "    <tr>\n",
       "      <th>69</th>\n",
       "      <td>0.805603</td>\n",
       "      <td>0.627273</td>\n",
       "    </tr>\n",
       "    <tr>\n",
       "      <th>70</th>\n",
       "      <td>0.804224</td>\n",
       "      <td>0.623853</td>\n",
       "    </tr>\n",
       "    <tr>\n",
       "      <th>71</th>\n",
       "      <td>0.791621</td>\n",
       "      <td>0.637736</td>\n",
       "    </tr>\n",
       "  </tbody>\n",
       "</table>\n",
       "<p>72 rows × 2 columns</p>\n",
       "</div>"
      ],
      "text/plain": [
       "    precision_0_test  precision_1_test\n",
       "0           0.791621          0.637736\n",
       "1           0.787697          0.648760\n",
       "2           0.800000          0.631579\n",
       "3           0.816085          0.608247\n",
       "4           0.791621          0.637736\n",
       "..               ...               ...\n",
       "67          0.778364          0.690217\n",
       "68          0.805603          0.627273\n",
       "69          0.805603          0.627273\n",
       "70          0.804224          0.623853\n",
       "71          0.791621          0.637736\n",
       "\n",
       "[72 rows x 2 columns]"
      ]
     },
     "execution_count": 51,
     "metadata": {},
     "output_type": "execute_result"
    }
   ],
   "source": [
    "data_i = 'test'\n",
    "score_i = 'precision'\n",
    "\n",
    "a = df_report.pivot(index = \"model\",  columns= 'data', values= score_i)[data_i]\n",
    "n_ = a.iloc[0].shape[0]\n",
    "col_names = [ score_i + '_' + str(i)+'_'+data_i for i in range(n_)]\n",
    "a = pd.DataFrame( a.tolist(),columns= col_names)\n",
    "a"
   ]
  },
  {
   "cell_type": "code",
   "execution_count": 52,
   "metadata": {
    "tags": []
   },
   "outputs": [
    {
     "data": {
      "text/plain": [
       "precision_0_test    0.821343\n",
       "precision_1_test    0.690217\n",
       "dtype: float64"
      ]
     },
     "execution_count": 52,
     "metadata": {},
     "output_type": "execute_result"
    }
   ],
   "source": [
    "a.max()"
   ]
  },
  {
   "cell_type": "code",
   "execution_count": 53,
   "metadata": {
    "tags": []
   },
   "outputs": [
    {
     "data": {
      "text/html": [
       "<div>\n",
       "<style scoped>\n",
       "    .dataframe tbody tr th:only-of-type {\n",
       "        vertical-align: middle;\n",
       "    }\n",
       "\n",
       "    .dataframe tbody tr th {\n",
       "        vertical-align: top;\n",
       "    }\n",
       "\n",
       "    .dataframe thead th {\n",
       "        text-align: right;\n",
       "    }\n",
       "</style>\n",
       "<table border=\"1\" class=\"dataframe\">\n",
       "  <thead>\n",
       "    <tr style=\"text-align: right;\">\n",
       "      <th></th>\n",
       "      <th>precision_0_test</th>\n",
       "      <th>precision_1_test</th>\n",
       "    </tr>\n",
       "  </thead>\n",
       "  <tbody>\n",
       "    <tr>\n",
       "      <th>11</th>\n",
       "      <td>0.778364</td>\n",
       "      <td>0.690217</td>\n",
       "    </tr>\n",
       "    <tr>\n",
       "      <th>18</th>\n",
       "      <td>0.778364</td>\n",
       "      <td>0.690217</td>\n",
       "    </tr>\n",
       "    <tr>\n",
       "      <th>23</th>\n",
       "      <td>0.778364</td>\n",
       "      <td>0.690217</td>\n",
       "    </tr>\n",
       "    <tr>\n",
       "      <th>26</th>\n",
       "      <td>0.778364</td>\n",
       "      <td>0.690217</td>\n",
       "    </tr>\n",
       "    <tr>\n",
       "      <th>27</th>\n",
       "      <td>0.778364</td>\n",
       "      <td>0.690217</td>\n",
       "    </tr>\n",
       "    <tr>\n",
       "      <th>31</th>\n",
       "      <td>0.778364</td>\n",
       "      <td>0.690217</td>\n",
       "    </tr>\n",
       "    <tr>\n",
       "      <th>36</th>\n",
       "      <td>0.778364</td>\n",
       "      <td>0.690217</td>\n",
       "    </tr>\n",
       "    <tr>\n",
       "      <th>55</th>\n",
       "      <td>0.778364</td>\n",
       "      <td>0.690217</td>\n",
       "    </tr>\n",
       "    <tr>\n",
       "      <th>58</th>\n",
       "      <td>0.778364</td>\n",
       "      <td>0.690217</td>\n",
       "    </tr>\n",
       "    <tr>\n",
       "      <th>62</th>\n",
       "      <td>0.778364</td>\n",
       "      <td>0.690217</td>\n",
       "    </tr>\n",
       "    <tr>\n",
       "      <th>65</th>\n",
       "      <td>0.778364</td>\n",
       "      <td>0.690217</td>\n",
       "    </tr>\n",
       "    <tr>\n",
       "      <th>67</th>\n",
       "      <td>0.778364</td>\n",
       "      <td>0.690217</td>\n",
       "    </tr>\n",
       "  </tbody>\n",
       "</table>\n",
       "</div>"
      ],
      "text/plain": [
       "    precision_0_test  precision_1_test\n",
       "11          0.778364          0.690217\n",
       "18          0.778364          0.690217\n",
       "23          0.778364          0.690217\n",
       "26          0.778364          0.690217\n",
       "27          0.778364          0.690217\n",
       "31          0.778364          0.690217\n",
       "36          0.778364          0.690217\n",
       "55          0.778364          0.690217\n",
       "58          0.778364          0.690217\n",
       "62          0.778364          0.690217\n",
       "65          0.778364          0.690217\n",
       "67          0.778364          0.690217"
      ]
     },
     "execution_count": 53,
     "metadata": {},
     "output_type": "execute_result"
    }
   ],
   "source": [
    "a[a.precision_1_test >= 0.69]"
   ]
  },
  {
   "cell_type": "code",
   "execution_count": 54,
   "metadata": {},
   "outputs": [
    {
     "data": {
      "text/plain": [
       "[11, 18, 23, 26, 27, 31, 36, 55, 58, 62, 65, 67]"
      ]
     },
     "execution_count": 54,
     "metadata": {},
     "output_type": "execute_result"
    }
   ],
   "source": [
    "b = a[a.precision_1_test >= 0.69]\n",
    "list(b.index)"
   ]
  },
  {
   "cell_type": "code",
   "execution_count": 55,
   "metadata": {
    "tags": []
   },
   "outputs": [
    {
     "name": "stdout",
     "output_type": "stream",
     "text": [
      "data\n",
      "test     [0.7783641160949868, 0.6902173913043478]\n",
      "train    [0.7830737037898163, 0.6551094890510949]\n",
      "Name: RF_2, dtype: object\n",
      "data\n",
      "test     [0.7783641160949868, 0.6902173913043478]\n",
      "train    [0.7830737037898163, 0.6551094890510949]\n",
      "Name: RF_26, dtype: object\n",
      "data\n",
      "test     [0.7783641160949868, 0.6902173913043478]\n",
      "train    [0.7830737037898163, 0.6551094890510949]\n",
      "Name: RF_30, dtype: object\n",
      "data\n",
      "test     [0.7783641160949868, 0.6902173913043478]\n",
      "train    [0.7830737037898163, 0.6551094890510949]\n",
      "Name: RF_33, dtype: object\n",
      "data\n",
      "test     [0.7783641160949868, 0.6902173913043478]\n",
      "train    [0.7830737037898163, 0.6551094890510949]\n",
      "Name: RF_34, dtype: object\n",
      "data\n",
      "test     [0.7783641160949868, 0.6902173913043478]\n",
      "train    [0.7830737037898163, 0.6551094890510949]\n",
      "Name: RF_38, dtype: object\n",
      "data\n",
      "test     [0.7783641160949868, 0.6902173913043478]\n",
      "train    [0.7830737037898163, 0.6551094890510949]\n",
      "Name: RF_42, dtype: object\n",
      "data\n",
      "test     [0.7783641160949868, 0.6902173913043478]\n",
      "train    [0.7830737037898163, 0.6551094890510949]\n",
      "Name: RF_6, dtype: object\n",
      "data\n",
      "test     [0.7783641160949868, 0.6902173913043478]\n",
      "train    [0.7830737037898163, 0.6551094890510949]\n",
      "Name: RF_62, dtype: object\n",
      "data\n",
      "test     [0.7783641160949868, 0.6902173913043478]\n",
      "train    [0.7830737037898163, 0.6551094890510949]\n",
      "Name: RF_66, dtype: object\n",
      "data\n",
      "test     [0.7783641160949868, 0.6902173913043478]\n",
      "train    [0.7830737037898163, 0.6551094890510949]\n",
      "Name: RF_69, dtype: object\n",
      "data\n",
      "test     [0.7783641160949868, 0.6902173913043478]\n",
      "train    [0.7830737037898163, 0.6551094890510949]\n",
      "Name: RF_70, dtype: object\n"
     ]
    }
   ],
   "source": [
    "c = df_report.pivot( index = 'model', columns = 'data', values= 'precision')\n",
    "for x in list(b.index):\n",
    "    d = c.iloc[x,:]\n",
    "    print(d)"
   ]
  },
  {
   "cell_type": "code",
   "execution_count": 56,
   "metadata": {
    "tags": []
   },
   "outputs": [
    {
     "name": "stdout",
     "output_type": "stream",
     "text": [
      "['RF_2', RandomForestClassifier(criterion='entropy', max_depth=3, n_estimators=2,\n",
      "                       random_state=80247)]\n",
      "['RF_26', RandomForestClassifier(criterion='entropy', max_depth=3, n_estimators=8,\n",
      "                       random_state=80247)]\n",
      "['RF_30', RandomForestClassifier(criterion='entropy', max_depth=3, n_estimators=9,\n",
      "                       random_state=80247)]\n",
      "['RF_33', RandomForestClassifier(criterion='entropy', max_depth=2, n_estimators=10,\n",
      "                       random_state=80247)]\n",
      "['RF_34', RandomForestClassifier(criterion='entropy', max_depth=3, n_estimators=10,\n",
      "                       random_state=80247)]\n",
      "['RF_38', RandomForestClassifier(max_depth=3, n_estimators=2, random_state=80247)]\n",
      "['RF_42', RandomForestClassifier(max_depth=3, n_estimators=3, random_state=80247)]\n",
      "['RF_6', RandomForestClassifier(criterion='entropy', max_depth=3, n_estimators=3,\n",
      "                       random_state=80247)]\n",
      "['RF_62', RandomForestClassifier(max_depth=3, n_estimators=8, random_state=80247)]\n",
      "['RF_66', RandomForestClassifier(max_depth=3, n_estimators=9, random_state=80247)]\n",
      "['RF_69', RandomForestClassifier(max_depth=2, n_estimators=10, random_state=80247)]\n",
      "['RF_70', RandomForestClassifier(max_depth=3, n_estimators=10, random_state=80247)]\n"
     ]
    }
   ],
   "source": [
    "y = [1,25,29,32,33,37,41,5,61,65,68,69]\n",
    "for x in y:\n",
    "    print(models[x])"
   ]
  },
  {
   "cell_type": "markdown",
   "metadata": {},
   "source": [
    "แบบจำลองที่ดีที่สุดคือ RF_33 และ RF_69 เพราะได้ precision ของการทำนาย Churn = 1 มากที่สุดหรือก็คือ precision ของการทำนายว่าลูกค้าคนนี้จะเลิกเป็นลูกค้าเรามากที่สุด โดยใช้ max_depth น้อยที่สุดเพื่อไม่ให้เจอปัญหา model overfitting และ n_estimators มากที่สุดเพื่อเพิ่ม model accuracy"
   ]
  },
  {
   "cell_type": "markdown",
   "metadata": {},
   "source": [
    "รายละเอียดแบบจำลองที่ดีที่สุดคือ"
   ]
  },
  {
   "cell_type": "code",
   "execution_count": 59,
   "metadata": {
    "tags": []
   },
   "outputs": [
    {
     "name": "stdout",
     "output_type": "stream",
     "text": [
      "['RF_33', RandomForestClassifier(criterion='entropy', max_depth=2, n_estimators=10,\n",
      "                       random_state=80247)]\n",
      "['RF_69', RandomForestClassifier(max_depth=2, n_estimators=10, random_state=80247)]\n"
     ]
    }
   ],
   "source": [
    "print(models[32])\n",
    "print(models[68])"
   ]
  },
  {
   "cell_type": "markdown",
   "metadata": {},
   "source": [
    "แสดงตาราง Classification Report ของทั้ง train และ test sample"
   ]
  },
  {
   "cell_type": "code",
   "execution_count": 61,
   "metadata": {
    "tags": []
   },
   "outputs": [
    {
     "data": {
      "text/html": [
       "<style>#sk-container-id-1 {color: black;}#sk-container-id-1 pre{padding: 0;}#sk-container-id-1 div.sk-toggleable {background-color: white;}#sk-container-id-1 label.sk-toggleable__label {cursor: pointer;display: block;width: 100%;margin-bottom: 0;padding: 0.3em;box-sizing: border-box;text-align: center;}#sk-container-id-1 label.sk-toggleable__label-arrow:before {content: \"▸\";float: left;margin-right: 0.25em;color: #696969;}#sk-container-id-1 label.sk-toggleable__label-arrow:hover:before {color: black;}#sk-container-id-1 div.sk-estimator:hover label.sk-toggleable__label-arrow:before {color: black;}#sk-container-id-1 div.sk-toggleable__content {max-height: 0;max-width: 0;overflow: hidden;text-align: left;background-color: #f0f8ff;}#sk-container-id-1 div.sk-toggleable__content pre {margin: 0.2em;color: black;border-radius: 0.25em;background-color: #f0f8ff;}#sk-container-id-1 input.sk-toggleable__control:checked~div.sk-toggleable__content {max-height: 200px;max-width: 100%;overflow: auto;}#sk-container-id-1 input.sk-toggleable__control:checked~label.sk-toggleable__label-arrow:before {content: \"▾\";}#sk-container-id-1 div.sk-estimator input.sk-toggleable__control:checked~label.sk-toggleable__label {background-color: #d4ebff;}#sk-container-id-1 div.sk-label input.sk-toggleable__control:checked~label.sk-toggleable__label {background-color: #d4ebff;}#sk-container-id-1 input.sk-hidden--visually {border: 0;clip: rect(1px 1px 1px 1px);clip: rect(1px, 1px, 1px, 1px);height: 1px;margin: -1px;overflow: hidden;padding: 0;position: absolute;width: 1px;}#sk-container-id-1 div.sk-estimator {font-family: monospace;background-color: #f0f8ff;border: 1px dotted black;border-radius: 0.25em;box-sizing: border-box;margin-bottom: 0.5em;}#sk-container-id-1 div.sk-estimator:hover {background-color: #d4ebff;}#sk-container-id-1 div.sk-parallel-item::after {content: \"\";width: 100%;border-bottom: 1px solid gray;flex-grow: 1;}#sk-container-id-1 div.sk-label:hover label.sk-toggleable__label {background-color: #d4ebff;}#sk-container-id-1 div.sk-serial::before {content: \"\";position: absolute;border-left: 1px solid gray;box-sizing: border-box;top: 0;bottom: 0;left: 50%;z-index: 0;}#sk-container-id-1 div.sk-serial {display: flex;flex-direction: column;align-items: center;background-color: white;padding-right: 0.2em;padding-left: 0.2em;position: relative;}#sk-container-id-1 div.sk-item {position: relative;z-index: 1;}#sk-container-id-1 div.sk-parallel {display: flex;align-items: stretch;justify-content: center;background-color: white;position: relative;}#sk-container-id-1 div.sk-item::before, #sk-container-id-1 div.sk-parallel-item::before {content: \"\";position: absolute;border-left: 1px solid gray;box-sizing: border-box;top: 0;bottom: 0;left: 50%;z-index: -1;}#sk-container-id-1 div.sk-parallel-item {display: flex;flex-direction: column;z-index: 1;position: relative;background-color: white;}#sk-container-id-1 div.sk-parallel-item:first-child::after {align-self: flex-end;width: 50%;}#sk-container-id-1 div.sk-parallel-item:last-child::after {align-self: flex-start;width: 50%;}#sk-container-id-1 div.sk-parallel-item:only-child::after {width: 0;}#sk-container-id-1 div.sk-dashed-wrapped {border: 1px dashed gray;margin: 0 0.4em 0.5em 0.4em;box-sizing: border-box;padding-bottom: 0.4em;background-color: white;}#sk-container-id-1 div.sk-label label {font-family: monospace;font-weight: bold;display: inline-block;line-height: 1.2em;}#sk-container-id-1 div.sk-label-container {text-align: center;}#sk-container-id-1 div.sk-container {/* jupyter's `normalize.less` sets `[hidden] { display: none; }` but bootstrap.min.css set `[hidden] { display: none !important; }` so we also need the `!important` here to be able to override the default hidden behavior on the sphinx rendered scikit-learn.org. See: https://github.com/scikit-learn/scikit-learn/issues/21755 */display: inline-block !important;position: relative;}#sk-container-id-1 div.sk-text-repr-fallback {display: none;}</style><div id=\"sk-container-id-1\" class=\"sk-top-container\"><div class=\"sk-text-repr-fallback\"><pre>RandomForestClassifier(bootstrap=False, criterion=&#x27;entropy&#x27;, max_depth=2,\n",
       "                       n_estimators=10, random_state=80247)</pre><b>In a Jupyter environment, please rerun this cell to show the HTML representation or trust the notebook. <br />On GitHub, the HTML representation is unable to render, please try loading this page with nbviewer.org.</b></div><div class=\"sk-container\" hidden><div class=\"sk-item\"><div class=\"sk-estimator sk-toggleable\"><input class=\"sk-toggleable__control sk-hidden--visually\" id=\"sk-estimator-id-1\" type=\"checkbox\" checked><label for=\"sk-estimator-id-1\" class=\"sk-toggleable__label sk-toggleable__label-arrow\">RandomForestClassifier</label><div class=\"sk-toggleable__content\"><pre>RandomForestClassifier(bootstrap=False, criterion=&#x27;entropy&#x27;, max_depth=2,\n",
       "                       n_estimators=10, random_state=80247)</pre></div></div></div></div></div>"
      ],
      "text/plain": [
       "RandomForestClassifier(bootstrap=False, criterion='entropy', max_depth=2,\n",
       "                       n_estimators=10, random_state=80247)"
      ]
     },
     "execution_count": 61,
     "metadata": {},
     "output_type": "execute_result"
    }
   ],
   "source": [
    "RForest= RandomForestClassifier(\n",
    "            criterion= 'entropy',\n",
    "            n_estimators= 10, #default = 100 #จำนวนต้นไม้\n",
    "            max_depth = 2,\n",
    "            random_state= 80247, #default = None\n",
    "            bootstrap = False #default = True\n",
    "            )\n",
    "models = RForest\n",
    "model = models\n",
    "model.fit(X_train,y_train)"
   ]
  },
  {
   "cell_type": "code",
   "execution_count": 62,
   "metadata": {
    "tags": []
   },
   "outputs": [
    {
     "name": "stdout",
     "output_type": "stream",
     "text": [
      "RF_33 train\n",
      "Classification Report = \n",
      "              precision    recall  f1-score   support\n",
      "\n",
      "           0     0.7831    0.9469    0.8572      3557\n",
      "           1     0.6551    0.2779    0.3902      1292\n",
      "\n",
      "    accuracy                         0.7686      4849\n",
      "   macro avg     0.7191    0.6124    0.6237      4849\n",
      "weighted avg     0.7490    0.7686    0.7328      4849\n",
      "\n",
      "\n"
     ]
    }
   ],
   "source": [
    "## Model selection metric \n",
    "cf_report = classification_report(y_train, model.predict(X_train),digits= 4)\n",
    "###  These two are equivalent.\n",
    "score = metrics.accuracy_score(y_train,model.predict(X_train))\n",
    "score = model.score(X_train,y_train)\n",
    "\n",
    "print('RF_33 train')\n",
    "print(f'Classification Report = \\n{cf_report}', end='\\n'*2)"
   ]
  },
  {
   "cell_type": "code",
   "execution_count": 63,
   "metadata": {
    "tags": []
   },
   "outputs": [
    {
     "name": "stdout",
     "output_type": "stream",
     "text": [
      "RF_33 test\n",
      "Classification Report = \n",
      "              precision    recall  f1-score   support\n",
      "\n",
      "           0     0.7784    0.9628    0.8608      1532\n",
      "           1     0.6902    0.2322    0.3475       547\n",
      "\n",
      "    accuracy                         0.7706      2079\n",
      "   macro avg     0.7343    0.5975    0.6041      2079\n",
      "weighted avg     0.7552    0.7706    0.7257      2079\n",
      "\n",
      "\n"
     ]
    }
   ],
   "source": [
    "## Model selection metric \n",
    "cf_report = classification_report(y_test, model.predict(X_test),digits= 4)\n",
    "###  These two are equivalent.\n",
    "score = metrics.accuracy_score(y_test,model.predict(X_test))\n",
    "score = model.score(X_test,y_test)\n",
    "\n",
    "print('RF_33 test')\n",
    "print(f'Classification Report = \\n{cf_report}', end='\\n'*2)"
   ]
  },
  {
   "cell_type": "code",
   "execution_count": 64,
   "metadata": {
    "tags": []
   },
   "outputs": [
    {
     "data": {
      "text/html": [
       "<style>#sk-container-id-2 {color: black;}#sk-container-id-2 pre{padding: 0;}#sk-container-id-2 div.sk-toggleable {background-color: white;}#sk-container-id-2 label.sk-toggleable__label {cursor: pointer;display: block;width: 100%;margin-bottom: 0;padding: 0.3em;box-sizing: border-box;text-align: center;}#sk-container-id-2 label.sk-toggleable__label-arrow:before {content: \"▸\";float: left;margin-right: 0.25em;color: #696969;}#sk-container-id-2 label.sk-toggleable__label-arrow:hover:before {color: black;}#sk-container-id-2 div.sk-estimator:hover label.sk-toggleable__label-arrow:before {color: black;}#sk-container-id-2 div.sk-toggleable__content {max-height: 0;max-width: 0;overflow: hidden;text-align: left;background-color: #f0f8ff;}#sk-container-id-2 div.sk-toggleable__content pre {margin: 0.2em;color: black;border-radius: 0.25em;background-color: #f0f8ff;}#sk-container-id-2 input.sk-toggleable__control:checked~div.sk-toggleable__content {max-height: 200px;max-width: 100%;overflow: auto;}#sk-container-id-2 input.sk-toggleable__control:checked~label.sk-toggleable__label-arrow:before {content: \"▾\";}#sk-container-id-2 div.sk-estimator input.sk-toggleable__control:checked~label.sk-toggleable__label {background-color: #d4ebff;}#sk-container-id-2 div.sk-label input.sk-toggleable__control:checked~label.sk-toggleable__label {background-color: #d4ebff;}#sk-container-id-2 input.sk-hidden--visually {border: 0;clip: rect(1px 1px 1px 1px);clip: rect(1px, 1px, 1px, 1px);height: 1px;margin: -1px;overflow: hidden;padding: 0;position: absolute;width: 1px;}#sk-container-id-2 div.sk-estimator {font-family: monospace;background-color: #f0f8ff;border: 1px dotted black;border-radius: 0.25em;box-sizing: border-box;margin-bottom: 0.5em;}#sk-container-id-2 div.sk-estimator:hover {background-color: #d4ebff;}#sk-container-id-2 div.sk-parallel-item::after {content: \"\";width: 100%;border-bottom: 1px solid gray;flex-grow: 1;}#sk-container-id-2 div.sk-label:hover label.sk-toggleable__label {background-color: #d4ebff;}#sk-container-id-2 div.sk-serial::before {content: \"\";position: absolute;border-left: 1px solid gray;box-sizing: border-box;top: 0;bottom: 0;left: 50%;z-index: 0;}#sk-container-id-2 div.sk-serial {display: flex;flex-direction: column;align-items: center;background-color: white;padding-right: 0.2em;padding-left: 0.2em;position: relative;}#sk-container-id-2 div.sk-item {position: relative;z-index: 1;}#sk-container-id-2 div.sk-parallel {display: flex;align-items: stretch;justify-content: center;background-color: white;position: relative;}#sk-container-id-2 div.sk-item::before, #sk-container-id-2 div.sk-parallel-item::before {content: \"\";position: absolute;border-left: 1px solid gray;box-sizing: border-box;top: 0;bottom: 0;left: 50%;z-index: -1;}#sk-container-id-2 div.sk-parallel-item {display: flex;flex-direction: column;z-index: 1;position: relative;background-color: white;}#sk-container-id-2 div.sk-parallel-item:first-child::after {align-self: flex-end;width: 50%;}#sk-container-id-2 div.sk-parallel-item:last-child::after {align-self: flex-start;width: 50%;}#sk-container-id-2 div.sk-parallel-item:only-child::after {width: 0;}#sk-container-id-2 div.sk-dashed-wrapped {border: 1px dashed gray;margin: 0 0.4em 0.5em 0.4em;box-sizing: border-box;padding-bottom: 0.4em;background-color: white;}#sk-container-id-2 div.sk-label label {font-family: monospace;font-weight: bold;display: inline-block;line-height: 1.2em;}#sk-container-id-2 div.sk-label-container {text-align: center;}#sk-container-id-2 div.sk-container {/* jupyter's `normalize.less` sets `[hidden] { display: none; }` but bootstrap.min.css set `[hidden] { display: none !important; }` so we also need the `!important` here to be able to override the default hidden behavior on the sphinx rendered scikit-learn.org. See: https://github.com/scikit-learn/scikit-learn/issues/21755 */display: inline-block !important;position: relative;}#sk-container-id-2 div.sk-text-repr-fallback {display: none;}</style><div id=\"sk-container-id-2\" class=\"sk-top-container\"><div class=\"sk-text-repr-fallback\"><pre>RandomForestClassifier(bootstrap=False, max_depth=2, n_estimators=10,\n",
       "                       random_state=80247)</pre><b>In a Jupyter environment, please rerun this cell to show the HTML representation or trust the notebook. <br />On GitHub, the HTML representation is unable to render, please try loading this page with nbviewer.org.</b></div><div class=\"sk-container\" hidden><div class=\"sk-item\"><div class=\"sk-estimator sk-toggleable\"><input class=\"sk-toggleable__control sk-hidden--visually\" id=\"sk-estimator-id-2\" type=\"checkbox\" checked><label for=\"sk-estimator-id-2\" class=\"sk-toggleable__label sk-toggleable__label-arrow\">RandomForestClassifier</label><div class=\"sk-toggleable__content\"><pre>RandomForestClassifier(bootstrap=False, max_depth=2, n_estimators=10,\n",
       "                       random_state=80247)</pre></div></div></div></div></div>"
      ],
      "text/plain": [
       "RandomForestClassifier(bootstrap=False, max_depth=2, n_estimators=10,\n",
       "                       random_state=80247)"
      ]
     },
     "execution_count": 64,
     "metadata": {},
     "output_type": "execute_result"
    }
   ],
   "source": [
    "RForest= RandomForestClassifier(\n",
    "            criterion= 'gini',\n",
    "            n_estimators= 10, #default = 100 #จำนวนต้นไม้\n",
    "            max_depth = 2,\n",
    "            random_state= 80247, #default = None\n",
    "            bootstrap = False #default = True\n",
    "            )\n",
    "models = RForest\n",
    "model = models\n",
    "model.fit(X_train,y_train)"
   ]
  },
  {
   "cell_type": "code",
   "execution_count": 65,
   "metadata": {
    "tags": []
   },
   "outputs": [
    {
     "name": "stdout",
     "output_type": "stream",
     "text": [
      "RF_69 train\n",
      "Classification Report = \n",
      "              precision    recall  f1-score   support\n",
      "\n",
      "           0     0.7831    0.9469    0.8572      3557\n",
      "           1     0.6551    0.2779    0.3902      1292\n",
      "\n",
      "    accuracy                         0.7686      4849\n",
      "   macro avg     0.7191    0.6124    0.6237      4849\n",
      "weighted avg     0.7490    0.7686    0.7328      4849\n",
      "\n",
      "\n"
     ]
    }
   ],
   "source": [
    "## Model selection metric \n",
    "cf_report = classification_report(y_train, model.predict(X_train),digits= 4)\n",
    "###  These two are equivalent.\n",
    "score = metrics.accuracy_score(y_train,model.predict(X_train))\n",
    "score = model.score(X_train,y_train)\n",
    "\n",
    "print('RF_69 train')\n",
    "print(f'Classification Report = \\n{cf_report}', end='\\n'*2)"
   ]
  },
  {
   "cell_type": "code",
   "execution_count": 66,
   "metadata": {
    "tags": []
   },
   "outputs": [
    {
     "name": "stdout",
     "output_type": "stream",
     "text": [
      "RF_69 test\n",
      "Classification Report = \n",
      "              precision    recall  f1-score   support\n",
      "\n",
      "           0     0.7784    0.9628    0.8608      1532\n",
      "           1     0.6902    0.2322    0.3475       547\n",
      "\n",
      "    accuracy                         0.7706      2079\n",
      "   macro avg     0.7343    0.5975    0.6041      2079\n",
      "weighted avg     0.7552    0.7706    0.7257      2079\n",
      "\n",
      "\n"
     ]
    }
   ],
   "source": [
    "## Model selection metric \n",
    "cf_report = classification_report(y_test, model.predict(X_test),digits= 4)\n",
    "###  These two are equivalent.\n",
    "score = metrics.accuracy_score(y_test,model.predict(X_test))\n",
    "score = model.score(X_test,y_test)\n",
    "\n",
    "print('RF_69 test')\n",
    "print(f'Classification Report = \\n{cf_report}', end='\\n'*2)"
   ]
  },
  {
   "cell_type": "markdown",
   "metadata": {},
   "source": [
    "หาตัวแปรคุณลักษณะ (Feature Variable) ที่ดีที่สุด 3 ตัวแปรแรก"
   ]
  },
  {
   "cell_type": "code",
   "execution_count": 68,
   "metadata": {
    "tags": []
   },
   "outputs": [
    {
     "data": {
      "text/html": [
       "<div>\n",
       "<style scoped>\n",
       "    .dataframe tbody tr th:only-of-type {\n",
       "        vertical-align: middle;\n",
       "    }\n",
       "\n",
       "    .dataframe tbody tr th {\n",
       "        vertical-align: top;\n",
       "    }\n",
       "\n",
       "    .dataframe thead th {\n",
       "        text-align: right;\n",
       "    }\n",
       "</style>\n",
       "<table border=\"1\" class=\"dataframe\">\n",
       "  <thead>\n",
       "    <tr style=\"text-align: right;\">\n",
       "      <th></th>\n",
       "      <th>TechSupport</th>\n",
       "      <th>InternetService</th>\n",
       "      <th>PaymentMethod</th>\n",
       "      <th>OnlineSecurity</th>\n",
       "      <th>DeviceProtection</th>\n",
       "      <th>OnlineBackup</th>\n",
       "    </tr>\n",
       "  </thead>\n",
       "  <tbody>\n",
       "    <tr>\n",
       "      <th>0</th>\n",
       "      <td>0.131890</td>\n",
       "      <td>0.000000</td>\n",
       "      <td>0.122412</td>\n",
       "      <td>0.368110</td>\n",
       "      <td>0.087861</td>\n",
       "      <td>0.289727</td>\n",
       "    </tr>\n",
       "    <tr>\n",
       "      <th>1</th>\n",
       "      <td>0.131890</td>\n",
       "      <td>0.000000</td>\n",
       "      <td>0.122412</td>\n",
       "      <td>0.368110</td>\n",
       "      <td>0.087861</td>\n",
       "      <td>0.289727</td>\n",
       "    </tr>\n",
       "    <tr>\n",
       "      <th>2</th>\n",
       "      <td>0.080558</td>\n",
       "      <td>0.054552</td>\n",
       "      <td>0.113230</td>\n",
       "      <td>0.439044</td>\n",
       "      <td>0.085956</td>\n",
       "      <td>0.226660</td>\n",
       "    </tr>\n",
       "    <tr>\n",
       "      <th>3</th>\n",
       "      <td>0.080558</td>\n",
       "      <td>0.054552</td>\n",
       "      <td>0.113230</td>\n",
       "      <td>0.439044</td>\n",
       "      <td>0.085956</td>\n",
       "      <td>0.226660</td>\n",
       "    </tr>\n",
       "    <tr>\n",
       "      <th>4</th>\n",
       "      <td>0.146531</td>\n",
       "      <td>0.078197</td>\n",
       "      <td>0.142956</td>\n",
       "      <td>0.343433</td>\n",
       "      <td>0.080979</td>\n",
       "      <td>0.207904</td>\n",
       "    </tr>\n",
       "    <tr>\n",
       "      <th>...</th>\n",
       "      <td>...</td>\n",
       "      <td>...</td>\n",
       "      <td>...</td>\n",
       "      <td>...</td>\n",
       "      <td>...</td>\n",
       "      <td>...</td>\n",
       "    </tr>\n",
       "    <tr>\n",
       "      <th>139</th>\n",
       "      <td>0.300674</td>\n",
       "      <td>0.066505</td>\n",
       "      <td>0.126576</td>\n",
       "      <td>0.333631</td>\n",
       "      <td>0.049463</td>\n",
       "      <td>0.123150</td>\n",
       "    </tr>\n",
       "    <tr>\n",
       "      <th>140</th>\n",
       "      <td>0.288346</td>\n",
       "      <td>0.096033</td>\n",
       "      <td>0.125414</td>\n",
       "      <td>0.341138</td>\n",
       "      <td>0.034223</td>\n",
       "      <td>0.114847</td>\n",
       "    </tr>\n",
       "    <tr>\n",
       "      <th>141</th>\n",
       "      <td>0.288346</td>\n",
       "      <td>0.096033</td>\n",
       "      <td>0.125414</td>\n",
       "      <td>0.341138</td>\n",
       "      <td>0.034223</td>\n",
       "      <td>0.114847</td>\n",
       "    </tr>\n",
       "    <tr>\n",
       "      <th>142</th>\n",
       "      <td>0.284505</td>\n",
       "      <td>0.118200</td>\n",
       "      <td>0.146460</td>\n",
       "      <td>0.292723</td>\n",
       "      <td>0.045088</td>\n",
       "      <td>0.113024</td>\n",
       "    </tr>\n",
       "    <tr>\n",
       "      <th>143</th>\n",
       "      <td>0.284505</td>\n",
       "      <td>0.118200</td>\n",
       "      <td>0.146460</td>\n",
       "      <td>0.292723</td>\n",
       "      <td>0.045088</td>\n",
       "      <td>0.113024</td>\n",
       "    </tr>\n",
       "  </tbody>\n",
       "</table>\n",
       "<p>144 rows × 6 columns</p>\n",
       "</div>"
      ],
      "text/plain": [
       "     TechSupport  InternetService  PaymentMethod  OnlineSecurity  \\\n",
       "0       0.131890         0.000000       0.122412        0.368110   \n",
       "1       0.131890         0.000000       0.122412        0.368110   \n",
       "2       0.080558         0.054552       0.113230        0.439044   \n",
       "3       0.080558         0.054552       0.113230        0.439044   \n",
       "4       0.146531         0.078197       0.142956        0.343433   \n",
       "..           ...              ...            ...             ...   \n",
       "139     0.300674         0.066505       0.126576        0.333631   \n",
       "140     0.288346         0.096033       0.125414        0.341138   \n",
       "141     0.288346         0.096033       0.125414        0.341138   \n",
       "142     0.284505         0.118200       0.146460        0.292723   \n",
       "143     0.284505         0.118200       0.146460        0.292723   \n",
       "\n",
       "     DeviceProtection  OnlineBackup  \n",
       "0            0.087861      0.289727  \n",
       "1            0.087861      0.289727  \n",
       "2            0.085956      0.226660  \n",
       "3            0.085956      0.226660  \n",
       "4            0.080979      0.207904  \n",
       "..                ...           ...  \n",
       "139          0.049463      0.123150  \n",
       "140          0.034223      0.114847  \n",
       "141          0.034223      0.114847  \n",
       "142          0.045088      0.113024  \n",
       "143          0.045088      0.113024  \n",
       "\n",
       "[144 rows x 6 columns]"
      ]
     },
     "execution_count": 68,
     "metadata": {},
     "output_type": "execute_result"
    }
   ],
   "source": [
    "e = pd.DataFrame(df_report.importantF.tolist(),columns= list(X.columns))\n",
    "e"
   ]
  },
  {
   "cell_type": "code",
   "execution_count": 69,
   "metadata": {},
   "outputs": [
    {
     "name": "stdout",
     "output_type": "stream",
     "text": [
      "RF_33\n"
     ]
    },
    {
     "data": {
      "text/html": [
       "<div>\n",
       "<style scoped>\n",
       "    .dataframe tbody tr th:only-of-type {\n",
       "        vertical-align: middle;\n",
       "    }\n",
       "\n",
       "    .dataframe tbody tr th {\n",
       "        vertical-align: top;\n",
       "    }\n",
       "\n",
       "    .dataframe thead th {\n",
       "        text-align: right;\n",
       "    }\n",
       "</style>\n",
       "<table border=\"1\" class=\"dataframe\">\n",
       "  <thead>\n",
       "    <tr style=\"text-align: right;\">\n",
       "      <th></th>\n",
       "      <th>TechSupport</th>\n",
       "      <th>InternetService</th>\n",
       "      <th>PaymentMethod</th>\n",
       "      <th>OnlineSecurity</th>\n",
       "      <th>DeviceProtection</th>\n",
       "      <th>OnlineBackup</th>\n",
       "    </tr>\n",
       "  </thead>\n",
       "  <tbody>\n",
       "    <tr>\n",
       "      <th>64</th>\n",
       "      <td>0.280082</td>\n",
       "      <td>0.076403</td>\n",
       "      <td>0.133173</td>\n",
       "      <td>0.381362</td>\n",
       "      <td>0.055496</td>\n",
       "      <td>0.073484</td>\n",
       "    </tr>\n",
       "    <tr>\n",
       "      <th>65</th>\n",
       "      <td>0.280082</td>\n",
       "      <td>0.076403</td>\n",
       "      <td>0.133173</td>\n",
       "      <td>0.381362</td>\n",
       "      <td>0.055496</td>\n",
       "      <td>0.073484</td>\n",
       "    </tr>\n",
       "  </tbody>\n",
       "</table>\n",
       "</div>"
      ],
      "text/plain": [
       "    TechSupport  InternetService  PaymentMethod  OnlineSecurity  \\\n",
       "64     0.280082         0.076403       0.133173        0.381362   \n",
       "65     0.280082         0.076403       0.133173        0.381362   \n",
       "\n",
       "    DeviceProtection  OnlineBackup  \n",
       "64          0.055496      0.073484  \n",
       "65          0.055496      0.073484  "
      ]
     },
     "execution_count": 69,
     "metadata": {},
     "output_type": "execute_result"
    }
   ],
   "source": [
    "print('RF_33')\n",
    "e.iloc[64:66,:]"
   ]
  },
  {
   "cell_type": "markdown",
   "metadata": {},
   "source": [
    "ตัวแปรคุณลักษณะ (Feature Variable) ที่ดีที่สุด 3 ตัวแปรแรกของแบบจำลอง RF_33 คือ OnlineSecurity, TechSupport และ PaymentMethod"
   ]
  },
  {
   "cell_type": "code",
   "execution_count": 71,
   "metadata": {
    "tags": []
   },
   "outputs": [
    {
     "name": "stdout",
     "output_type": "stream",
     "text": [
      "RF_69\n"
     ]
    },
    {
     "data": {
      "text/html": [
       "<div>\n",
       "<style scoped>\n",
       "    .dataframe tbody tr th:only-of-type {\n",
       "        vertical-align: middle;\n",
       "    }\n",
       "\n",
       "    .dataframe tbody tr th {\n",
       "        vertical-align: top;\n",
       "    }\n",
       "\n",
       "    .dataframe thead th {\n",
       "        text-align: right;\n",
       "    }\n",
       "</style>\n",
       "<table border=\"1\" class=\"dataframe\">\n",
       "  <thead>\n",
       "    <tr style=\"text-align: right;\">\n",
       "      <th></th>\n",
       "      <th>TechSupport</th>\n",
       "      <th>InternetService</th>\n",
       "      <th>PaymentMethod</th>\n",
       "      <th>OnlineSecurity</th>\n",
       "      <th>DeviceProtection</th>\n",
       "      <th>OnlineBackup</th>\n",
       "    </tr>\n",
       "  </thead>\n",
       "  <tbody>\n",
       "    <tr>\n",
       "      <th>136</th>\n",
       "      <td>0.337443</td>\n",
       "      <td>0.021852</td>\n",
       "      <td>0.117481</td>\n",
       "      <td>0.377899</td>\n",
       "      <td>0.023374</td>\n",
       "      <td>0.12195</td>\n",
       "    </tr>\n",
       "    <tr>\n",
       "      <th>137</th>\n",
       "      <td>0.337443</td>\n",
       "      <td>0.021852</td>\n",
       "      <td>0.117481</td>\n",
       "      <td>0.377899</td>\n",
       "      <td>0.023374</td>\n",
       "      <td>0.12195</td>\n",
       "    </tr>\n",
       "  </tbody>\n",
       "</table>\n",
       "</div>"
      ],
      "text/plain": [
       "     TechSupport  InternetService  PaymentMethod  OnlineSecurity  \\\n",
       "136     0.337443         0.021852       0.117481        0.377899   \n",
       "137     0.337443         0.021852       0.117481        0.377899   \n",
       "\n",
       "     DeviceProtection  OnlineBackup  \n",
       "136          0.023374       0.12195  \n",
       "137          0.023374       0.12195  "
      ]
     },
     "execution_count": 71,
     "metadata": {},
     "output_type": "execute_result"
    }
   ],
   "source": [
    "print('RF_69')\n",
    "e.iloc[136:138,:]"
   ]
  },
  {
   "cell_type": "markdown",
   "metadata": {
    "tags": []
   },
   "source": [
    "ตัวแปรคุณลักษณะ (Feature Variable) ที่ดีที่สุด 3 ตัวแปรแรกของแบบจำลอง RF_69 คือ OnlineSecurity, TechSupport และ PaymentMethod"
   ]
  }
 ],
 "metadata": {
  "kernelspec": {
   "display_name": "Python 3 (ipykernel)",
   "language": "python",
   "name": "python3"
  },
  "language_info": {
   "codemirror_mode": {
    "name": "ipython",
    "version": 3
   },
   "file_extension": ".py",
   "mimetype": "text/x-python",
   "name": "python",
   "nbconvert_exporter": "python",
   "pygments_lexer": "ipython3",
   "version": "3.11.5"
  }
 },
 "nbformat": 4,
 "nbformat_minor": 4
}
